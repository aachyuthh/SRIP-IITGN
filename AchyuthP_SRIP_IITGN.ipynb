{
  "nbformat": 4,
  "nbformat_minor": 0,
  "metadata": {
    "colab": {
      "name": "AchyuthP_SRIP_IITGN.ipynb",
      "provenance": [],
      "collapsed_sections": [
        "ymDM4wT9LFHJ",
        "x_yrac6R1FnU",
        "Jhd96f7LiLmD"
      ],
      "authorship_tag": "ABX9TyOeZPxpx3MSaUDvD2vtielc",
      "include_colab_link": true
    },
    "kernelspec": {
      "name": "python3",
      "display_name": "Python 3"
    },
    "language_info": {
      "name": "python"
    },
    "widgets": {
      "application/vnd.jupyter.widget-state+json": {
        "8c239b2247394fdab4238f4df5e3171b": {
          "model_module": "@jupyter-widgets/controls",
          "model_name": "FloatSliderModel",
          "model_module_version": "1.5.0",
          "state": {
            "_dom_classes": [],
            "_model_module": "@jupyter-widgets/controls",
            "_model_module_version": "1.5.0",
            "_model_name": "FloatSliderModel",
            "_view_count": null,
            "_view_module": "@jupyter-widgets/controls",
            "_view_module_version": "1.5.0",
            "_view_name": "FloatSliderView",
            "continuous_update": true,
            "description": "Mean",
            "description_tooltip": null,
            "disabled": false,
            "layout": "IPY_MODEL_02a435fed88a4df880cd97058bded85a",
            "max": 3,
            "min": -3,
            "orientation": "horizontal",
            "readout": true,
            "readout_format": ".2f",
            "step": 0.1,
            "style": "IPY_MODEL_36c23e446be84ea7902f6c645a76cc80",
            "value": 1.5
          }
        },
        "02a435fed88a4df880cd97058bded85a": {
          "model_module": "@jupyter-widgets/base",
          "model_name": "LayoutModel",
          "model_module_version": "1.2.0",
          "state": {
            "_model_module": "@jupyter-widgets/base",
            "_model_module_version": "1.2.0",
            "_model_name": "LayoutModel",
            "_view_count": null,
            "_view_module": "@jupyter-widgets/base",
            "_view_module_version": "1.2.0",
            "_view_name": "LayoutView",
            "align_content": null,
            "align_items": null,
            "align_self": null,
            "border": null,
            "bottom": null,
            "display": null,
            "flex": null,
            "flex_flow": null,
            "grid_area": null,
            "grid_auto_columns": null,
            "grid_auto_flow": null,
            "grid_auto_rows": null,
            "grid_column": null,
            "grid_gap": null,
            "grid_row": null,
            "grid_template_areas": null,
            "grid_template_columns": null,
            "grid_template_rows": null,
            "height": null,
            "justify_content": null,
            "justify_items": null,
            "left": null,
            "margin": null,
            "max_height": null,
            "max_width": null,
            "min_height": null,
            "min_width": null,
            "object_fit": null,
            "object_position": null,
            "order": null,
            "overflow": null,
            "overflow_x": null,
            "overflow_y": null,
            "padding": null,
            "right": null,
            "top": null,
            "visibility": null,
            "width": null
          }
        },
        "36c23e446be84ea7902f6c645a76cc80": {
          "model_module": "@jupyter-widgets/controls",
          "model_name": "SliderStyleModel",
          "model_module_version": "1.5.0",
          "state": {
            "_model_module": "@jupyter-widgets/controls",
            "_model_module_version": "1.5.0",
            "_model_name": "SliderStyleModel",
            "_view_count": null,
            "_view_module": "@jupyter-widgets/base",
            "_view_module_version": "1.2.0",
            "_view_name": "StyleView",
            "description_width": "",
            "handle_color": null
          }
        },
        "8fd9688023bc42e5a029770316f23e60": {
          "model_module": "@jupyter-widgets/controls",
          "model_name": "FloatSliderModel",
          "model_module_version": "1.5.0",
          "state": {
            "_dom_classes": [],
            "_model_module": "@jupyter-widgets/controls",
            "_model_module_version": "1.5.0",
            "_model_name": "FloatSliderModel",
            "_view_count": null,
            "_view_module": "@jupyter-widgets/controls",
            "_view_module_version": "1.5.0",
            "_view_name": "FloatSliderView",
            "continuous_update": true,
            "description": "Variance",
            "description_tooltip": null,
            "disabled": false,
            "layout": "IPY_MODEL_28921acdaed944ad8d29f1db08429ce8",
            "max": 2,
            "min": 0,
            "orientation": "horizontal",
            "readout": true,
            "readout_format": ".2f",
            "step": 0.1,
            "style": "IPY_MODEL_7b0f35a62a614070bb4ed11c5716fe92",
            "value": 0.8
          }
        },
        "28921acdaed944ad8d29f1db08429ce8": {
          "model_module": "@jupyter-widgets/base",
          "model_name": "LayoutModel",
          "model_module_version": "1.2.0",
          "state": {
            "_model_module": "@jupyter-widgets/base",
            "_model_module_version": "1.2.0",
            "_model_name": "LayoutModel",
            "_view_count": null,
            "_view_module": "@jupyter-widgets/base",
            "_view_module_version": "1.2.0",
            "_view_name": "LayoutView",
            "align_content": null,
            "align_items": null,
            "align_self": null,
            "border": null,
            "bottom": null,
            "display": null,
            "flex": null,
            "flex_flow": null,
            "grid_area": null,
            "grid_auto_columns": null,
            "grid_auto_flow": null,
            "grid_auto_rows": null,
            "grid_column": null,
            "grid_gap": null,
            "grid_row": null,
            "grid_template_areas": null,
            "grid_template_columns": null,
            "grid_template_rows": null,
            "height": null,
            "justify_content": null,
            "justify_items": null,
            "left": null,
            "margin": null,
            "max_height": null,
            "max_width": null,
            "min_height": null,
            "min_width": null,
            "object_fit": null,
            "object_position": null,
            "order": null,
            "overflow": null,
            "overflow_x": null,
            "overflow_y": null,
            "padding": null,
            "right": null,
            "top": null,
            "visibility": null,
            "width": null
          }
        },
        "7b0f35a62a614070bb4ed11c5716fe92": {
          "model_module": "@jupyter-widgets/controls",
          "model_name": "SliderStyleModel",
          "model_module_version": "1.5.0",
          "state": {
            "_model_module": "@jupyter-widgets/controls",
            "_model_module_version": "1.5.0",
            "_model_name": "SliderStyleModel",
            "_view_count": null,
            "_view_module": "@jupyter-widgets/base",
            "_view_module_version": "1.2.0",
            "_view_name": "StyleView",
            "description_width": "",
            "handle_color": null
          }
        },
        "30b98215d60146919590bb9613ee2845": {
          "model_module": "@jupyter-widgets/controls",
          "model_name": "VBoxModel",
          "model_module_version": "1.5.0",
          "state": {
            "_dom_classes": [
              "widget-interact"
            ],
            "_model_module": "@jupyter-widgets/controls",
            "_model_module_version": "1.5.0",
            "_model_name": "VBoxModel",
            "_view_count": null,
            "_view_module": "@jupyter-widgets/controls",
            "_view_module_version": "1.5.0",
            "_view_name": "VBoxView",
            "box_style": "",
            "children": [
              "IPY_MODEL_8c239b2247394fdab4238f4df5e3171b",
              "IPY_MODEL_8fd9688023bc42e5a029770316f23e60",
              "IPY_MODEL_6988d3ba2a524174a3b4271b24110cb6"
            ],
            "layout": "IPY_MODEL_a3ad6b58e9aa411bb6cc96f0a2724410"
          }
        },
        "6988d3ba2a524174a3b4271b24110cb6": {
          "model_module": "@jupyter-widgets/output",
          "model_name": "OutputModel",
          "model_module_version": "1.0.0",
          "state": {
            "_dom_classes": [],
            "_model_module": "@jupyter-widgets/output",
            "_model_module_version": "1.0.0",
            "_model_name": "OutputModel",
            "_view_count": null,
            "_view_module": "@jupyter-widgets/output",
            "_view_module_version": "1.0.0",
            "_view_name": "OutputView",
            "layout": "IPY_MODEL_c595dc22ce694325b4a4edcc378bf162",
            "msg_id": "",
            "outputs": [
              {
                "output_type": "display_data",
                "data": {
                  "text/plain": "<Figure size 432x288 with 1 Axes>",
                  "image/png": "iVBORw0KGgoAAAANSUhEUgAAAXQAAAD4CAYAAAD8Zh1EAAAABHNCSVQICAgIfAhkiAAAAAlwSFlzAAALEgAACxIB0t1+/AAAADh0RVh0U29mdHdhcmUAbWF0cGxvdGxpYiB2ZXJzaW9uMy4yLjIsIGh0dHA6Ly9tYXRwbG90bGliLm9yZy+WH4yJAAAgAElEQVR4nO3deXRc5Zkm8OetKqm0l3bLWmzJ8oYk77LDvoSl7aTbZI85YZps7clCQp+kM006M0wPOdOnk/QhTU+YHphsPUloDhCSkMSEAA0kBAyWNyxZXoVsbdZia7XWqnrnj6oyQkhWSSrVd++t5/ePVVXXdZ+yrcdX33fvd0VVQURE9ucyHYCIiGKDhU5E5BAsdCIih2ChExE5BAudiMghPKZ2nJ+fr+Xl5aZ2T0RkS/v37+9R1YLpXjNW6OXl5airqzO1eyIiWxKRMzO9xiEXIiKHYKETETkEC52IyCFY6EREDsFCJyJyCBY6EZFDsNCJiBzC2HnoRBSdiUAQe450oOXCMMpy07C9pghej9t0LLIgFjqRhZ3sHMTun+zHWz0XLz1Xkp2KH3yyFmuLsgwmIyvikAuRRZ3uHsKuR/ZiaMyPH9xVi2Pf3I5/+/Q2+INBfPRfX8OJzkHTEcliWOhEFjTuD+LuRw9CATy2+0rcfMUSpCS5ccPqAjz1hWvgTXLhiz87gOFxv+moZCEsdCIL+t6Lp9DYMYBvfXg9Kgsy3vFaSXYqHty1Cae6h/Dg8ycNJSQrYqETWUznwCge+cNp7NxQjFurlky7zTUr8/GhTaX40Z+a0XJhOM4JyapY6EQW8y8vnIQ/oPib29Zcdruv/dkauF2CB547EadkZHUsdCIL6R4cwxN1rfj41jIsy0u77LZFvhTcsW0Zfn24He19I3FKSFbGQieykEdfP4vxQBCfubYiqu0/dU05FMCPX21e1FxkDyx0IosY9wfx09fP4MY1BVgxZSJ0JpELjR574yxGJwKLnJCsjoVOZBEvHe9C9+AY/vKq5XP6fXdsXYaBUT9+f7RzkZKRXbDQiSziqQNtyM/w4vpV094uckZXV+ahJDsVT9S1LFIysgsWOpEF9A2P44Vjnbh9YzE87rl9W7pcgg9vLsErp3rQOTC6SAnJDljoRBbwTP05TAQUH9xUMq/fv3NjMVSBZ450xDgZ2QkLncgCnqk/h+V5aagunt+CWysLM7F6SQb2HDkX42RkJyx0IsP6Rybw6qkebK8pgojM+33et24p9p25gC4OuyQsFjqRYS80dsIfVGyvLlrQ+7xv3VKoAs83dsUoGdkNC53IsOcbO7Eky4sNpdkLep9VhRkoy03Ffxzj6YuJKqpCF5HtInJcRE6JyL2X2e7DIqIiUhu7iETONREI4o8nenDTmkK4XPMfbgEAEcHNa5fglVM9vMgoQc1a6CLiBvAQgB0AqgDcISJV02yXCeAeAK/HOiSRUx0404vBMT9uXFMYk/e7aW0hRieCeO30+Zi8H9lLNEfo2wCcUtUmVR0H8BiA26fZ7psAvgWAMzJEUXrxeDeS3IJrVubF5P3eU5GL1CQ3XjrOcfREFE2hlwCYfAlaa/i5S0RkM4AyVf1tDLMROd7LJ7qxZXkOMlOSYvJ+KUlubK3IxWtNPEJPRAueFBURF4AHAHw1im13i0idiNR1d3cvdNdEttZ7cRyNHQO4pjI/pu97dWUeTnQOoWuQPywnmmgKvQ1A2aTHpeHnIjIB1AB4SUSaAVwJ4OnpJkZV9RFVrVXV2oKCua1XQeQ0r78VOoq+qjI2wy0RV4ffj+PoiSeaQt8HYJWIVIhIMoBdAJ6OvKiq/aqar6rlqloOYC+AnapatyiJiRzitdPnkZrkxvoFnq44VXWxD5kpHhZ6Apq10FXVD+BuAM8CaATwuKo2iMj9IrJzsQMSOdVrTedRW56DZE9sLwdxuwRXrsjDqyz0hOOJZiNV3QNgz5Tn7pth2xsXHovI2XqGxnCicwgfmOdiXLO5ujIPzx3tRMuFYZTlXv5WduQcvFKUyIC94bNQrloR2/HziKvDE6082yWxsNCJDNjbdB4ZXg/WlfgW5f1XL8lAfkYyx9ETDAudyIDXTp/H1vKcOd/MIloigqsq8/Hq6R6o6qLsg6yHhU4UZ12DozjdfTHmpytOta0iF50DY2jtHVnU/ZB1sNCJ4qyuuRcAsK1icQt987LQ6ZAHzvYu6n7IOljoRHG2/0wvvB4XqpbO7+5E0VqzJBPpyW7sP8NCTxQsdKI4O3C2F+tLfTE//3wqj9uFjcuyWegJhIVOFEdj/gAa2gaweVlOXPa3ZVkOGjsGcHHMH5f9kVksdKI4qm8bwHggiE1xKvTNy3MQVOBwS19c9kdmsdCJ4uhgeIJy8/LYrt8yk8h/HBx2SQwsdKI4OnC2F6U5qSjMTInL/nypSVi9JAP7eaZLQmChE8WJqmL/md64jZ9HbFmeg4Nn+xAM8gIjp2OhE8VJe/8oOgfGLp0fHi+bl+Wgf2QCTT1Dcd0vxR8LnShODpyJjJ/H/wgd4Dh6ImChE8XJgbO9SEly4YpFvqBoqor8dGSleHC4tT+u+6X4Y6ETxcmR1n7UFPuQtEgLcs1ERLC+NBtvtvLURadjoRPFQSCoONoxgJpFWi53NutKfTjWMYjRiYCR/VN8sNCJ4uCtnosYHg+guji+wy0RG0p98AcVjR0DRvZP8cFCJ4qDhvbQ+LWpI/TIjajf5Di6o7HQieKgoX0AyR4XVhZmGNn/Ul8K8jO8OMxxdEdjoRPFQX1bP9YWZcZ9QjRCRLCh1McjdIdjoRMtMlVFfVs/qovNDLdErC/NxunuIQxx5UXHYqETLbLW3hEMjPpRU2JmQjRifZkPqqHTJ8mZWOhEi+zShKjpI/TwhCzPR3cuFjrRIqtvG4DbJVhTlGk0R16GFyXZqRxHdzAWOtEiq2/vx6rCDKQkuU1HwYYyH890cTAWOtEiq28bMD4hGlFT4kNr7wj6hydMR6FFwEInWkRdA6PoGRozPiEaEfmPpaGDwy5OxEInWkT1hq8QnSqy9EBDG5cAcCIWOtEiqm8bgAjivmTuTPIzvFjqS7l05g05CwudaBHVt/WjIi8dGV6P6SiXVBdnob6dR+hOxEInWkQN7QOotshwS0R1sQ+nu4cwPM4rRp2GhU60SHovjqOtbwQ1hpbMnUlNSeiK0caOQdNRKMZY6ESLpCE8rGGVUxYjLk2MchzdcVjoRIskcoaLqZtazGSpLwW56cmob2OhOw0LnWiR1Lf1oyQ7FTnpyaajvIOIoLo469JPEOQcURW6iGwXkeMickpE7p3m9c+JyBEROSQir4hIVeyjEtnL0fYBy1xQNFV1sQ8nOgcx7g+ajkIxNGuhi4gbwEMAdgCoAnDHNIX9qKquU9WNAL4N4IGYJyWykcHRCTT1XLTc+HlETUkWJgKKE52cGHWSaI7QtwE4papNqjoO4DEAt0/eQFUn/+yWDkBjF5HIfiJnkFj1CD2ylC8nRp0lmkIvAdAy6XFr+Ll3EJEvishphI7QvzzdG4nIbhGpE5G67u7u+eQlsoXIhKPpNdBnsiw3DRleD+q5BICjxGxSVFUfUtVKAH8L4L/OsM0jqlqrqrUFBQWx2jWR5TS0D6Ag04vCrBTTUablcgmqirN4hO4w0RR6G4CySY9Lw8/N5DEAH1hIKCK7a2jvt9wFRVPVFPtwtGMAgSBHSJ0imkLfB2CViFSISDKAXQCenryBiKya9PD9AE7GLiKRvYxOBHCya8iyE6IR1cVZGJ0Ioql7yHQUipFZVwxSVb+I3A3gWQBuAD9U1QYRuR9Anao+DeBuEbkFwASAXgB3LWZoIis7dm4QgaBadkI0IrKkb0P7AFYtMXt7PIqNqJaAU9U9APZMee6+SV/fE+NcRLbVcOkKUWsfoVcWpMPrcaG+rR8f2PSu8xzIhnilKFGM1bcNwJeahNKcVNNRLsvjdmHtUl4x6iQsdKIYa2jvR3VxFkTEdJRZVYfPdFHlxKgTsNCJYmgiEMSxjkHL3HJuNtXFWRgY9aO1d8R0FIoBFjpRDJ3sHMJ4IGi5FRZnUs0rRh2FhU4UQw0Wuyn0bNYWZcLtEo6jOwQLnSiGGtoHkJbsRkVeuukoUUlJcmNlQQYL3SFY6EQxVN/Wj6qlWXC5rD8hGlFdnMWbXTgEC50oRgJBxdGOAdsMt0RUFWeha3AM3YNjpqPQArHQiWKk+fxFDI8HbDMhGvH2FaM8Src7FjpRjFxaMteGR+gAOI7uACx0ohhpaB9AsseFlYUZpqPMSVZKEpblpvEI3QFY6EQxUt/Wj7VFmUhy2+/bqqaESwA4gf3+5RFZkKqioX3A8gtyzaS62Icz54cxMDphOgotAAudKAZae0fQPzJh+SVzZxIZRz/Ko3RbY6ETxYBdlsydSTUnRh2BhU4UA/VtA3C7BGuL7HmjiMLMFBRmejkxanMsdKIYqG/vx6rCDKQkuU1Hmbfq4iwOudgcC50oBuw8IRpRXezDya4hjE4ETEeheWKhEy1Q18AougfHbHeF6FTVxVkIBBXHzw2ajkLzxEInWqB6my2ZO5PJN40me2KhEy1QfVuoAKtsfoRempOKrBQPJ0ZtjIVOtEAN7f1YkZ+ODK/HdJQFERFUFWehnkfotsVCJ1qg+rYBVNt8uCWiptiHYx0D8AeCpqPQPLDQiRag9+I42vpGbD8hGlFdkoUxfxBNPRdNR6F5YKETLUBkArHG5qcsRvCm0fbGQidagLcv+XfGEfqK/HR4Pa5LE71kLyx0ogU40taPkuxU5KQnm44SEx63C1cszeIRuk2x0IkWoL6t37YrLM6kuji0Nrqqmo5Cc8RCJ5qngdEJNJ8fxvrSbNNRYqq62IfBUT9aLoyYjkJzxEInmie73kN0Nm8vpcthF7thoRPN05HWUOGtc1ihrynKhNslXALAhljoRPMUmRDNdciEaERKkhurCjN4hG5DLHSieapv63fc0XkElwCwJxY60Tz0j4QmRNeVOrPQq4t96B4cQ9fgqOkoNAcsdKJ5aHDohGhEDe8xaktRFbqIbBeR4yJySkTuneb1r4jIURF5U0ReEJHlsY9KZB1H2pw5IRoRWQqYt6Szl1kLXUTcAB4CsANAFYA7RKRqymYHAdSq6noATwL4dqyDElmJUydEIzJTkrA8L+3SqZlkD9EcoW8DcEpVm1R1HMBjAG6fvIGqvqiqw+GHewGUxjYmkbUccfCEaERNse/S3ZjIHqIp9BIALZMet4afm8lnADwz3QsisltE6kSkrru7O/qURBbSPzKBMw6eEI1YX+pDy4URXLg4bjoKRSmmk6IicieAWgDfme51VX1EVWtVtbagoCCWuyaKmwaHj59HbCgLLWlwuLXPcBKKVjSF3gagbNLj0vBz7yAitwD4BoCdqjoWm3hE1vNmghT6uhIfXAIcbmGh20U0hb4PwCoRqRCRZAC7ADw9eQMR2QTgYYTKvCv2MYms40hbP0pznLNk7kzSvR6sKsxkodvIrIWuqn4AdwN4FkAjgMdVtUFE7heRneHNvgMgA8ATInJIRJ6e4e2IbM/JV4hOtaHMh8Ot/VxK1yaiuk25qu4BsGfKc/dN+vqWGOcisqT+4dCE6Mdqy2bf2AHWl2bj8bpWtPaOoCw3zXQcmgWvFCWag8hpfIlyhL4xPDF6iMMutsBCJ5qDSLGtd/gpixFrijKR7HHhTZ7pYgssdKI5ONTShxX56chOc/aEaESS24Wa4iwcbuEFRnbAQieKkqri4Nm+S8MQiWJDWTaOtPXDHwiajkKzYKETRamtbwQ9Q2PYuCyxCn1jWTZGJgI42TVkOgrNgoVOFKXI+HnCHaGHb4LN89Gtj4VOFKVDZ/vg9biwtijLdJS4Wp6XBl9qEpcAsAEWOlGUDrb0oabEh2RPYn3biAjWl/pwiBOjlpdY/zKJ5mkiEER9W3/CDbdEbCzLxonOQYyMB0xHoctgoRNF4VjHIMb8wYQt9A2l2QgEFQ1cH93SWOhEUTjY0gsA2JRgZ7hErC8LXUjFK0atjYVOFIVDZ/uQn+FFSXaq6ShGFGamoDQnFfvP9JqOQpfBQieKwoGzvdi0LBsiYjqKMbXLc1B3ppcrL1oYC51oFt2DY2g+P4yt5Tmmoxi1pTwX3YNjaLkwYjoKzYCFTjSL/WcuAAC2LM81nMSs2uWh/9Dqwn8eZD0sdKJZ7GvuhdfjQk1JYl1QNNXqJZnI9HpQx3F0y2KhE82irvkCNpRlw+txm45ilNsl2LQ8B/ubWehWxUInuozhcT/q2wcSfvw8onZ5Dk50DaJ/eMJ0FJoGC53oMg619CEQVNSWJ/b4eURteQ5UQ2f9kPWw0Ikuo665FyLA5mU8QgdCSwC4XcKJUYtioRNdxr7mC1izJBO+1CTTUSwhLdmD6uIs1HEc3ZJY6EQzCARDdyiq5fj5O9Quz8Whlj6M+blQl9Ww0Ilm0NgxgKExP2oT/Pzzqd6zIhdj/iDvM2pBLHSiGextOg8gVGD0tisr8iACvHb6vOkoNAULnWgGr54+jxX56VjqS8wFuWbiS0tC1dIsvNbUYzoKTcFCJ5qGPxDEG29dwFWVeaajWNJVK/Jw4GwfRic4jm4lLHSiaRxp68fQmB9XV+abjmJJV1XmYdwf5PnoFsNCJ5rGq+Hx4Ss5fj6trRW5cAmwl+PolsJCJ5rG3qbzWFuUibwMr+kolpSVkoR1JT681sRCtxIWOtEUY/4A9jVz/Hw2V1bm4VBLH28cbSEsdKIpDp3tw+hEkOPns7hqRR4mAsplACyEhU40xaunz8MlwLYKjp9fztbyXCS5Ba+c5OmLVsFCJ5rilVM9WFfi4/ots0j3erC1PBcvHe82HYXCWOhEk/QNj+Pg2V7csKbQdBRbuGF1AY53DqKjn/cZtQIWOtEkfzjZg6ACN60pMB3FFm4M/8f3Mo/SLSGqQheR7SJyXEROici907x+vYgcEBG/iHwk9jGJ4uOlY13ISUvC+tJs01FsYfWSDBRlpeDlEyx0K5i10EXEDeAhADsAVAG4Q0Sqpmx2FsAnATwa64BE8RIMKl4+0Y0bVhfA7RLTcWxBRHDjmgK8crIHE4Gg6TgJL5oj9G0ATqlqk6qOA3gMwO2TN1DVZlV9EwD/Rsm2jrT14/zF8UvDCBSdG1YXYHDMj4Nn+0xHSXjRFHoJgJZJj1vDzxE5yovHuyACXL+a4+dzcc2qfLhdgpeOd5mOkvDiOikqIrtFpE5E6rq7OeZG1vLS8W5sLMtGbnqy6Si2kpWShC3LcvAiJ0aNi6bQ2wCUTXpcGn5uzlT1EVWtVdXaggIeBZF19AyN4XBrH25czeGW+bilqhCNHQNouTBsOkpCi6bQ9wFYJSIVIpIMYBeApxc3FlF8PXe0E6rArVVLTEexpe3VSwEAzzacM5wksc1a6KrqB3A3gGcBNAJ4XFUbROR+EdkJACKyVURaAXwUwMMi0rCYoYlibc+RDpTnpeGKpZmmo9jSsrw0VC3NwjP1LHSTPNFspKp7AOyZ8tx9k77eh9BQDJHt9F4cx6unz+OvrlsBEZ6uOF/ba4rwwHMn0DUwisKsFNNxEhKvFKWE91xjJwJBxfvWFZmOYmvba0J/fs8e7TScJHGx0Cnh/a7+HEqyU7GuxGc6iq2tKszAioJ0PMthF2NY6JTQBkYn8MeT3dhRU8ThlgUSEWyvLsJrTefRNzxuOk5CYqFTQnuhsRMTAcWOdUtNR3GEHTVLEQgqJ0cNYaFTQvvVoXYs9aVgUxkX44qFmpIsVBak4+f7W01HSUgsdEpY5/pH8YcT3fjQ5hK4uBhXTIgIPrylFHVnetHcc9F0nITDQqeE9YuDbQgq8JEtZbNvTFH74KYSiABPHZzXBeW0ACx0Skiqiif2t2BreQ4q8tNNx3GUpb5UXLsyH08daEUwqKbjJBQWOiWkgy19aOq+iI9s4fVwi+FDm0vQ2juCN5ovmI6SUFjolJCeqGtFapIb719fbDqKI/1ZdRHSk914kpOjccVCp4RzccyP3xxux46aImR4o1r9guYoLdmDnRtL8OvD7bhwkeekxwsLnRLOk/tbMTjmxyeuXG46iqN98upyjPmDeGzfWdNREgYLnRJKMKj40Z/ewsaybGxZnmM6jqOtKcrENSvz8JPXzvB+o3HCQqeE8sKxLjSfH8Znrq0wHSUhfOrqCnT0j3Kd9DhhoVNC+cErTSj2pWBHDVdWjIeb1hZiWW4afvynZtNREgILnRJGQ3s/9jZdwF1Xl8Pj5j/9eHC7BHddXY66M73Yf6bXdBzH479qShj/64VTyPB6sGvbMtNREsqurWXIS0/Gd587YTqK47HQKSEcbunD7xrO4bPXVcCXmmQ6TkJJ93rw+Rsr8cqpHuxtOm86jqOx0Ckh/NPvjyM3PRmfvW6F6SgJ6c4rl6Mw04sHfn8CqlwOYLGw0MnxXj3dgz+e7MEXbqzkhUSGpCS5cfd7V+KN5gv448ke03Eci4VOjhYMKr71u+NY6kvBnbyQyKiPby1DSXYq/mFPI89LXyQsdHK0R984i8Mtffib29YgJcltOk5C83rcuO8vqnDs3CB+9Ke3TMdxJBY6OVbnwCi+9cwxXF2Zhw9tLjEdhwDcVrUEt1xRiO8+dxJtfSOm4zgOC50c63/8ugHjgSD+4YPreANoixAR/P3OagDAf/9VAydIY4yFTo702zc7sOfIOXz55lUo5w0sLKU0Jw1/fcsqPN/YicfrWkzHcRQWOjnO6e4h/O3P38TGsmz8FU9TtKTPXrcC167Mx32/asCxcwOm4zgGC50cZXjcj8//dD+SPS78709sRrKH/8StyO0SfPfjG5GVmoQv/OwALo75TUdyBP5rJ8cIBBVfe+JNnOwawoO7NqI4O9V0JLqMgkwv/mXXJjT3XMSX//0gT2WMARY6OYKq4hu/OILfHunA13esxXWrCkxHoihcVZmHb36gBi8c68LXnjjMm0ovEC+bI9tTVdz/m6N4bF8LvvTeldh9faXpSDQHn3jPcvQNT+A7zx5HRooH9++sgcvFs5Lmg4VOtjY6EcDfPXUETx1sw2eurcBXbl1tOhLNwxdurMTA6AQefrkJ54fG8cDHNiI1mReCzRULnWyre3AM//kndThwtg9fuXU1vvTelTzf3KZEBPduX4uCDC/+555GtP/fvXj4zi0o8qWYjmYrHEMn21FV/ObNdmz/5z/gaMcA/vUTm/Hlm1exzG1ORPDZ61bg4Tu34MS5Qdz23Zfx1IFWXnw0Byx0spVTXUPY/ZP9uPvRgyjJScWvvngtdqxbajoWxdBt1UXYc891WLUkE195/DA+/eN9PFc9SmLqf7/a2lqtq6szsm+yn+PnBvHwy6fxy0Nt8HrcuOeWVfjstRW8lZyDBYKKH/3pLTz4/EkMjfuxc0MxPnvtCqwr9ZmOZpSI7FfV2mlfY6GTVZ3rH8XzjZ14Yn8rDrf0ISXJhb+8qhy7r1+B/Ayv6XgUJ33D4/g/Lzfh315txshEAOtLffjw5lLcUrUEJQl4rcGCC11EtgN4EIAbwPdV9R+nvO4F8P8AbAFwHsDHVbX5cu/JQqfJAkHFWz1DONzSjyNt/XjjrQs42hH6MXv1kgx8rLYMH9pcitz0ZMNJyZT+kQn88mAb/v2Nszh2bhAAsLYoE++pyMWW8lxUF2dhWW4akhz+U9uCCl1E3ABOALgVQCuAfQDuUNWjk7b5AoD1qvo5EdkF4IOq+vHLvS8L3bkCQcWYP4CxiSDG/EGM+4MYGvOjb2QcfcMT6BueQO/wOLoGRtHSO4KWC8No6R3G6EToSsG0ZDfWl/pww+pCvHdtIVYvyeCEJ73D6e4hvNDYiZeOd+NQSx+GxwMAAI9LsCwvDSvyM7DUl4KCTC8KM73Iy/Aiw+tBZooH6V4PMrwepCa7keQWJLlctjrv/XKFHs1pi9sAnFLVpvCbPQbgdgBHJ21zO4C/D3/9JIDviYjoIoznPL6vBY/8senS4+l28a5n9PKvR/MeUzfRKVtM90ln+/RT9zvd5nPdbzTvMXWr6N7j8llVgYlAqLz9UV7tl5niQVlOGiry03H96gJcsTQL60t9qCzIgNtG32AUf5UFGagsyMDu6yvhDwRx7NwgTnQO4nT3EE53XURTzxD2NV9A/8hEVO/ndgk8LkGy2wWPW+BxuyAARACBhH/FpQMLkelfEwCYsu107rl5Ff5iQ/EC/xTeLZpCLwEweY3LVgDvmWkbVfWLSD+APADvuHmgiOwGsBsAli1bNq/AOenJWLMk851PTvPnNvWpqX+473594e8xfY4pv0emvh5NjlneI4ogc93v1H1G8x5Jbhe8SS54PW4ke1zwekJfez0upCW7kZ2WjOy0JOSEf+UdhCgWPG4Xakp8qCl592TpmD+A7sExXLg4jqExPy6OBTA0NoGhsQBGxv2YCCj8AcVEIIiJYBAT/tDX/mAQqqEDFYWGf337MS491knPv/142qOiSXypSTH/cwDifGGRqj4C4BEgNOQyn/e4tWoJbq1aEtNcRORMXo8bpTlpKM1JMx0lLqKZPWgDUDbpcWn4uWm3EREPAB9Ck6NERBQn0RT6PgCrRKRCRJIB7ALw9JRtngZwV/jrjwD4j8UYPyciopnNOuQSHhO/G8CzCJ22+ENVbRCR+wHUqerTAH4A4CcicgrABYRKn4iI4iiqMXRV3QNgz5Tn7pv09SiAj8Y2GhERzYWzz8AnIkogLHQiIodgoRMROQQLnYjIIYyttigi3QDOzPO352PKVag2xs9iPU75HAA/i1Ut5LMsV9Vp74JurNAXQkTqZlqcxm74WazHKZ8D4GexqsX6LBxyISJyCBY6EZFD2LXQHzEdIIb4WazHKZ8D4GexqkX5LLYcQycionez6xE6ERFNwUInInIIWxe6iHxJRI6JSIOIfNt0noUSka+KiIpIvuks8yEi3wn/fbwpIr8QkWzTmeZKRLaLyHEROSUi95rOM18iUiYiL4rI0fD3xz2mMy2EiLhF5KCI/MZ0loUQkWwReTL8fdIoIlfF8v1tW+gichNC9zLdoKrVAP7JcKQFEZEyALcBOGs6ywI8B6BGVdcjdGPxrxvOMyfhG6I/BGAHgCoAd4hIld0ThJIAAAKcSURBVNlU8+YH8FVVrQJwJYAv2vizAMA9ABpNh4iBBwH8TlXXAtiAGH8m2xY6gM8D+EdVHQMAVe0ynGehvgvgv2DWuxFal6r+XlX94Yd7Ebq7lZ1cuiG6qo4DiNwQ3XZUtUNVD4S/HkSoOErMppofESkF8H4A3zedZSFExAfgeoTuHwFVHVfVvljuw86FvhrAdSLyuoi8LCJbTQeaLxG5HUCbqh42nSWGPg3gGdMh5mi6G6LbsgQnE5FyAJsAvG42ybz9M0IHO0HTQRaoAkA3gB+Fh4++LyLpsdxBXG8SPVci8jyAomle+gZC2XMR+nFyK4DHRWSFVW99N8tn+TuEhlss73KfQ1V/Fd7mGwj9yP+zeGajdxORDAA/B/DXqjpgOs9cicifA+hS1f0icqPpPAvkAbAZwJdU9XUReRDAvQD+Wyx3YFmqestMr4nI5wE8FS7wN0QkiNCCN93xyjcXM30WEVmH0P/ch0UECA1THBCRbap6Lo4Ro3K5vxMAEJFPAvhzADdb9T/Xy4jmhui2ISJJCJX5z1T1KdN55ukaADtF5H0AUgBkichPVfVOw7nmoxVAq6pGflJ6EqFCjxk7D7n8EsBNACAiqwEkw4YrsanqEVUtVNVyVS1H6C99sxXLfDYish2hH413quqw6TzzEM0N0W1BQkcHPwDQqKoPmM4zX6r6dVUtDX9v7ELoBvR2LHOEv6dbRGRN+KmbARyN5T4sfYQ+ix8C+KGI1AMYB3CXDY8IneZ7ALwAngv/tLFXVT9nNlL0ZrohuuFY83UNgP8E4IiIHAo/93fh+wOTOV8C8LPwAUMTgE/F8s156T8RkUPYeciFiIgmYaETETkEC52IyCFY6EREDsFCJyJyCBY6EZFDsNCJiBzi/wNoDUbRw0x+XgAAAABJRU5ErkJggg==\n"
                },
                "metadata": {
                  "needs_background": "light"
                }
              }
            ]
          }
        },
        "a3ad6b58e9aa411bb6cc96f0a2724410": {
          "model_module": "@jupyter-widgets/base",
          "model_name": "LayoutModel",
          "model_module_version": "1.2.0",
          "state": {
            "_model_module": "@jupyter-widgets/base",
            "_model_module_version": "1.2.0",
            "_model_name": "LayoutModel",
            "_view_count": null,
            "_view_module": "@jupyter-widgets/base",
            "_view_module_version": "1.2.0",
            "_view_name": "LayoutView",
            "align_content": null,
            "align_items": null,
            "align_self": null,
            "border": null,
            "bottom": null,
            "display": null,
            "flex": null,
            "flex_flow": null,
            "grid_area": null,
            "grid_auto_columns": null,
            "grid_auto_flow": null,
            "grid_auto_rows": null,
            "grid_column": null,
            "grid_gap": null,
            "grid_row": null,
            "grid_template_areas": null,
            "grid_template_columns": null,
            "grid_template_rows": null,
            "height": null,
            "justify_content": null,
            "justify_items": null,
            "left": null,
            "margin": null,
            "max_height": null,
            "max_width": null,
            "min_height": null,
            "min_width": null,
            "object_fit": null,
            "object_position": null,
            "order": null,
            "overflow": null,
            "overflow_x": null,
            "overflow_y": null,
            "padding": null,
            "right": null,
            "top": null,
            "visibility": null,
            "width": null
          }
        },
        "c595dc22ce694325b4a4edcc378bf162": {
          "model_module": "@jupyter-widgets/base",
          "model_name": "LayoutModel",
          "model_module_version": "1.2.0",
          "state": {
            "_model_module": "@jupyter-widgets/base",
            "_model_module_version": "1.2.0",
            "_model_name": "LayoutModel",
            "_view_count": null,
            "_view_module": "@jupyter-widgets/base",
            "_view_module_version": "1.2.0",
            "_view_name": "LayoutView",
            "align_content": null,
            "align_items": null,
            "align_self": null,
            "border": null,
            "bottom": null,
            "display": null,
            "flex": null,
            "flex_flow": null,
            "grid_area": null,
            "grid_auto_columns": null,
            "grid_auto_flow": null,
            "grid_auto_rows": null,
            "grid_column": null,
            "grid_gap": null,
            "grid_row": null,
            "grid_template_areas": null,
            "grid_template_columns": null,
            "grid_template_rows": null,
            "height": null,
            "justify_content": null,
            "justify_items": null,
            "left": null,
            "margin": null,
            "max_height": null,
            "max_width": null,
            "min_height": null,
            "min_width": null,
            "object_fit": null,
            "object_position": null,
            "order": null,
            "overflow": null,
            "overflow_x": null,
            "overflow_y": null,
            "padding": null,
            "right": null,
            "top": null,
            "visibility": null,
            "width": null
          }
        },
        "ecfdd677578e4afebd81fd30d662c1cc": {
          "model_module": "@jupyter-widgets/controls",
          "model_name": "VBoxModel",
          "model_module_version": "1.5.0",
          "state": {
            "_dom_classes": [
              "widget-interact"
            ],
            "_model_module": "@jupyter-widgets/controls",
            "_model_module_version": "1.5.0",
            "_model_name": "VBoxModel",
            "_view_count": null,
            "_view_module": "@jupyter-widgets/controls",
            "_view_module_version": "1.5.0",
            "_view_name": "VBoxView",
            "box_style": "",
            "children": [
              "IPY_MODEL_6548559c0081435ca925271a7c2c56b1",
              "IPY_MODEL_c891978c40e54bbaa7271247efedfd00",
              "IPY_MODEL_c1598381365a40f1a55b54da4d666721",
              "IPY_MODEL_d67e8ed630f54d388e149a59bf5c140d"
            ],
            "layout": "IPY_MODEL_24e087a89e94487fb8afd6c264cfa1fb"
          }
        },
        "6548559c0081435ca925271a7c2c56b1": {
          "model_module": "@jupyter-widgets/controls",
          "model_name": "FloatSliderModel",
          "model_module_version": "1.5.0",
          "state": {
            "_dom_classes": [],
            "_model_module": "@jupyter-widgets/controls",
            "_model_module_version": "1.5.0",
            "_model_name": "FloatSliderModel",
            "_view_count": null,
            "_view_module": "@jupyter-widgets/controls",
            "_view_module_version": "1.5.0",
            "_view_name": "FloatSliderView",
            "continuous_update": true,
            "description": "Mean of X1",
            "description_tooltip": null,
            "disabled": false,
            "layout": "IPY_MODEL_eab5ad995efc49d7b8b55ed12629625f",
            "max": 5,
            "min": -5,
            "orientation": "horizontal",
            "readout": true,
            "readout_format": ".2f",
            "step": 0.1,
            "style": "IPY_MODEL_3e368b008a864c588613d6dc8b2cfac7",
            "value": 1.7
          }
        },
        "c891978c40e54bbaa7271247efedfd00": {
          "model_module": "@jupyter-widgets/controls",
          "model_name": "FloatSliderModel",
          "model_module_version": "1.5.0",
          "state": {
            "_dom_classes": [],
            "_model_module": "@jupyter-widgets/controls",
            "_model_module_version": "1.5.0",
            "_model_name": "FloatSliderModel",
            "_view_count": null,
            "_view_module": "@jupyter-widgets/controls",
            "_view_module_version": "1.5.0",
            "_view_name": "FloatSliderView",
            "continuous_update": true,
            "description": "Mean of X2",
            "description_tooltip": null,
            "disabled": false,
            "layout": "IPY_MODEL_98c08877a8864936a204916579b07842",
            "max": 5,
            "min": -5,
            "orientation": "horizontal",
            "readout": true,
            "readout_format": ".2f",
            "step": 0.1,
            "style": "IPY_MODEL_1996c6ef4ff341e780245c814910802e",
            "value": 1.2
          }
        },
        "c1598381365a40f1a55b54da4d666721": {
          "model_module": "@jupyter-widgets/controls",
          "model_name": "FloatSliderModel",
          "model_module_version": "1.5.0",
          "state": {
            "_dom_classes": [],
            "_model_module": "@jupyter-widgets/controls",
            "_model_module_version": "1.5.0",
            "_model_name": "FloatSliderModel",
            "_view_count": null,
            "_view_module": "@jupyter-widgets/controls",
            "_view_module_version": "1.5.0",
            "_view_name": "FloatSliderView",
            "continuous_update": true,
            "description": "Covariance between X1 and X2",
            "description_tooltip": null,
            "disabled": false,
            "layout": "IPY_MODEL_a8a434426cfb42c4bab3937f16a5f344",
            "max": 0.99,
            "min": 0,
            "orientation": "horizontal",
            "readout": true,
            "readout_format": ".2f",
            "step": 0.1,
            "style": "IPY_MODEL_46990d3d02884729979c80e7469b2110",
            "value": 0.4
          }
        },
        "d67e8ed630f54d388e149a59bf5c140d": {
          "model_module": "@jupyter-widgets/output",
          "model_name": "OutputModel",
          "model_module_version": "1.0.0",
          "state": {
            "_dom_classes": [],
            "_model_module": "@jupyter-widgets/output",
            "_model_module_version": "1.0.0",
            "_model_name": "OutputModel",
            "_view_count": null,
            "_view_module": "@jupyter-widgets/output",
            "_view_module_version": "1.0.0",
            "_view_name": "OutputView",
            "layout": "IPY_MODEL_06c8aa9090e74cf483db174a56fc538a",
            "msg_id": "",
            "outputs": [
              {
                "output_type": "stream",
                "name": "stdout",
                "text": [
                  "Mean Vector:  [ 1.7 , 1.2 ]\n",
                  "Mean Vector: [ [ 1.0 , 0.4 ]\n",
                  "Mean Vector:   [ 0.4 , 1.0 ] ]\n"
                ]
              }
            ]
          }
        },
        "24e087a89e94487fb8afd6c264cfa1fb": {
          "model_module": "@jupyter-widgets/base",
          "model_name": "LayoutModel",
          "model_module_version": "1.2.0",
          "state": {
            "_model_module": "@jupyter-widgets/base",
            "_model_module_version": "1.2.0",
            "_model_name": "LayoutModel",
            "_view_count": null,
            "_view_module": "@jupyter-widgets/base",
            "_view_module_version": "1.2.0",
            "_view_name": "LayoutView",
            "align_content": null,
            "align_items": null,
            "align_self": null,
            "border": null,
            "bottom": null,
            "display": null,
            "flex": null,
            "flex_flow": null,
            "grid_area": null,
            "grid_auto_columns": null,
            "grid_auto_flow": null,
            "grid_auto_rows": null,
            "grid_column": null,
            "grid_gap": null,
            "grid_row": null,
            "grid_template_areas": null,
            "grid_template_columns": null,
            "grid_template_rows": null,
            "height": null,
            "justify_content": null,
            "justify_items": null,
            "left": null,
            "margin": null,
            "max_height": null,
            "max_width": null,
            "min_height": null,
            "min_width": null,
            "object_fit": null,
            "object_position": null,
            "order": null,
            "overflow": null,
            "overflow_x": null,
            "overflow_y": null,
            "padding": null,
            "right": null,
            "top": null,
            "visibility": null,
            "width": null
          }
        },
        "eab5ad995efc49d7b8b55ed12629625f": {
          "model_module": "@jupyter-widgets/base",
          "model_name": "LayoutModel",
          "model_module_version": "1.2.0",
          "state": {
            "_model_module": "@jupyter-widgets/base",
            "_model_module_version": "1.2.0",
            "_model_name": "LayoutModel",
            "_view_count": null,
            "_view_module": "@jupyter-widgets/base",
            "_view_module_version": "1.2.0",
            "_view_name": "LayoutView",
            "align_content": null,
            "align_items": null,
            "align_self": null,
            "border": null,
            "bottom": null,
            "display": null,
            "flex": null,
            "flex_flow": null,
            "grid_area": null,
            "grid_auto_columns": null,
            "grid_auto_flow": null,
            "grid_auto_rows": null,
            "grid_column": null,
            "grid_gap": null,
            "grid_row": null,
            "grid_template_areas": null,
            "grid_template_columns": null,
            "grid_template_rows": null,
            "height": null,
            "justify_content": null,
            "justify_items": null,
            "left": null,
            "margin": null,
            "max_height": null,
            "max_width": null,
            "min_height": null,
            "min_width": null,
            "object_fit": null,
            "object_position": null,
            "order": null,
            "overflow": null,
            "overflow_x": null,
            "overflow_y": null,
            "padding": null,
            "right": null,
            "top": null,
            "visibility": null,
            "width": null
          }
        },
        "3e368b008a864c588613d6dc8b2cfac7": {
          "model_module": "@jupyter-widgets/controls",
          "model_name": "SliderStyleModel",
          "model_module_version": "1.5.0",
          "state": {
            "_model_module": "@jupyter-widgets/controls",
            "_model_module_version": "1.5.0",
            "_model_name": "SliderStyleModel",
            "_view_count": null,
            "_view_module": "@jupyter-widgets/base",
            "_view_module_version": "1.2.0",
            "_view_name": "StyleView",
            "description_width": "",
            "handle_color": null
          }
        },
        "98c08877a8864936a204916579b07842": {
          "model_module": "@jupyter-widgets/base",
          "model_name": "LayoutModel",
          "model_module_version": "1.2.0",
          "state": {
            "_model_module": "@jupyter-widgets/base",
            "_model_module_version": "1.2.0",
            "_model_name": "LayoutModel",
            "_view_count": null,
            "_view_module": "@jupyter-widgets/base",
            "_view_module_version": "1.2.0",
            "_view_name": "LayoutView",
            "align_content": null,
            "align_items": null,
            "align_self": null,
            "border": null,
            "bottom": null,
            "display": null,
            "flex": null,
            "flex_flow": null,
            "grid_area": null,
            "grid_auto_columns": null,
            "grid_auto_flow": null,
            "grid_auto_rows": null,
            "grid_column": null,
            "grid_gap": null,
            "grid_row": null,
            "grid_template_areas": null,
            "grid_template_columns": null,
            "grid_template_rows": null,
            "height": null,
            "justify_content": null,
            "justify_items": null,
            "left": null,
            "margin": null,
            "max_height": null,
            "max_width": null,
            "min_height": null,
            "min_width": null,
            "object_fit": null,
            "object_position": null,
            "order": null,
            "overflow": null,
            "overflow_x": null,
            "overflow_y": null,
            "padding": null,
            "right": null,
            "top": null,
            "visibility": null,
            "width": null
          }
        },
        "1996c6ef4ff341e780245c814910802e": {
          "model_module": "@jupyter-widgets/controls",
          "model_name": "SliderStyleModel",
          "model_module_version": "1.5.0",
          "state": {
            "_model_module": "@jupyter-widgets/controls",
            "_model_module_version": "1.5.0",
            "_model_name": "SliderStyleModel",
            "_view_count": null,
            "_view_module": "@jupyter-widgets/base",
            "_view_module_version": "1.2.0",
            "_view_name": "StyleView",
            "description_width": "",
            "handle_color": null
          }
        },
        "a8a434426cfb42c4bab3937f16a5f344": {
          "model_module": "@jupyter-widgets/base",
          "model_name": "LayoutModel",
          "model_module_version": "1.2.0",
          "state": {
            "_model_module": "@jupyter-widgets/base",
            "_model_module_version": "1.2.0",
            "_model_name": "LayoutModel",
            "_view_count": null,
            "_view_module": "@jupyter-widgets/base",
            "_view_module_version": "1.2.0",
            "_view_name": "LayoutView",
            "align_content": null,
            "align_items": null,
            "align_self": null,
            "border": null,
            "bottom": null,
            "display": null,
            "flex": null,
            "flex_flow": null,
            "grid_area": null,
            "grid_auto_columns": null,
            "grid_auto_flow": null,
            "grid_auto_rows": null,
            "grid_column": null,
            "grid_gap": null,
            "grid_row": null,
            "grid_template_areas": null,
            "grid_template_columns": null,
            "grid_template_rows": null,
            "height": null,
            "justify_content": null,
            "justify_items": null,
            "left": null,
            "margin": null,
            "max_height": null,
            "max_width": null,
            "min_height": null,
            "min_width": null,
            "object_fit": null,
            "object_position": null,
            "order": null,
            "overflow": null,
            "overflow_x": null,
            "overflow_y": null,
            "padding": null,
            "right": null,
            "top": null,
            "visibility": null,
            "width": null
          }
        },
        "46990d3d02884729979c80e7469b2110": {
          "model_module": "@jupyter-widgets/controls",
          "model_name": "SliderStyleModel",
          "model_module_version": "1.5.0",
          "state": {
            "_model_module": "@jupyter-widgets/controls",
            "_model_module_version": "1.5.0",
            "_model_name": "SliderStyleModel",
            "_view_count": null,
            "_view_module": "@jupyter-widgets/base",
            "_view_module_version": "1.2.0",
            "_view_name": "StyleView",
            "description_width": "",
            "handle_color": null
          }
        },
        "06c8aa9090e74cf483db174a56fc538a": {
          "model_module": "@jupyter-widgets/base",
          "model_name": "LayoutModel",
          "model_module_version": "1.2.0",
          "state": {
            "_model_module": "@jupyter-widgets/base",
            "_model_module_version": "1.2.0",
            "_model_name": "LayoutModel",
            "_view_count": null,
            "_view_module": "@jupyter-widgets/base",
            "_view_module_version": "1.2.0",
            "_view_name": "LayoutView",
            "align_content": null,
            "align_items": null,
            "align_self": null,
            "border": null,
            "bottom": null,
            "display": null,
            "flex": null,
            "flex_flow": null,
            "grid_area": null,
            "grid_auto_columns": null,
            "grid_auto_flow": null,
            "grid_auto_rows": null,
            "grid_column": null,
            "grid_gap": null,
            "grid_row": null,
            "grid_template_areas": null,
            "grid_template_columns": null,
            "grid_template_rows": null,
            "height": null,
            "justify_content": null,
            "justify_items": null,
            "left": null,
            "margin": null,
            "max_height": null,
            "max_width": null,
            "min_height": null,
            "min_width": null,
            "object_fit": null,
            "object_position": null,
            "order": null,
            "overflow": null,
            "overflow_x": null,
            "overflow_y": null,
            "padding": null,
            "right": null,
            "top": null,
            "visibility": null,
            "width": null
          }
        },
        "2879e7b83f0249b798a0f3bb8955049d": {
          "model_module": "@jupyter-widgets/controls",
          "model_name": "VBoxModel",
          "model_module_version": "1.5.0",
          "state": {
            "_dom_classes": [
              "widget-interact"
            ],
            "_model_module": "@jupyter-widgets/controls",
            "_model_module_version": "1.5.0",
            "_model_name": "VBoxModel",
            "_view_count": null,
            "_view_module": "@jupyter-widgets/controls",
            "_view_module_version": "1.5.0",
            "_view_name": "VBoxView",
            "box_style": "",
            "children": [
              "IPY_MODEL_6548559c0081435ca925271a7c2c56b1",
              "IPY_MODEL_c891978c40e54bbaa7271247efedfd00",
              "IPY_MODEL_c1598381365a40f1a55b54da4d666721",
              "IPY_MODEL_c02b4974c7ee470fb584708b48e75eed"
            ],
            "layout": "IPY_MODEL_75b1e03885b148b981b05a8927767e4f"
          }
        },
        "c02b4974c7ee470fb584708b48e75eed": {
          "model_module": "@jupyter-widgets/output",
          "model_name": "OutputModel",
          "model_module_version": "1.0.0",
          "state": {
            "_dom_classes": [],
            "_model_module": "@jupyter-widgets/output",
            "_model_module_version": "1.0.0",
            "_model_name": "OutputModel",
            "_view_count": null,
            "_view_module": "@jupyter-widgets/output",
            "_view_module_version": "1.0.0",
            "_view_name": "OutputView",
            "layout": "IPY_MODEL_971c0573f03b472db30e496f5ed4afa4",
            "msg_id": "",
            "outputs": [
              {
                "output_type": "display_data",
                "data": {
                  "text/plain": "<Figure size 432x288 with 5 Axes>",
                  "image/png": "iVBORw0KGgoAAAANSUhEUgAAAYIAAAEXCAYAAACgUUN5AAAABHNCSVQICAgIfAhkiAAAAAlwSFlzAAALEgAACxIB0t1+/AAAADh0RVh0U29mdHdhcmUAbWF0cGxvdGxpYiB2ZXJzaW9uMy4yLjIsIGh0dHA6Ly9tYXRwbG90bGliLm9yZy+WH4yJAAAgAElEQVR4nOydd3gc1dWH359kybLcsUkojgtgQocYg5MAphgbCMVgEkog9JiWAIGEEjopEAimhhBaKDFgAqGFXkxxQrMxpn70JjDBNsYVV53vjzsjjVZbZrUj7a72vs8zz+6Ue+estHPP3nNPkZnh8Xg8nsqlqtgCeDwej6e4eEXg8Xg8FY5XBB6Px1PheEXg8Xg8FY5XBB6Px1PheEXg8Xg8FY5XBJ6iIOkhSQcn0M92khryuP4pSUcE7w+Q9GihMkT6fkPSdsH7cyT9I8G+fyvpuqT683iidCm2AJ7iIukjYA1gDTObHTk+HdgMGGJmHyV9XzPbJek+2yDDRGBirusk3Qg0mNkZOfrbMAm5AmXyDzMbEOn7j0n07fGkw88IPAAfAvuHO5I2Burb2pmkivqBUWmf19P58IrAA3ALcFBk/2Dg5ugFknaVNF3SfEmfSjoncm6wJJN0uKRPgCclVUu6WNJsSR9K+kVwTZegTdREc4ikKZL+LGlucP0ukf4PlfSWpAWSPpB0ZNwPJmm0pP+TNE/SlYAi5w6RNCV4L0mXSPoy+IyvSdpI0njgAOBkSQsl3R9c/5GkUyS9CiyS1CU4tmPk9nWSJgVyvyxp08i9TdI6kf0bJf1eUnfgIWCN4H4LJa2RamqStEdgivo6+FuuHzn3kaRfS3o1+NyTJNUF5/pL+nfQ7itJz0ry40CF478AHoDngV6S1pdUDewHpNq3F+GURR9gV+BoSXumXLMtsD6wE/BzYBeceWkYkHptKiOAt4H+wIXA9ZLCQftLYDegF3AocImkYbk+lKT+wL+AM4J+3we2ynD5GGAksC7QG9gHmGNm1+DMRxeaWQ8z2z3SZn/c36KPma1I0+dY4J/AKsCtwD2SarLJbGaLcH+3z4P79TCzz1M+17rAbcAJwKrAg8D9kmojl+0D7AwMATYBDgmOnwQ0BO2+DfwW8HlmKhyvCDwh4axgNPAW8Fn0pJk9ZWavmVmjmb2KG4i2TenjHDNbZGbf4Aaiy8yswczmAhfkuP/HZnatma0EbgJWxw1UmNkDZva+OZ4GHgW2ifGZfgS8YWZ3mtly4FLgiwzXLgd6AusBMrO3zGxmjv4vN7NPg8+bjmmRe08A6oDvx5A7F/sCD5jZY0Hffwa6AT9Mke1zM/sKuB+nkMF9ztWBQWa23MyeNZ9wrOLxisATcgvwU9wvx5tTT0oaIWmypFmS5gFH4X5lR/k08n6NlP1PyU7TAG1mi4O3PYJ77yLp+cCU8TVugE+9dzpayBAMeGnlMLMngSuBvwBfSrpGUq8c/ef6TNF7N+J+ia8RQ+5crAF8nNL3p8CakWuiCm8xwd8SuAh4D3g0MLOdmoA8njLHKwIPAGb2MW7R+Ec4c0oqtwL3Ad8xs97A1UTs7WE3kfczgQGR/e+0RS5JXYG7cL96v21mfXCmkNR7p2Nm9L6BqSmjHGZ2uZltDmyAMxH9JjyVqUmO+0fvXYX7e4RmnsW0XJBfLY9+PwcGRfoOP9dnGVuEHZstMLOTzGwtYA/gREmjcrXzdG68IvBEORzYIbBTp9IT+MrMlkjaEjd7yMYdwPGS1pTUBziljTLVAl2BWcCKYBF5TMy2DwAbShoXLFIfR8sBtwlJWwSznhrcesgSoDE4/T9grTbIvnnk3icAS3HrMQCvAD8NFtV3pqWZ7X9AP0m9M/R7B7CrpFGBvCcFff83l0CSdpO0TqA85gEraf6cngrFKwJPE4EdfmqG08cA50laAJyFG4yycS3Olv8qMB33K34FbuDJR6YFuAH8DmAuTgHdF7PtbOAnuPWJOcBQ4D8ZLu8VyDwXZ3aZgzOjAFwPbBB42tyTh/j34uz5c4GfAeMCmz7A8cDuwNc4r6Smfs3s/3BrMB8E92xhTjKzt4EDgSuA2UE/u5vZshgyDQUeBxYCzwFXmdnkPD6TpxMiv07k6QiCX/JXm9mgnBd7PJ4Oxc8IPO2CpG6SfhT4168JnA3cXWy5PB5Pa/yMwNMuSKoHnsa5Y36Ds9cfb2bziyqYx+NphVcEHo/HU+EULUdK//59bfDgJFyqPZ7OzbRpb842s1U7+r79+/e3wYMHN+1/+CEsXAgbb9zRkniiTJs2LfHvQ9EUweDBa/DiS7kcTzweT3XVRh/nvip5Bg8ezNSpzU5kRxwBDz0EUzP5lXk6BEmJfx/8YrHH44lFXR0sWVJsKTxRJPWSdL6kWyT9NOXcVXH78YrA4/HEokcPWLAA/LJiSfF3XJT9XcB+ku4KovEhj7xWXhF4PJ5YbLIJ7LILrMwrJNDTzqxtZqea2T1mtgfwMi4NfL98OvEFNTweTyx++lO3FYPly5fT0NDAkgqyTdXV1TFgwABqarJmLu8qqSpIPIiZ/UHSZ8AzNCcazIlXBB6Pp+RpaGigZ8+eDB48mOYyFZ0XM2POnDk0NDQwZMiQbJfeD+yASxsStr1R0he4FCSx8KYhj8cTizffhNVWg/tiZXpKliVLltCvX7+KUAIAkujXr1/OGZCZnWxmj6c5/rCZDY17P68IPB5PLFZfHf73P3jrreLcv1KUQEg+nzfwGuod2R8k6Ym47b0i8Hg8sejbFwYNgldeKbYknjRMAV4I8nv9HHgMV5EvFomuEQT1bqcCn5nZbkn27fF4kqGQ53SzzXxAWSliZn+T9AYwGZea/HtmlqksayuSnhEcj6t36/F4Spc2P6ejR8N77xXPPORJj6SfATfg6o7fCDwoadO47RNTBJIGALsC1yXVp8fjSZZCn9O99oLjj4du3ZKVq9z55ptv2HbbbVmZR5DFsmXLGDlyJCtWrEhChL2Brc3sNjM7DVdT/Ma4jZOcEVwKnEyWsneSxkuaKmnqrFlzE7y1x+OJSdbntOUzOqvV+TXWgEsvhUguOg9www03MG7cOKqrq2O3qa2tZdSoUUyaNKng+5vZnmb2ZWT/RWBE3PaJKAJJuwFfmtm0bNeZ2TVmNtzMhq+6at8kbu3xeGIS5zlt+YxmTnD5n/8Ux400ZLvtWm9XBZl1Fi9Of/7GG9352bNbn4vL/vvvz7777suWW27JoEGDeOCBBwCYOHEiY8eObbpu++2357HHHgPgjDPO4Je//GXa/vbcc08mTpwYX4A8iFm6FEhusXgrYA9JPwLqgF6S/mFmBybUv8eTF8sbF8W6rqaqeztLUlIk9pyedppbK9h2W+jdO/f1nYUZM2YwduxYJk2axJQpUzjxxBMZPXo0H3zwAdGU3eeeey5nnXUWX375JdOnT+e+DFpzo4024qWXXuog6TOTiCIIbFKnAUjaDvi1VwKe9iLuIJ9EX51JUST5nF50EWy9NRxwANx7L+RhEUmEp57KfK6+Pvv5/v2zn8/EkiVLmDVrFmeffTYAG2ywAXPnzmX27Nn06dOnxbUjR47EzJgwYQJPPfUU1dXV3HPPPTzwwAPMnz+fww8/nDFjxlBdXU1tbS0LFiygZ8+eecsk6Xgzu0zSVmb2n/w/lcPHEXhKmuWNi1ptxbq/p5kRI+Dyy+GBB+D004stTcfw+uuvM3ToUOrq6gB4+eWX2XTTTenWrVurCODXXnuNmTNnUltb2zTA77nnnlx77bVcffXVLdYFli5d2tRnGzg0eI2dTiIdiSsCM3vKxxB42koxB/1clKpcbSGJ5/Too+Goo+BPf4LnnktKstJlxowZfPLJJyxZsoRFixZx9tln86tf/Yq+ffuycuXKJmUwc+ZMDjjgAO6991569OjBww8/3KKf3//+9xx77LEAzJkzh/79++dKLJeNtyS9C3xX0quR7TVJr8btxCed8xSdQgbW5Y0LC75/TVXsJI2R+y4K2nYe01FbuPxyl576+7Ez35cvM2bMYNy4cYwYMYLly5fz29/+lq222gqAMWPGMGXKFH74wx8ybtw4Lr74YtZff33OPPNMTjnlFHbeeWfMjFNPPZVddtmFYcOGATB58mR23XXXNstkZvtLWg14BNijrf14ReApCvkO/kkM+HH7zkcxVLpCqKlxMwOAd9+FX/wCrrsOvvOd4srVHsyYMYNrrrmGyy+/vNW5Y489lksuuYQdd9yR5yLTo5EjRzbtX3HFFTz++OPMmzeP9957j6OOOopbb72VCy64oCC5ggjiTSXVAusGh982s+Vx+/CKwNNh5DP4t3XgX964OO3xmqr6Nt87jmJY3rioYpVByEcfwX//C+uvD7/9LZx4oitv2Vl4//33GTo0fULPYcOGsf3227Ny5cqMsQTHHXccxx13XNP+smXL2HPPPVl33XXTXp8PkrYFbgY+wlUs+46kg83smTjt/WKxp92JY1df3riwxZb+msU5t8z9t61dVLYkPmdnZvRomDHDvZ5+Omy4YXFjDZKmoaGBqqrMQ+Zhhx2Wd0DZQQcdlIRoABOAMWa2rZmNBHYCLonb2CsCT7sQZ2E134E/E9+stFhbdnnjKJP4CqFSWWstuPtueOwxl4biySfdcTNf67idqTGzt8MdM3sHiL0C7U1DnkSJ88s/87nsg32hZOqjW3XLvO9ROdKZlJY3LsxpLqp0U9GOO7p01UuXuv1HH4WTT4bjjnPlLn2uosSZKuk64B/B/gG4DLOx8IrAkwhtVQDpBv9sg/6i5YUXJ+le07L/6P0yKYVUhRB+nmwKodKVQZcubgMIa6wccQSccgoceSQccwysuWb8/sysoorTWH5TqKOBY4FwEeJZ4Kq4jb0i8BREWxRA3ME/26C/KM+Ejd0j3/TUfqOKIZQjnUJo6+zAA2PGuLWDp5+Gyy6DCy6AO+6Ad95xSmL5cueBlIm6ujrmzJlTMeUqw5rFcQPNzGwpbp1gQlvu5xWBp03ksv23PpZ78E838Gca8BfEnBn0DAb5dP2EyiF631AppFMI2WYHmZRBpc8KokjNSd4+/BDeftsdW7HCrS0MHw777AO77w49Uv6cAwYMoKGhgXQZUTsrdXV1DBgwoEPu5RWBJy8KVQC5Bv/UATvbgD97SWZfh/51jRnbp1MOqUohqhDizA68MsiPIUPcBrBoEey9N/zzn3DPPW79YNddnQlp+HB3TU1NDUPCBp7E8YrAE5tMSqBQBRAdkFMH7myD/VdL059bpWtjxnb96xpb3CNVKUQVQq7ZQT6xCZ7M9O7tahxMmABTpsCkSXDnnW4NAWD6dOeFtMsusNFGzesNnuTwisCTk3xmAdkUQJzBP3UATzfYz8qiHMLzq9a1rruSqiCiSiGqENIpg/CzpM4Oovj1gsKoqoKRI912+eXNA/7kyW52cMoprjDOzju7bexYqK0trsylgqR1gd8Ag4iM62a2Q5z2XhF4shJ3FpCvAsg0+EcH/nQD/ldLk8l3HFUKqQohOjtIVQZR8pkVePNQfkTjsk48EfbbDx55BB56CP71L7jrLlc2E9yxHj1gyy2ha9fiyFsC/BO4GrgWiF8vM8ArAk9a2moGSqcA0v36zzX4pw74Xy0rLPZxla4rm/peta6x6Z6hQoiuKfSsaW3GyrZmEMXPCtqHNdaAQw9124oV8P77za6pJ58Mr7/u0ln84AduMXqnnVyq7ApihZn9ta2NvSLwtKIts4C4M4DZTQN99sE/OvDPTWgWkEqoENLNDsKZQaY1g1AZ+LWCjqdLF/jud5v3n3kGnn3WFZt56ik45xznkTRxootmvvhi2GILpxg6U+6jFO6XdAxwN7A0PGhmX8Vp7BWBp4mOVACpg3+mgf/rNDOBRYtb/mLvXt/6F/rXy6roU5tmnaC2ka+WVreYITSdi8wO0ikDT2nSty/ssYfbAObOhQUL3PvPPnMzBjNnNhoxArbZBvbf3+VC6kQcHLz+JnLMgLXiNPZfcQ9QmBJIQgGEg3848DcP9u518eL0dvroufpWCsH11ae2sYVyCZUBOJNRXLKtF3hKh7593QYwYADMmeO8kSZPdq8XXAAbb+wUwZtvwtVXu7Kb22wDq69eXNnbipkV5FubiCKQ9B1cCtRv457ca8zssiT69rQ/+SqBbOsA2RRAvMHfWgz6ixfFH3gXLzLqu6ez3+dWCKlmolyzgnI0D1Xqc9q3rwtS2313t79wYfNi9FtvwfXXwxVBoce11nJK4fzz3bpEuSCpBpdmYmRw6Cngb3FrEiQ1I1gBnGRmL0vqCUyT9JiZvZlQ/552Ip0SKGQWkG0GEFUAmQb/6MC/fGGeeSSAxcFXur670swiqpqUQd+uK/lqWRWrBOaj0OU0VAaFUMILxv45pWXU8t57O5PS9OlutjBlikuQFyqGyy5zx0K31o03dm6uJchfcdlGw/xCPwuOHRGncSKKwMxmAjOD9wskvQWsCVTUF6zcKFQJZJsFxFMAzqwTDv7RgV/zlxKqGi1YlvEzWM+WjuThz59UhVBfr+CeLZVBKGOqiSjqSZQvJaoE/HOagZoa53q65ZbOVdWsOYZhyRJ46SUX4AbQp4/zSLr9drcfvbbIbGFmm0b2n5Q0I27jxNcIJA0Gvge8kObceGA8wMCBZWqM6yQkqQRymYFSFUDqr//lC1dkHPir5mdWAgDMX0Zjr9ZRRVGFkEkZhPKlzgqidNZF40zPactndGCHy1UKRAf2MJDt44+dZ9Izz0Bj5Cuy7bZuEXrkSJdUb4stWsZAdCArJa1tZu8DSFqLPOIJlGeq0+ydST2Ap4E/mNm/sl07fPiG9uJLdyR2b0988lECmdYD4swComsAqTOA8Ne/5jtPt3DwDwf+bLOAKKkzgsZetU3HrJeLLqrp0aVp7aC+XnSvV5Mi6Nt1ZZMiWKXrSlata2wyDYUzgjCuIFQE4YJxNJ4gukaQaUbQ1oCy6qqNppnZ8DY1TkPc53T48OE2dWrslPYVh5mbQUyeDK++6vb79HFlOn/zm9zt24qkVt8HSaOAvwMf4EpVDgIONbPJcfpM7DdOsFhxFzAxlxLwFI+klUA+s4BWM4BMg//CeEoAIDort561VM1fRmPwXvOXNimD1IXkTO6lQNZ1gnL3GvLPaXJIcElQDHLOHHjiCRf9HNZY+OwzV6BnzBi3bbcddG+n4HIze0LSUCCMsHg7SE0di6S8hgRcD7xlZm3Kh+1pX+J4BuW7HpCqBFLXAlLNQKECqEqnACKDv9IoAlu8xJ2rbxkR1DQs96hFC5alVQbLcbOCkEWLLW3sQTaymYXieAyVQnoJ/5y2H/36uRTa++zTfGzePBg8GK691uVOqqlxymDCBJc8Lwkk7WBmT0oal3JqHUnEVfZJzQi2wq1SvybpleDYb83swYT697QDmaqGtVUJpJqC0pmBtGBZWgUQHfzDQT8d0XOqr0MLl2E9al0/EWUQ9p9qOqpw/HPagWywgcuDtGSJ8zx65BG47z6nNMAdW7DArS10aftIvC3wJLB7mnMGdJwiMLMptJyle0qItpqDID8lkM4UlM4MlE4BhAP80mXzcn6errW9m9qkUwaFEjULpeYdCsmUb6hUPYbAP6fFoq7OmYh23BEuvLB5MXrCBLj7bvj2t12k889+BsOG5de3mZ0dvD3PzD6MnpMUO8isND1iPYlRyJpAkkqgav6yFkpAwWaLl2CLl7B02bwmJbBk6dyMG9Di2iaTUYo5KZO3UaYI5XwijPOlFMxCntIg6pF0220uk+oPfwh/+QtsvjmMH9/mru9Kc+zOuI07kUOcJ5Vc9YTdNa1LSEaDxeKagyC7EgBaKAGgSQEATYN8LpYsnUtdV5c/YOmyeU2zg7iEXkPpiLqOposhSLdQXA4RxZ7SpGtXl0p7r73gq69cqou113bnGhud0sgVoyBpPWBDoHfKOkEvIHaKPa8IOilJLQ5Dy5TRcdcEokog6g0UzgKAtEpgybKvM36muto+OT93SLrYgih9ahubAsqipDMLpS4U52MW8rMBTxxWWcW5nYZcdplbT/jHP5q9kDLwXWA3oA8t1wkWAD+Pe3+vCCqItiwOp8YJpNYJyKYEWhCZCUBrJZBNAYQsWfY1dbV9WswKsmE9a5vcRzOxSm1jK7NQ3IhiPxvwtBerrALPPQd//KMzG2XCzO4F7pX0AzN7rq3384qgE5Jv1HA6ohXEosFi0DJOIOoimkrqmgCkNwfFUQLQPCMIlUDULGQ9ajMuFIcBZanBZFGigWQQL4isxT38bMCTIAcfDNdd5wLVYjJeUqsZgJkdFqexVwQVSFtMQtA6YjhKVpNQQNT1M+6aQC5axRX0rG2KLrZeXVvED0QJI4qzzQZSlUAUPxvwtDcDB8KDD8bOZ/TvyPs6YC/g87j38oqgkxFnNhCSy1UUWs8GQlJNQhnJI0o4G22dDQCtZgOpawOZZgOp+NmAp6OYNw8efhi+//14Se3MrIXXkKTbgClx7+cVQYWRy0soJNNsIGO/mdYGSB8pXNe1b9OsoK62T0bzUHSBOFUJqL6uhRJINxvIZBIKZwOpnkJJ5BXySsDTVhYtgvp66N3b5TCKluTMk6HAt+Je7OMIOhGFzAZCUmcDqURjBjKRM2NoGupq+6Tdms5HlIDq6/JWAiFRk1CoBFbp2pjVJJRJCXg8SfHxx3DmmbDOOq6CGsAmmzgX0zhIWiBpfvgK3A+cEvf+fkZQQWSbDSzKUAMmnVkIWtcNbgvRWUG2a6DlLACazUFhColMSiAkNAmlrgtElUDUJBRnXcDPBjyFct99Ln7g4Yfd/o9+5FJa54uZ9SxEDq8IOglxgsfiks4slA+NvWpbzAqsR62LJK6vwxYvoWtt7ybPoVxuoGkVADQpgTBeINtMIJ0SCNcFMqWaDglnA14JeJLADD76CIYEyR8uv9yVyzzzTDj8cLdA3FaCgLKtcTmGnjWze+K29YqgE5PJLJSJBWnWCrKRraB8E0EOoHTKIEqmKOFMCgBazgIgs5toLnOQdxX1tCeLFzt7/4MPuu2jj+CLL1yOoVtugVVXLSjpHACSrgLWAW4LDh0labSZHRunvVcEFUim9YF8qa9vWRc4HJDDBWPr6bKBplMGqXQljStoj9oWaabDPjPNAkKZUr2DClUCcYrOeDxRGhtdbeN//xt+8hOXgbS+3iWeO/VUl4gOYPXkCjXuAKxvQaUxSTcBb8Rt7BVBJyCJnEL50r2p7KOjpkeXpnTT1rOWRtyicQtlQKR+QCrRQT9yLOwPaKUAwvtG1wOiSiC18ph7n14JRNcEvIeQJ19mz3alLJ9+2tn7Tz4ZDjvMLfgedZSz/W+zTbMCaAfeAwYCHwf73wmOxcIrAk/e9KltbOE5VN9dTbEE1qtrU/nJcOAOr4wqhFykG/zD/iFb+UnLuB4ALctPpgsY8zMBTxyWL3eFZr75BkaMgNdec8e7dXMD/mqruf2BA5urmLUHku7H/b7qCbwl6cVgfwTwYtx+vCLw5GSVriubFoz7dl3ZFFkcLsYuXuzKQC7GzQpS8/s0OWamLCKnIzVZXBwFALRpFgDxXESTrkHsKT+++ML92n/qKfe6zjrO46dbN9hyS9hvP1fIfostoLZjayH9OYlOvCLopMRZKO5eYy3MQz1rrNWC8ap1jU0upKvUNjYFlUVnBeFaQagMAJYH7TV/aYsqYdnSuUWviyqTME1ENgUQyhedBUD7KAGvADo3Zq7e8IABbn+//WDSJPe+Z0/YemvYaafm66+7ruNlDDGzp5PoJ8ni9TsDlwHVwHVmdkFSfXs6lv51ja1cSNPNCpwpxqWaaKEMFlnT4L08pe+o6SjcTyWaHyg6+AMZFUAoY1QBhJ8lnWtopSoB/5y2ZsUKmDHD2finTHHb3LkuzUNdnbPvDx/ufvF/73uFe/gkiaQpZra1pAW0XIITYGbWK04/SRWvrwb+AowGGoCXJN1nZm8m0b8nf2qqeuTtPprKKl0b+WppVdOsIPy1/dWyqlbKICPda1rnIsqQCA6aB35IP/iHawCQWwFA5lkA5L8e0AmUgH9Oce6czz/vBvdevVzJyFOCGNwhQ2DMGPervzGYvh50UPFkzYWZbR28lkRA2ZbAe2b2AYCk24GxQEV9wUqZmqr6Js+hbtVq5ULavYuLLg7NQ+GsIFUZQLOJqKUygEIylkSjgKH14A+0WgMAYisA6FzrAZIuAs4xs3wiCSvyOV28GJ55xtn2n3kGXnrJLfbeey/ssYerEDZoEGy1VbM5qJwIFPwbZrZeW/tIShGsCXwa2W/ArVp7SpzUdYJsRBO0pZJNIaS6mkaPp9Lch7XIEpqEAoDOoQQC1gHelXSamd0Us01FPKdz5zozzxpruF/9H30Eu+ziTDrDh8OJJ7o0Dtts464fOtRt5YqZrZT0tqSBZvZJW/roUGuXpPHAeICBA5OLpPAkQ7ZZAZDWTBSXPmk9KVoqh9T00KmDP+RWAOHngE6rAAAws70k7QhcIulo4Jdm9lKh/bZ8RgvId9CBmMEDD8DjjzuvnldfdccOP9wt5K6/vjv3/e9D99L9lxZKX+CNwH20aZZoZnvEaZyUIvgMF8AQMiA41gIzuwa4BmD48A2TCW/1xCaTeSjdrCBVGUDLNQMgo0KIehfFYZXaljONdAN/eP+QtigA6BxKIMTMHpe0GXAs8JCk+4DTzOx/GZrkfE5bPqPDS/IZXbkSXn4ZPv0Uxo1z+fpPOAE+/9yZd8491y3sbrmlu16CUaOKK3MHcGYhjZNSBC8BQyUNwX2x9gN+mlDfnjaSa8E4nTIIB9PUmQGQdnYAmRVCHNK1yzX4Q34mIIivANy50lcCIWa2Erhc0n+AScDbkn4HXBqci1K2z+mnn8Ijj8Cjj7pf93Pnuhw9e+3lBvoHH3TBW+0YuVvq/MjMWqSdlvQnIJZ7aSKKwMxWSPoF8AjOLe0GM4ud58JTGDVV3WNnH43OClKJzgyiZiIgo0IohHRrDqn9phv8Q/micodUigKQNBq3+BtuqwJvAXcAOwMHS9rbzN4N25TTc2oG06fDpptCdbXz7Ln0UlhzTRg71nn2jBrVXL1r3XWLK28JMJrW9Qd2SXMsLYmtEZi+21AAACAASURBVJjZg8CDSfXnSYZ0s4JsHkTplAGkVwjQNqWQ7fr+Kcoh0+AfyhqSSwG4Y+VrBkrDP4EXgOdwLqHPm9n88GRg658EDIs2KuXntLHRuXXedRf8619ukffpp93C7nHHwc9/7uz9cUo3VgrB+tAxwNqSoqXuewL/idtPCYVGeNqLOMoAaGEmAlqZiqDlwJyqFEJyKYd0bUJS6wVnG/yjsofkowDcubJUAgB9w0yT6TCzayRd2JECFcLbb8MOOzg7f20tjB7tcvRvvLE7H+bv97TiVuAh4Hzg1MjxBWb2VdxOvCLoJORjHmpu09JMlGt2EJJOKYRkUg5RMhWHT71PVI4o6eoEVJACAFzIaIzLRre7IG3kf/+Dv//dBXQdcwystRZsv72L4t11V1ez15MbM5sHzJN0BvCFmS2VtB2wiaSbzSx9MfAUvCLoRGRTBpkWjtMpA2g9OwDSKgVoWeYy2yAfJd2A33QuTR9xB393vPMqgHxIwp00Scyce+fVV8Pdd7ugrv33d4qgpgb+8Y9iS1jW3AUMl7QOzuvrXtxs4UdxGntFUEFkUwZAVoUArQfoTIohH9IN+qkypJO19fHsaaIrSQGUKscdB1deCX37wi9+AePHw3ptjoX1pNAYOAOMA64wsyskTY/b2CuCTkYuE1E4YMaZHUDLwbhVWoqYv/7jkKksZChX5nNeAZQqK1fCrbc6n/6BA+HAA12a5p/8xKVv9iTKckn7AwcBuwfHauI2bntyGE/JEmfwy+xBU9+0pdKtWmm3fIjTR1SGTLb/cMv8+bp7JVAkzOChh2DYMJewLUzTPGKE2/dKoF04FPgB8Acz+zCIFbklbmM/I+ikxFk8zjY7cOebB+FMsQeQ/dd8HLL94m++Jl6FMD/4F5eZM+Hgg+Gxx9wC8G23wT77FFuqzk+QQfa4yP6HwJ/itveKoBMTDoqFKgR3TfbBOp2iiDPA55Ip3rV+8C8VzjkH/vMfuOwyV6u3g6t1VRyS7jCzfSS9RpqS4Ga2SZx+vCKoAOK6lqYOvvnUMyhk0E9379zX+8G/VFi5EubMgW99Cy680OX9WX/9YktVMRwfvO5WSCdeEVQIcWcHLdu0HpwLLXZTSBF4P/iXHo2NzhT0xhvw4ovO/9/HAHQcZjYzeP24kH68Iqgw2qIQWrZv+0Detvv5wb+U+c1vYOJE+N3vXCyAp2NJU6KyBR1aqtJTfkQH2LYqhfbAD/zlw8UXu2Rwv/wlnH56saWpTMISlUHG2Zk4TyEBBwCxi754ReBpNfh2lGLwg3758vrrrs7v3nu7rKA+EVzR2cPMNo3s/1XSDOCsOI29IvC0ItMA3RYF4Qf7zkldnasFcPXVUOWjkUqBRZIOAG7HmYr2J1KpLBdeEXhi4wd1T8g668A//1lsKTwRfgpcFmyGS0Edu+iQVwQejycvrroKtt4aNonloe7pCMzsI2BsW9v7SZ3H44nNZ5+5hHF33llsSTxJ4hWBx+OJzZ13ulxCBx5YbEk8SVKwIpB0kaT/k/SqpLsl9UlCMI/HkxxJPadTpsDgwb5GcGcjiTWCx4DTglzYfwJOI2bBZI/H02Ek8py+8AL84AeJy+ZpI5JOzHbezCbE6afgGYGZPWpmYY2q54EBhfbp8XiSJYnndN48mDULhg9PVjZPQfTMscUiaa+hw4BJmU5KGg+MBxg4MHbQm8fjSZaMz2nLZ3Rgi3O9e8PixbBiRbqWnmJgZucm0U8sRSDpcWC1NKdON7N7g2tOB1YAEzP1Y2bX4OppMnz4hsmVt/J4PIk8py2f0eGtnlHJ5xQqRSTVAYcDGwJ14XEzOyxO+1iKwMx2zCHEIbg0qKPMzA/wHk8RaO/n9JFHXKGZK66AnrGNDp4O4hbg/4CdgPNwuYbeits4Ca+hnYGTcbkuMpex8ng8RSOJ5/Tll+Gmm6CLD0MtRdYxszOBRWZ2E7ArMCJu4yTiCK7ELUo8JukVSVcn0KfH40mWgp/Tr792Fcd8zeGSZHnw+rWkjYDewLfiNi5Yt5vZOoX24fF42pckntPFi6G7TzdVqlwjqS9wJnAf0IOYmUfB5xryeDwx+eYbPxsoVczsuuDt08Ba+bb3isDj8cSirg5W917fJYmkrsDewGAi47qZnRenvVcEHo8nFldeWWwJPFm4F5gHTAOW5tvYKwKPx+MpfwaY2c5tbeyzj3o8nlj84Q9wwgnFlsKTgf9K2ritjf2MwOPxxOKFF6ChodhSeDKwNXCIpA9xpiEBZmaxygd5ReDxeGLR2OiL1JcwuxTS2CsCj8cTCzNfqL7UkNTLzOYDCwrpxysCj8cTC59FrCS5FZc/ahquaH10zmbEjCnwisDj8cRi9dVdLIGndDCz3YLXIYX04xWBx+OJxfXXF1sCTyYkDUtzeB7wcaQgUUa8IvB4PJ7y5ypgGPAqzjy0MfA60FvS0Wb2aLbGfunH4/HE4tRT4dhjiy2FJwOfA98zs+FmtjmwGfABMBq4MFdjPyPweDyxeOUVl4raU5Ksa2ZvhDtm9qak9czsA8Xw+fWKwOPxeMqfNyX9Fbg92N83ONaV5loFGfGmIY/H4yl/DgbeA04Itg+AQ3BKYPtcjf2MwOPxeMoYSdXAg2a2PXBxmksW5uoj0RmBpJMkmaT+Sfbr8XiSoZBndK21YOjQ9pDKUwhmthJolNS7rX0kNiOQ9B1gDPBJUn16PJ7kKPQZveqqZOXxJMpC4DVJjwGLwoNmdlycxkmahi4BTsYVSPB4PKWHf0Y7L/8KtjaRiCKQNBb4zMxmxHFV8ng8HUsSz+hxx8HChXDDDcnK5ikcM7upkPaxFYGkx4HV0pw6HfgtbsqZq4/xwHiAgQN98VOPJ0mSf0YHtjj3zjs+jqBUkTQUOB/YAGjKCGVmySadM7MdMwiwMTAECH9pDABelrSlmX2R0sc1wDUAw4dv6HMZejzJstzMNko92PZndLh/RsuHvwNn48x/2wOHkoczUMGmITN7DfhWuC/pI2C4mc0utG+Px9OSDMnFwOWX2SzdCf+MVgTdzOwJSTKzj4FzJE0DzorT2McReDzlxUvA07TMOx/Sp4Nl8ZQOSyVVAe9K+gXwGdAjbuPEFYGZDU66T4/H08RbwJFm9m7qCUmfxumgrc/ohhu6xWJPSXI8UA8cB/wO2AEXbRwLPyPweMqLc8hs+/1le9744nQxq56SwMxeCt4uxK0P5IVXBB5PGWFmd2Y5d09HyuIpHSQNx3mHDSIyrpvZJnHae0Xg8ZQhkm4BfmFm84L9QcANZjaqve45fjzMnw+33577Wk+HMxH4DfAa0JhvY68IPJ7yZArwgqQTgTVxg8BJ7XnDTz7xcQQlzCwzu6+tjb0i8HjKEDP7m6Q3gMnAbFx1qi9yNPN0Xs6WdB3wBLA0PGhmsdJOeEXg8ZQhkn4GnAkcBGwCPCjpUDObUVzJPEXiUGA9oIZm05ARM/+QVwQeT3myN7C1mX0J3CbpbuBG4HtFlcpTLLYws++2tbFXBB5PGWJme6bsvyhpRHvec4stfBxBCfNfSRuY2ZttaSyz4qQTkTQL+DjBLvvjbKWljJexcEpdPkhexkFmtmqC/cUiwzNaDn//dJSr3NBa9lbfB0lvAWsDH+LWCARYXPfRoimCpJE01cyGF1uObHgZC6fU5YPykLGtlOtnK1e5IZ7sgftwK4K8Qznxxes9njJC0vHB61bFlsVTOpjZx+m2uO29IvB4yoswfcAVRZXC06noTIvF1xRbgBh4GQun1OWD9pXxLUnvAmtIejVyPC+bcAGUw98/HeUqN3SA7J1mjcDjqRQkrQY8AuyRei4fc4DHE+IVgcdTpkiqBdYNdt82s+XFlMdTvnTKNQJJJ0kySf2LLUsqki6S9H+SXpV0t6SSKCYiaWdJb0t6T9KpxZYnFUnfkTRZ0puS3ggXTUsNSdWSpkv6dzvfZ1vgXeAvwFXAO5JGJth/1u+DpK6SJgXnX5A0OKl7F0IMuU8MvkOvSnoik7dNMYj7DEraOxjfkvOCMrNOtQHfwU2bPwb6F1ueNPKNAboE7/8E/KkEZKoG3gfWAmqBGcAGxZYrRcbVgWHB+57AO6UmYyDbicCtwL/b+T7TgO9G9tcFpnXU9wE4Brg6eL8fMKkE/vZx5N4eqA/eH10KcseVPbiuJ/AM8Dyu3Ggi9++MM4JLgJNxeTZKDjN71MxWBLvP4wqJF5stgffM7AMzWwbcDowtskwtMLOZZvZy8H4BrlLXmsWVqiWSBgC7Atd1wO1qzOztcMfM3sHlmUmCON+HscBNwfs7gVGS0pXP7Ehyym1mk81scbBbKs8fxH8Gf4f7AbkkyZt3KkUgaSzwmZVP4q3DgIeKLQRuQI2WOWygxAbZKIEZ4nvAC8WVpBWX4n6E5J0Pvg1MlXSdpO2C7VpgakJ9x/k+NF0T/LCZB/RL6P5tJd/v8eGUxvMHMWSXNAz4jpk9kPTNy859VNLjwGppTp0O/BZneikq2WQ0s3uDa04HVuAKSnhiIqkHcBdwgpnNL7Y8IZJ2A740s2mStuuAWx4NHIurUQvwLG6twBMDSQcCw4Ftiy1LHILC9BOAQ9qj/7JTBGa2Y7rjkjYGhgAzghnqAOBlSVtaB+dpzyRjiKRDgN2AURYY/orMZ7i1lZABwbGSQlINTglMtJh51juQrYA9JP0IqAN6SfqHmR3YHjczs6W4gWFCO3Qf5/sQXtMgqQvQG5jTDrLkQ6zvsaQdcT8ctw3+jqVALtl7AhsBTwXj22rAfZL2MLPCZ4LFXiRpx8WXjyjNxeKdgTeBVYstS0SmLsAHOEUaLlRtWGy5UmQUcDNwabFliSHrdrTzYnGxvw+42Uh0sfiOMpH7e7hF2aHFljdf2VOufwq/WFzWXInT7o9JekXS1cUWyJyN9xc4b6u3cA/1G8WVqhVbAT8Ddgj+bq8Ev749CZPp+yDpPElhENv1QD9J7+E8pYruchxT7ouAHsA/g+9Qm8s7JklM2dsNH1Dm8Xg8FU7ZrRF4PB6QtC6uYP0gIs+xme1QNKE8ZYufEXg8ZYikGcDVuMCyleFxM5tWNKE8ZYtXBB5PGSJpmpltXmw5PJ2DWIpA0s7AZbgw6OvM7IIM1+2NizLcwnK4NPXv398GDx6ct8AeT6Uxbdq02da6NOE5wJfA3bjShACY2VdJ3bdLtzXNGgvzrmxcNucRM9s5IZE87UTONQJJ1bjEVqNx0W4vSbrPUookS+oJHE/MaM/BgwczdWpSgZAeT+dFUrrU0gcHr7+JHDNcrppEsMal1K+xe0F9LPzoxpJL/OhpTRz30aLmwPBUIPPmwddfF1uKksbMhqTZElMCHUWMbKEjJb0saYWkH6ecGyjpUUlvBRlFBwfHJwZ9vi7phiAQ0ZOFOIogsRwYksZLmipp6qxZs/IW1tNJWboULr8c9tsPhg6FPn3g2mvduYUL4T//Ab+W1QJJNZKOk3RnsP0i6QGvStXU1fYpaMvxGUJrwy7ABsD+kjZIuewTXFqFW9N0cTNwkZmtj/vB+mVwfCKwHrAx0A04om1/gcqh4ICySA6Mk3Jda2bXmNlwMxu+6qqr5rrcUwksXw4jR8Lxx8Pzz8Mmm8Dvfw87Blk6Jk2CrbeGjTaC++8vrqylxV+BzXH5ha4K3v+1qBLlT5xsoR+Z2aukJPILFEYXM3ssuG6hBVlFzexBCwBepHQyjJYsceIIOiwHxvLly2loaGDJksqxLtXV1TFgwABqaip09lpTA3vvDb/9LYxNY3Hcd1/3eumlsOeecP31cMghHSpiibKFmW0a2X8ycCktNfpLio4D15hZWIM3nbVhRMx+1wW+lvQvXFqGx4FTzazJlTaYIf0Mt3bpyUIcRfASMFTSEJwC2A/4aXjSzOYBTQtCkp4Cfp2vEgBoaGigZ8+eDB48mOKnNm9/zIw5c+bQ0NDAkCFDii1Ox7FyJZxzDmy/PeywA5x8cuZre/SAww93ZqO99oJDD4XGRjjssA4Tt0RZKWltM3sfQNJaROIJkkBVXajr2rfQbmabWXKVtJrpAmyDyx30CTAJZ0K6PnLNVcAzZvZsO9y/U5HTNNSROTCWLFlCv379KkIJAEiiX79+FTUDAuC005z55+GH47fp3t2Zho44Arbaqv1kKx9+A0yW9JSkp4EniWGeLTEKyXrbALwSmJVWAPcAw8KTks4GVsXlQfLkIFaKCTN7EHgw5dhZGa7drhCBKkUJhFTa5+X22+Gii+Coo+DCC/Nr27Vr8yKyGTz6KOy0U/IylgFm9oSkocB3g0NvW8IplatUTdfa3kl2mUpWa0OMtn0krWpms4AdCArzSDoC2AmX5r0jigSVPT77qKfjmDHDmXS22gouu6ywvm6/HXbeGR55JBnZygRJOwSv43BlMdcJtl2DY2VD8Ev+78DbwCLgi1RrQ+BpuAwXN/F3SW8EbVcCv8bNipYD3weCXwlcDXwb+ELSN5LS/mj1NOOTznk6jptvhlVWgTvvhNrawvrac0/nSXTwwU7BfPvbychY+myLMwOli/QyILmCPVVC9XWJdZdK4D56CM7VMwxW3SDF2vAorpLYr4H7zOzO8ISZPSbpCeBV4KvA8wgz6xIoxR8Dm5jZee32IToJXhF4Oo4//xlOPBFWS1fFM0+6dYPbboMttnBeRA88AFWdf4JrZmcHb88zsw+j5wITSznR5D4KICl0H23KWmBmHwXnWpl4JG2O++X/ME5ZhMd74NYGxgN3tJ/4nYfO/+QkyDfffMO2227LypXxnTOWLVvGyJEjWbFiRTtKVuLceiu88w5IsGa2WuJ5stFGcPHFbtG5UFNT+XFXmmN3pjnWdqqE9agtaCNwH41s4yN3yLfYfBNB/NLFuJlCKr8Lzi3O0ce+gbcVkjYJops/D3KmVRR+RpAHN9xwA+PGjaO6ujp2m9raWkaNGsWkSZM44IAD2lG6EuXtt53L5z77wC23JN//0UfDK6/ABqkBqZ0TSesBGwK9U9YEeuFqJZca7eU+egzwoJk1RB0uJG0GrG1mvwpTTmThN7jKd+CUx/HAyzgPyXSKttPiZwRp2H///dl3333ZcsstGTRoEA884DJnTJw4kbGRoKftt9+exx57DIAzzjiDX/7yl2n723PPPZk4cWL7C15qmMGRR0J9vTMLtQcSXHNNJXkPfRfYDeiDWycIt2HAz4soV1soxH30B8AvJH0E/Bk4SNIFwfHhwfEpwLpBbFMLAvfSNYBTJJ0LbA1sgTMn9ZZ0lqSRbflQ5Uhpzwi22671sX32gWOOgcWL4UdpStYecojbZs+GH/+45bmnnop12xkzZjB27FgmTZrElClTOPHEExk9ejQffPAB0dTZ5557LmeddRZffvkl06dP57770pc/3WijjXjppZdi3btT8fe/w9NPO5fP9l7MbWyE886Dnj3hpHJzp4+Pmd0L3CvpB2b2XLverLoKehS4qJ+dl4BNJH2ASyHRHdgxekEwGF8KbAbMptn8dREu02ovXHr8qWZ2atDmauD3wP5Bv60W0M3sXEnbAx/i4g0eNrNzgvY7VdoCs58RpLBkyRJmzZrF2We7NbkNNtiAuXPnMnv2bPr0aZlEa+TIkZgZEyZM4Pbbb6e6upoPPviAww8/nB9HlFB1dTW1tbUsWLCgQz9LUfnyS/j1r2GbbTomCriqCl57Dc48Ez75pP3vV3zGB5k1W2zFFipPwkyCCjYASwlW7YNbN1gJHBm6j+Ls/weZ2Ya49YBtJIUP6CG4mcYo4D1cDqN0HI2bXW1GsNYQ5DDKmjyzM1LaM4Jsv+Dr67Of798/9gwgyuuvv87QoUOpq3Pm1pdffplNN92Ubt26tYoAfu2115g5cyb9+vWjZ8+eAKy11lpcf/31LRQBwNKlS5v6rAjq693awBFHdJw3zyWXwEMPOc+kO5NdNy1B/h15XwfsBXye5A2sSljPdp0RbAm8amY7AUg6DRgbdR81s/twuctuBP4duo+a2TuRay6VdCjul/3XuAH+p4FX1UaZbm5mbwH7phx7k4jXUqXgZwQpzJgxg08++YQlS5awaNEizj77bH71q1/Rt29fVq5c2aQMZs6cyQEHHMC9995Ljx49eDhLuoQ5c+bQv3//ykos16OH8+hZf/2Ou+fAgXDGGXDXXZ0+0MzM7opsE4F9iLhQlglt9hqKImlLoBZ4Pzi0NrBv4KX0UBCB7cmCVwQpzJgxg3HjxjFixAi22GILjj76aLYKctuMGTOGKVOmsHjxYsaNG8fFF1/M+uuvz5lnnsm5556bsc/Jkyez6667dtRHKC7Ll8O4cfBskfJ8nXSSq2lwwglu3aByGAp8K9Eeq0Vjr9qCNrK7jxaMpNWBW4BDI+kkugJLAm+la4FyM5l1OF4RpDBjxgyOPfZYZsyYwZtvvsmBBx7YdO7YY4/lpptuor6+nueee47Ro0cDbq3guefcut2cOXM46qijmD59Oueffz4At956K0ceeWTHf5hicNVVcPfdrspYMejaFW66yQWbdeIAM0kLJM0PX4H7gVOKLVcaZoc1SILtmsi5QryGkNQLZ88/3cyej5xqoHmB+G5gk7aJXjmU9hpBEXj//fcZOjT9THLYsGFsv/32rFy5MmMsQb9+/bj66qub9pctW8aee+7Juuuu2y7ylhRz5sC558Lo0VDMGdAPftD8fuVKyCPuo1wws57tfpPqdl8jaHPSOUm1uEH+5mjaiYB7gNAjaFvgHbIgaTUz+yLTfiXQeX8ytZGGhgaqsvySPOyww/IOKDvooIOSEK30OfdcNxOYMMH59xcTM7dQffjhxZWjHZE0TtIESRdL2rPY8uRLIUnncGsi2wJ/krRU0sdBMBnAu8Clkr7BKYt00cdRrs+x3+nxisCTDO+848xC48e71A/FRnKeYzfdBNOmFVuaxJF0FXAU8BrwOnCUpL8UV6r8SEk61x1YLUw6F3gLQXPSuXAdYMPg+IO4gjSr46oirgQ+ltQFOB9Yy8y64dYIts8iQxiQ14SZVciCXjPeNORJhrXWgiuvdGUnS4XTToMbbnALyJMnF3+Wkiw7AOsHdXmRdBPwRvYmeVJdhfXqmmiXKRSSdG4n4DEz+yo4/xiwMy7gTEB3SXNwAWfvZZFhX9zs4S7gBjP7vwQ+V9lRcjOC4HtdMXSaz9uliys2s+qqxZakmd69nbnq6afh3nuLLU3SvAcMjOx/h+wDXrFol6Rzmdqa2XJcHMFruLiKDchi6jGzA3HpOd4HbpT0XGCOav81mBKipBRBXV0dc+bM6TyDYw7CmsVlHWi2YgWMGgX//GexJUnPz3/uYhnOO8+tG5Q5ku6XdB/QE3grKFU5GVdGNtHBS1WipkeXgjayew0ljlzB+qNxtYzXwNUqOC1bm6Du+p24COTVccF5L0tKnzysE1JSpqEBAwbQ0NDArFmzii1Kh1FXV8eAAQOKLUbbuf56ePJJOPbYYkuSni5dXBrs1VbrLKahdsreVxQKcR/9DNgupe1TuHQRmNn7AJLuAE7N1Imksbh1inWAm4EtzexLSfU4E9UVMeUpa0pKEdTU1DBkSLnV1qhg5s1zuX1GjoS99iq2NJnZLHAmMYOlS6GMZ2Bm9nRH3auqCuq7t6vyLKRm8SPAHyX1DfbH4H751wEbqLmW8WjcbCkT44BLzOyZ6EEzWyyp87qcpVBSpiFPmXH++TBrVmm4i+ZixQrYfns4+eRiS1IQkqYEr2FAWbiFgWVlQ0z30R9KWgwcBNwmKYwJWIhTHl8E2yQz+8rMPg/6/FTSUuAA4I9ZxPgiVQlI+lMg3xNJfdZSJ5YikLSzpLeDCj6tplmSTpT0pqRXJT0haVDyonpKipkzXZK3gw6CzTcvtjS56dLFrRVcdRW8Wb45xcxs6+C1p5n1imw9zaxXseXLh5juo5vhgsaqgJ8B04PjPwfeNbOuOPPSaLmqZeBSWW+Hmx28jfNOysToNMd2afOHKlNyKoLgn/UX3B9nA2D/IFVrlOnAcDPbBLfocmHSgnpKjNVXd544f/hDsSWJz3nnuWR4ZV6vQFK1pHZ3c6yqgvp6FbTloMl9NCg8H7qPRhkL3BS8vxMYJVeSbAPgSQAz+xKXdXR4kHuol5k9H7jW3gy0CraTdLSk14D1gh+w4fYhboG5oogzI8j5zzKzyWYW1gd9Hrdw4+mshMncdt4Zymmhe9VV4eyzXY3jBx8stjRtxsxWAm9LGpjz4uJTqPto0zWBKWke0A+YAewhqUuwxrA5bmawZtBPtj4BbsUFkt1Ly0pvmwcupRVFnMXidP+sEVmuPxx4KN2J4EswHmDgwHL4Dnta0djobO277+4Kz5Qbxx4LV18Nl16avsJd+dAXeEPSizj7OgBmtkfmJvlRVQXdc/+qz0V71Sy+AVgfmAp8DPwXF10cFzOzjyS1cneTtEoYqFYpJOo1JOlAXDj4tunOBz7E1wAMHz68/J26K5Hrr4dnnnF5fMqR2lq47z5Xu6C8ObPYAiRAHPfR8JqGIH1Eb2BOYPb5VXiRpP/iksvNpaVFIpNL6q246mTTcJXSohrPcGUwK4Y4iiCWr6+kHYHTgW3NbGky4nlKitmz4dRTnbvogWU8e/7ud93rkiWwbBn0Kqs11pAfmVmLtNOBt0ti7qXVVdCntl1rOsRxH70Pl3DuOeDHwJNmZoGfv8xskaTRwIqguhiBF9X3gRdw3katYgHMbLfg1furE2+NoOmfFaR+3Q/3z2lC0veAvwF7BAs3ns7Iaae52IG//KX03UVzsWQJbLopHH98sSVpK2Xv7RLHfRSXbG7XIAPpdTQP6j8H5khagqs9sLWkzQIFsQynEJfiivWkNVUDSNpKUvfg/YFBNteyny7mS05FEPyzfoEL4HgLuCPNP+sioAfwT0mvBCHwns5EQ4PL5HnCCaWRXbRQ6upcENyNN7aptnWx6Ehvly4y+nZdWdCW47PEcR89EHjAzGqB5Y4p3QAAEa5JREFUI3BjEWZ2mZnVmVkd8EPgQzN7JWhzZuBW2gNX5H7nLGL8FVgsaVPgJFzOoVvy/mOVObHWCMzsQVza1+ixaIHpHROWy1NqDBjg0jkPHlxsSZLjrLPgjjvgyCNhxoxyiTi+FfcL93xapk5YUIYLnDmzjwb75wTv7wSulKQw62rA/jhvRgLvxcnB+2WSXia7F+OKwNQ0FrjSzK6vpIjiEB9Z7MnN//7nXjfeGHp2oqSM9fXOg+idd1yUdBlgZvOC1Mxn4EwpHwNDgAMl9SmqcOlpL/fRKPsCt6XeOPh77A5kixBeIOk0gplHEJRWk/tjdS5KKteQpwT59FOnAM44ozzdRXMxZgwccAA8+6xzjS2fOsd34QKo1sF54t2Lmy0k5hNbLVil8MXi9nIfBUDSCGCxmb2ecrwLTjlcHs44MrAvboH6cDP7IlgfuKi95C1VvCLwZKaxEQ491OXpKeWkcoXyt79Bt27lpAQAGs1shaRxwBVmdoWk6TlblRZtdh+NnN+PNLMBnHJ818wuzSZAUJt4QmT/E1w0ckXhFYEnM1deCU88AddcA2uvXWxp2o/u3d3rF1/A1Kmw227FlSceyyXtj3OPDEstJmrS6FJlrJJjwbdA2uw+ChCYcfYBtok2kPR7nMLIGewSKNI/4byLFGxWbnmbCqWsfgJ5OpC33oJTTnGDYrkGj+XLr38NP/4xvFoWqWYOBX4A/MHMPgwG07LydinEfVTSYOAboA/wL0lXB8cH4OKZNgDmSvpGUrYv8IU4t/fe5Zq8Lwn8jMCTnvffhzXWgGuvLf+YgbhMmOBmQPvu62YG4UyhBAmCp46L7H+I+2WbGF0Eq9a1X0BZivtoA/BS6D4auSx0Hz1K0n4499Fng3PvmlkLX2Yza3BdaxxuBrGJmV2XRYz/mVm2egUVgZ8ReNKz227w9tuuslel8K1vwT/+4T73L0uzSqFcxS0kvZYSR/CqpLKYykQoJPtoRiT1AE4Efh9DhqmSJknaX9K4cMvvY5Q/fkbgacmjj8J778Exx7gc/pXGqFFw+unw+9+77Kr77FNsiVIJQ6HbfSHDrREUPCPoL2lqZP+aSN3iOAktW7iPSoq6jw4JFsjnA2eYWThT+B1wMS6YLBe9guvGRI4ZLlq5YqjAJ92TkTffhJ/8BAYNgsMOK5cAq+Q5+2z3umPpxUma2czg9eNiyxKT9nIfnQkMNLM5kjYH7pG0IS5Z3Npm9qtgHSErZnZoO8hWdnjTkMcxa5YzB3XrBvffX7lKANxM6He/g1VWgcWLYc6c3G06CLUuUdliK7Z8eZKP+2gYGxBmH11qZnMAzGwaLjXEurgF9OGSPgKmAOtKeiqTAJLWlauq+Hqwv4mkMxL4bGWFnxF4XEH3vfaCzz+Hp592MwKPK3a/xx4wfz48+aSrblZ0kawngKTf4X4V34JzeTwAWD3Je3UR9G/HxWKc++gmkj4AGnH5hlKnYQ8CtwTLAgY8H6SEGENzJcSuOPfPD8xsqqTbcB5G3wv6PS2LDNcCv8ElzcTMXpV0K/HWFzoNfkbggcceg+eec0nlRmSrOVRhSC476csvw7hxTmGWDnuY2VVmtsDM5pvZX2m90FrqhPmCQv99AEtxH43WCoguEvejOW5iOVCNWysAuAx4GBiFmylk8wqqN7MXU46tyOdDdAb8jMDjTEJvvtmcp9/TzO67u2I8hxwCBx8MEydCdXWxpQJYJOkAnKeN4RKvLcreJD+qBD1r2rV+1JbAq2a2E0CQ82dsivvorsCBZvZcYBr6Ikg6dxtBRHEQQ/F88L43MBI4JAg82zCHDLMlrU2glCT9GDfTqij8jKBSWbbMDWxPPun2vRLIzMEHw0UXwaRJcN55xZYm5Ke4qNr/BdtPaB2VW+oUlHRO0ghJbwCvAUcF54cAs4C/S5ou6bqw3kAGjsWZhdaT9BlwAnB0wZ+szPAzgkpk4ULYe2/nKjpsGOywQ7ElKn1+/WtYvtz93UqAIANpu5qCqgXdCx8hsrmPFoSZvQBsKGl94CZJD+HGtGHAL83sBUmX4dJ1py3tGSSk2zFQFlVmtiAJ2coNrwgqjVmznLlj6lS44QaXVM4Tj9OCNUczl431oIP8TCo32dxHk0g6h5m9JWkhsBFuVtEQKAlwQWjRug0ASDoxnUBhrJqZTUh3vrPiTUOVxKefwoYbwiuvwF13eSXQVj77zKXeGDECHn642NKUMznL4NKcdA5a1iweEigGJA3Cpan4KMgm+qmkUEOPomWhm5CewTYcZwpaM9iOws0oKgo/I6gEVq50C5wDBrhAsQMP7BzlJovFgAHw0ktuZrXLLu7vedFFnS4dR5WgezsuFgeRwmHSOeEG+TcknQdMDcpV3gK8ESSdW0ZzXeadgT9LqsPNEMab2ezg3APA9CAVxXxcKcvUe58LIOkZYFhoEpJ0TtC+ovCKoDOzYoUrxXjOOfDQQy6V9AUXFFuqzsGgQfD88/DHPzolMG0avP56u9c0yGTSCCknk0aBSeduxi0SbwRsZGb3BH12weUZGmhmsyVdCPyM5nKXqXwbp2BClgXHKgqvCDojS5a4mIALL4QPPoBNNoFvvim2VJ2P+nqXk+igg5y5qKoKFi2C22+H/fZrr+ylHVYrtErQrbpdM88WUrN4ETAlqNAWJYxJ6C5pDi6X0HtZZLgZeFHS3cH+nsCNbf5EZYpXBJ2NpUthvfXg449hiy3g4otddGx5Vd8qL9Zd123g0nMccQScdJKLPTjqKPf/SIjQpNFJKCTp3GzSYGbLJR2Nmy0sAt7FuYimxcz+EHgbhcVtDjWzcqv0VjCxFIGknXHRetXAdWZ2Qcr5rjjNujnOXrdv4N7maU++/tqZJB580P3yv/tu6NoVTjjB1RneYYfKqSVQKuy7r1tDuOoqt112GQwd6v5PPXs6j6ME/ieBbfxwXMBUU2IoMzus4M7De1BFTVV9od20m/toOiTV4BZ/vwd8gCtkcxpZUkaY2cvAy+0lUzmQUxEEdry/AKNptuPdFxTGCDkcmGtm6wR2vD/hikJ7CqWxEWbObP6FX1PjauxedJErHgNQW+syZS5d2qwIPMVB/9/e3cdYcZVxHP/+drsBCcK6tqnotrxIZaFAlQUh6TZAMLVRYg3GKEbTapvGF4Im+JKWhD80jbFWMY2xCVZpaZtQS2sgbU1tG2ONDb5sFQlLWaFYU7S8ZBEDTUHg8Y9nLnvZvfvC3peZuff5JJO7mXPvzLOwd86cM+c8R9DV5dvGjT4JrafHKwHwimLXLh+9NXeuv3Z0wHXXXeqZHgZeAT4MfBvPNZTFBVaqPnx0gPcDmNkBuLB+w6Dho+Fio2kRlNOPN/SQg74+ePDBi/fNnOlfIIAtW/wiWKyjA5Ys8VEwD5dYlW/ePOjs9D7yrVsHly9Y4P3lJ0/Ctm2Dyxcvhtmz4fhx2L7d796KdXX53d3hw/D00/3lhdcVK2D6dB+mWSg/f97jPXfO89VMneoXhsce89m9Z854//2bb8KGDTBjhg/tXL/e/436+vyzAL29fv5Jk/zCcdtt/vsuWeL7QrZceSWsXXvxvsWL/f9zzx7/Gzt/Hm64AV580cuXLoUjR2Dy5P6ttJlm9klJN5vZQ0mitN8N9eaxkJpoaapqor2y1iwewiFgjqQrzOwofgObxQoyU0ZTEVSsH0/SHcAdAAuamgaPY7/llv6K4PbbfSZnsTVr+iuCUmPg77zTL4ynTpUuv/turwiOHStdft99XhG8/nrp8s2b/UJ84IBfhAfats0rgp4e+FKJWerXXusVwd69nqqgpcXv5idM8K2wKlZbm1/o29p8a2/3z01JkkuuXu1byJ9163wDv2Hp7fXRXQWLFnnr78QJ3w4fHupIhS/HfyTNBd7AM3DmRpnDR5F0HH8YLEmfApaaWY+kx/EWBHj3UFdNf7EcqunD4qRvcBPAwvnzjR0D5o4Up/nt7R18gELzuqUFDh4cXF64e2ptLV3e2uqv7e2ly9va/HXWrP7y4v7cdyYLI3V2+pe1uFzq//yyZZ7SWfKHtM3NvhV+v1Wr/E5wqL7i5ct9C/Vt/Hi/MSl2772D31f672STpHfgqRN2ABOBDaXemFXlDB+VNAf4J95j8W7geWBfcsyPArMLx8SHg2ZnUYkMGk1FUI1+PL8TnjZt6PLhyqThy5ubhy+/7LLhy0eKbdw4uPrq4cunDJMaPh7ghjIVLcj+W3xVrorzh8VVGQJbMOZu52T/VjM7DRyUtD85HqM4ZhhgNBVBNfrx6O7uPiapksvtXc4QQ8oyJGIsX9bjg8rHOGiloGSk3ieAaRR9j82sYulRu7t7nm1umnt5mYcZP8yooXK6nd9Dknq66LOFzKUjHTMMMGJFkPzjrwGexYeP/rxEP97P8FWE9gN9eGUx0nGvKC/0i0n6c5XWRq2YiLF8WY8PahbjdjwlczdQlRVzzOymahw3ZM+onhGY2TP4knHF+zYU/fwWng89hFAb7XVwoS6n23m4z450zDBATDcNIZ9ekjQv7SDKNObso8n+T0sal3RbXwP8cZTHDAPUU4qJqs1WrKCIsXxZjw9qE2MXcKukg3jXkAAzs/nDfyw7yul2Tt73C/wh8FngK2Z2DqDUMWv9u+WNRnimG0LIoCQH/yBmVskBGKFB1FOLIIS6J2mSmf0XaMglFUN1RIsghByR9JSZrUy6hAzvEiowM6vKnIJQ3+ryYbGkdZJMUrljoCtO0vclvSLpb5J+Kak17ZjAM8xK2idpv6TMJemSdJWk30jqkbRH0lfTjqkUSc2S/iLpqWoc38xWJq/TzWxG8lrYohIIY1J3LQJJVwEP4NPWO4uWr8sESTfiIx/OSvoegJl9K+WYmoFeijLMAqsHZJhNlaQpwBQze1nS2/Hx8x/PUoxwYQWxhcCkwkW7Sucpta7uCeA1MztboiyEIdVji2Aj8E282Zw5Zvbroi/qTnycc9ouTPU3szNAYVp+ZpjZv5O88STry+6lfyZpJkhqx/PcPDDSeyvgJ/jfzybgp8nPj+P5dm6swflDHamrikDSzcAhM9uVdiyj9AXgV2kHQemp/pm6yBaTNA1feOQP6UYyyI/wm5DzI72xAv4FfMDMFppZJ56H/1W8VXdPDc4f6kjuRg1Jeh54V4mi9cBdQOp3Q8PFaGbbk/esx8c/P1rL2PJO0kTgCeBryeiZTJC0EjhiZt2SltXglO8rHh+fpF/uMLNXFUkNwyXKXUVgZh8qtT+ZZTkd2JV8EdqBlyV90MzeqGGIQ8ZYIOlWYCWwYqTkfDUymqn+qUuWIXwCeNTMnkw7ngGuBz4m6SP40pGTJD1iZp+t0vl6JN2Pd+OBrwjYkySj+9/QHwthsLp7WFwg6R/Awgw+LL4J+CG+iMbRtOMBSHK49AIr8ArgT8BnsjQjM0k9/BDQZ2aZXoszaRF8vcoPi98GfJn+RVd+jz83eAuYYGYnq3XuUH9y1yKoAz8GxgHPJS2XnWb2xTQDGmqqf5oxlXA98Dlgt6S/JvvuShIiNpRklNczZrYc+EGJt0QlEC5J3bYIQqhnkl4AVpnZibRjCfkXLYIQ8ukk3jp6DjhV2Glma9MLKeRVVAQh5NOTyRZC2aJrKIQQGly0CELIIUnXAN8F5uDDVQGIfENhLOpqZnEIDWQzcD8+KXE5sAV4JNWIQm5F11AIOSSp28w6Je02s3nF+9KOLeRPdA2FkE+nJTUBf0/mgBwCJqYcU8ipaBGEkEOSFuEZWFuB7wCTgXvMbGeqgYVciooghBAaXHQNhZBDkhbiGXenUvQ9NrP5qQUVcitaBCHkkKR9wDeA3RStf2Bmr6UWVMitaBGEkE9HzWxH2kGE+hAtghBySNIKYDXwAnC6sD+D6zSEHIgWQQj59HmgA2ihv2vIiPxDYQyiRRBCDknaZ2az0o4j1IdIMRFCPr0kaU7aQYT6EC2CEHJI0l7gvcBB/BmBAIvho2EsoiIIIYckTS21P4aPhrGIiiCEEBpcPCMIIYQGFxVBCCE0uKgIQgihwUVFEEIIDS4qghBCaHD/BxvVBqSgjcS7AAAAAElFTkSuQmCC\n"
                },
                "metadata": {
                  "needs_background": "light"
                }
              }
            ]
          }
        },
        "75b1e03885b148b981b05a8927767e4f": {
          "model_module": "@jupyter-widgets/base",
          "model_name": "LayoutModel",
          "model_module_version": "1.2.0",
          "state": {
            "_model_module": "@jupyter-widgets/base",
            "_model_module_version": "1.2.0",
            "_model_name": "LayoutModel",
            "_view_count": null,
            "_view_module": "@jupyter-widgets/base",
            "_view_module_version": "1.2.0",
            "_view_name": "LayoutView",
            "align_content": null,
            "align_items": null,
            "align_self": null,
            "border": null,
            "bottom": null,
            "display": null,
            "flex": null,
            "flex_flow": null,
            "grid_area": null,
            "grid_auto_columns": null,
            "grid_auto_flow": null,
            "grid_auto_rows": null,
            "grid_column": null,
            "grid_gap": null,
            "grid_row": null,
            "grid_template_areas": null,
            "grid_template_columns": null,
            "grid_template_rows": null,
            "height": null,
            "justify_content": null,
            "justify_items": null,
            "left": null,
            "margin": null,
            "max_height": null,
            "max_width": null,
            "min_height": null,
            "min_width": null,
            "object_fit": null,
            "object_position": null,
            "order": null,
            "overflow": null,
            "overflow_x": null,
            "overflow_y": null,
            "padding": null,
            "right": null,
            "top": null,
            "visibility": null,
            "width": null
          }
        },
        "971c0573f03b472db30e496f5ed4afa4": {
          "model_module": "@jupyter-widgets/base",
          "model_name": "LayoutModel",
          "model_module_version": "1.2.0",
          "state": {
            "_model_module": "@jupyter-widgets/base",
            "_model_module_version": "1.2.0",
            "_model_name": "LayoutModel",
            "_view_count": null,
            "_view_module": "@jupyter-widgets/base",
            "_view_module_version": "1.2.0",
            "_view_name": "LayoutView",
            "align_content": null,
            "align_items": null,
            "align_self": null,
            "border": null,
            "bottom": null,
            "display": null,
            "flex": null,
            "flex_flow": null,
            "grid_area": null,
            "grid_auto_columns": null,
            "grid_auto_flow": null,
            "grid_auto_rows": null,
            "grid_column": null,
            "grid_gap": null,
            "grid_row": null,
            "grid_template_areas": null,
            "grid_template_columns": null,
            "grid_template_rows": null,
            "height": null,
            "justify_content": null,
            "justify_items": null,
            "left": null,
            "margin": null,
            "max_height": null,
            "max_width": null,
            "min_height": null,
            "min_width": null,
            "object_fit": null,
            "object_position": null,
            "order": null,
            "overflow": null,
            "overflow_x": null,
            "overflow_y": null,
            "padding": null,
            "right": null,
            "top": null,
            "visibility": null,
            "width": null
          }
        },
        "80dcd6f358334b28932840d835fcbdfd": {
          "model_module": "@jupyter-widgets/controls",
          "model_name": "HBoxModel",
          "model_module_version": "1.5.0",
          "state": {
            "_dom_classes": [],
            "_model_module": "@jupyter-widgets/controls",
            "_model_module_version": "1.5.0",
            "_model_name": "HBoxModel",
            "_view_count": null,
            "_view_module": "@jupyter-widgets/controls",
            "_view_module_version": "1.5.0",
            "_view_name": "HBoxView",
            "box_style": "",
            "children": [
              "IPY_MODEL_fa651a6db2b1437d99283ba44b94acaa",
              "IPY_MODEL_8744091a433a43fa984c8201c58c947f",
              "IPY_MODEL_67b5117cef3043369611daf478da458c"
            ],
            "layout": "IPY_MODEL_9c24019ab33e4d43961469c67aebec6f"
          }
        },
        "fa651a6db2b1437d99283ba44b94acaa": {
          "model_module": "@jupyter-widgets/controls",
          "model_name": "HTMLModel",
          "model_module_version": "1.5.0",
          "state": {
            "_dom_classes": [],
            "_model_module": "@jupyter-widgets/controls",
            "_model_module_version": "1.5.0",
            "_model_name": "HTMLModel",
            "_view_count": null,
            "_view_module": "@jupyter-widgets/controls",
            "_view_module_version": "1.5.0",
            "_view_name": "HTMLView",
            "description": "",
            "description_tooltip": null,
            "layout": "IPY_MODEL_0d7b3f974a5644af9ad08b5eaecf6cfd",
            "placeholder": "​",
            "style": "IPY_MODEL_aa8e86b20ce34d409417239ce775a5f9",
            "value": ""
          }
        },
        "8744091a433a43fa984c8201c58c947f": {
          "model_module": "@jupyter-widgets/controls",
          "model_name": "FloatProgressModel",
          "model_module_version": "1.5.0",
          "state": {
            "_dom_classes": [],
            "_model_module": "@jupyter-widgets/controls",
            "_model_module_version": "1.5.0",
            "_model_name": "FloatProgressModel",
            "_view_count": null,
            "_view_module": "@jupyter-widgets/controls",
            "_view_module_version": "1.5.0",
            "_view_name": "ProgressView",
            "bar_style": "success",
            "description": "",
            "description_tooltip": null,
            "layout": "IPY_MODEL_3b5eca6e84c645cb8a74beb89eae0245",
            "max": 9912422,
            "min": 0,
            "orientation": "horizontal",
            "style": "IPY_MODEL_077be2f7a9d54c9296e3a2e2a84f3aea",
            "value": 9912422
          }
        },
        "67b5117cef3043369611daf478da458c": {
          "model_module": "@jupyter-widgets/controls",
          "model_name": "HTMLModel",
          "model_module_version": "1.5.0",
          "state": {
            "_dom_classes": [],
            "_model_module": "@jupyter-widgets/controls",
            "_model_module_version": "1.5.0",
            "_model_name": "HTMLModel",
            "_view_count": null,
            "_view_module": "@jupyter-widgets/controls",
            "_view_module_version": "1.5.0",
            "_view_name": "HTMLView",
            "description": "",
            "description_tooltip": null,
            "layout": "IPY_MODEL_f4f88742f3c842138d3fa210e27e3595",
            "placeholder": "​",
            "style": "IPY_MODEL_dff19fada30a49fba2138d9f9c819718",
            "value": " 9913344/? [00:00&lt;00:00, 36433097.77it/s]"
          }
        },
        "9c24019ab33e4d43961469c67aebec6f": {
          "model_module": "@jupyter-widgets/base",
          "model_name": "LayoutModel",
          "model_module_version": "1.2.0",
          "state": {
            "_model_module": "@jupyter-widgets/base",
            "_model_module_version": "1.2.0",
            "_model_name": "LayoutModel",
            "_view_count": null,
            "_view_module": "@jupyter-widgets/base",
            "_view_module_version": "1.2.0",
            "_view_name": "LayoutView",
            "align_content": null,
            "align_items": null,
            "align_self": null,
            "border": null,
            "bottom": null,
            "display": null,
            "flex": null,
            "flex_flow": null,
            "grid_area": null,
            "grid_auto_columns": null,
            "grid_auto_flow": null,
            "grid_auto_rows": null,
            "grid_column": null,
            "grid_gap": null,
            "grid_row": null,
            "grid_template_areas": null,
            "grid_template_columns": null,
            "grid_template_rows": null,
            "height": null,
            "justify_content": null,
            "justify_items": null,
            "left": null,
            "margin": null,
            "max_height": null,
            "max_width": null,
            "min_height": null,
            "min_width": null,
            "object_fit": null,
            "object_position": null,
            "order": null,
            "overflow": null,
            "overflow_x": null,
            "overflow_y": null,
            "padding": null,
            "right": null,
            "top": null,
            "visibility": null,
            "width": null
          }
        },
        "0d7b3f974a5644af9ad08b5eaecf6cfd": {
          "model_module": "@jupyter-widgets/base",
          "model_name": "LayoutModel",
          "model_module_version": "1.2.0",
          "state": {
            "_model_module": "@jupyter-widgets/base",
            "_model_module_version": "1.2.0",
            "_model_name": "LayoutModel",
            "_view_count": null,
            "_view_module": "@jupyter-widgets/base",
            "_view_module_version": "1.2.0",
            "_view_name": "LayoutView",
            "align_content": null,
            "align_items": null,
            "align_self": null,
            "border": null,
            "bottom": null,
            "display": null,
            "flex": null,
            "flex_flow": null,
            "grid_area": null,
            "grid_auto_columns": null,
            "grid_auto_flow": null,
            "grid_auto_rows": null,
            "grid_column": null,
            "grid_gap": null,
            "grid_row": null,
            "grid_template_areas": null,
            "grid_template_columns": null,
            "grid_template_rows": null,
            "height": null,
            "justify_content": null,
            "justify_items": null,
            "left": null,
            "margin": null,
            "max_height": null,
            "max_width": null,
            "min_height": null,
            "min_width": null,
            "object_fit": null,
            "object_position": null,
            "order": null,
            "overflow": null,
            "overflow_x": null,
            "overflow_y": null,
            "padding": null,
            "right": null,
            "top": null,
            "visibility": null,
            "width": null
          }
        },
        "aa8e86b20ce34d409417239ce775a5f9": {
          "model_module": "@jupyter-widgets/controls",
          "model_name": "DescriptionStyleModel",
          "model_module_version": "1.5.0",
          "state": {
            "_model_module": "@jupyter-widgets/controls",
            "_model_module_version": "1.5.0",
            "_model_name": "DescriptionStyleModel",
            "_view_count": null,
            "_view_module": "@jupyter-widgets/base",
            "_view_module_version": "1.2.0",
            "_view_name": "StyleView",
            "description_width": ""
          }
        },
        "3b5eca6e84c645cb8a74beb89eae0245": {
          "model_module": "@jupyter-widgets/base",
          "model_name": "LayoutModel",
          "model_module_version": "1.2.0",
          "state": {
            "_model_module": "@jupyter-widgets/base",
            "_model_module_version": "1.2.0",
            "_model_name": "LayoutModel",
            "_view_count": null,
            "_view_module": "@jupyter-widgets/base",
            "_view_module_version": "1.2.0",
            "_view_name": "LayoutView",
            "align_content": null,
            "align_items": null,
            "align_self": null,
            "border": null,
            "bottom": null,
            "display": null,
            "flex": null,
            "flex_flow": null,
            "grid_area": null,
            "grid_auto_columns": null,
            "grid_auto_flow": null,
            "grid_auto_rows": null,
            "grid_column": null,
            "grid_gap": null,
            "grid_row": null,
            "grid_template_areas": null,
            "grid_template_columns": null,
            "grid_template_rows": null,
            "height": null,
            "justify_content": null,
            "justify_items": null,
            "left": null,
            "margin": null,
            "max_height": null,
            "max_width": null,
            "min_height": null,
            "min_width": null,
            "object_fit": null,
            "object_position": null,
            "order": null,
            "overflow": null,
            "overflow_x": null,
            "overflow_y": null,
            "padding": null,
            "right": null,
            "top": null,
            "visibility": null,
            "width": null
          }
        },
        "077be2f7a9d54c9296e3a2e2a84f3aea": {
          "model_module": "@jupyter-widgets/controls",
          "model_name": "ProgressStyleModel",
          "model_module_version": "1.5.0",
          "state": {
            "_model_module": "@jupyter-widgets/controls",
            "_model_module_version": "1.5.0",
            "_model_name": "ProgressStyleModel",
            "_view_count": null,
            "_view_module": "@jupyter-widgets/base",
            "_view_module_version": "1.2.0",
            "_view_name": "StyleView",
            "bar_color": null,
            "description_width": ""
          }
        },
        "f4f88742f3c842138d3fa210e27e3595": {
          "model_module": "@jupyter-widgets/base",
          "model_name": "LayoutModel",
          "model_module_version": "1.2.0",
          "state": {
            "_model_module": "@jupyter-widgets/base",
            "_model_module_version": "1.2.0",
            "_model_name": "LayoutModel",
            "_view_count": null,
            "_view_module": "@jupyter-widgets/base",
            "_view_module_version": "1.2.0",
            "_view_name": "LayoutView",
            "align_content": null,
            "align_items": null,
            "align_self": null,
            "border": null,
            "bottom": null,
            "display": null,
            "flex": null,
            "flex_flow": null,
            "grid_area": null,
            "grid_auto_columns": null,
            "grid_auto_flow": null,
            "grid_auto_rows": null,
            "grid_column": null,
            "grid_gap": null,
            "grid_row": null,
            "grid_template_areas": null,
            "grid_template_columns": null,
            "grid_template_rows": null,
            "height": null,
            "justify_content": null,
            "justify_items": null,
            "left": null,
            "margin": null,
            "max_height": null,
            "max_width": null,
            "min_height": null,
            "min_width": null,
            "object_fit": null,
            "object_position": null,
            "order": null,
            "overflow": null,
            "overflow_x": null,
            "overflow_y": null,
            "padding": null,
            "right": null,
            "top": null,
            "visibility": null,
            "width": null
          }
        },
        "dff19fada30a49fba2138d9f9c819718": {
          "model_module": "@jupyter-widgets/controls",
          "model_name": "DescriptionStyleModel",
          "model_module_version": "1.5.0",
          "state": {
            "_model_module": "@jupyter-widgets/controls",
            "_model_module_version": "1.5.0",
            "_model_name": "DescriptionStyleModel",
            "_view_count": null,
            "_view_module": "@jupyter-widgets/base",
            "_view_module_version": "1.2.0",
            "_view_name": "StyleView",
            "description_width": ""
          }
        },
        "d8a186cb233f4ff1b91af95bc7bf4d84": {
          "model_module": "@jupyter-widgets/controls",
          "model_name": "HBoxModel",
          "model_module_version": "1.5.0",
          "state": {
            "_dom_classes": [],
            "_model_module": "@jupyter-widgets/controls",
            "_model_module_version": "1.5.0",
            "_model_name": "HBoxModel",
            "_view_count": null,
            "_view_module": "@jupyter-widgets/controls",
            "_view_module_version": "1.5.0",
            "_view_name": "HBoxView",
            "box_style": "",
            "children": [
              "IPY_MODEL_0bf833ac5b96409280b806caf6227c26",
              "IPY_MODEL_53b6b53debe342c2b371afa118681280",
              "IPY_MODEL_97259d362e7042809867c2359944d85a"
            ],
            "layout": "IPY_MODEL_4e2bc55590f04261805e960161bf1fe4"
          }
        },
        "0bf833ac5b96409280b806caf6227c26": {
          "model_module": "@jupyter-widgets/controls",
          "model_name": "HTMLModel",
          "model_module_version": "1.5.0",
          "state": {
            "_dom_classes": [],
            "_model_module": "@jupyter-widgets/controls",
            "_model_module_version": "1.5.0",
            "_model_name": "HTMLModel",
            "_view_count": null,
            "_view_module": "@jupyter-widgets/controls",
            "_view_module_version": "1.5.0",
            "_view_name": "HTMLView",
            "description": "",
            "description_tooltip": null,
            "layout": "IPY_MODEL_79e1eb29aee94f7fb38093e754da6904",
            "placeholder": "​",
            "style": "IPY_MODEL_d0ac867f87d5476eb1f4a622237fafcc",
            "value": ""
          }
        },
        "53b6b53debe342c2b371afa118681280": {
          "model_module": "@jupyter-widgets/controls",
          "model_name": "FloatProgressModel",
          "model_module_version": "1.5.0",
          "state": {
            "_dom_classes": [],
            "_model_module": "@jupyter-widgets/controls",
            "_model_module_version": "1.5.0",
            "_model_name": "FloatProgressModel",
            "_view_count": null,
            "_view_module": "@jupyter-widgets/controls",
            "_view_module_version": "1.5.0",
            "_view_name": "ProgressView",
            "bar_style": "success",
            "description": "",
            "description_tooltip": null,
            "layout": "IPY_MODEL_e473433109ba4af08f29058b5fdc8b68",
            "max": 28881,
            "min": 0,
            "orientation": "horizontal",
            "style": "IPY_MODEL_31ad84a2d70047089accc10b18b84cd7",
            "value": 28881
          }
        },
        "97259d362e7042809867c2359944d85a": {
          "model_module": "@jupyter-widgets/controls",
          "model_name": "HTMLModel",
          "model_module_version": "1.5.0",
          "state": {
            "_dom_classes": [],
            "_model_module": "@jupyter-widgets/controls",
            "_model_module_version": "1.5.0",
            "_model_name": "HTMLModel",
            "_view_count": null,
            "_view_module": "@jupyter-widgets/controls",
            "_view_module_version": "1.5.0",
            "_view_name": "HTMLView",
            "description": "",
            "description_tooltip": null,
            "layout": "IPY_MODEL_ba7ce0f7f3a8412ab4a33c004b0f15e6",
            "placeholder": "​",
            "style": "IPY_MODEL_d8ec31bd1ed34bdb94fb959adce2f762",
            "value": " 29696/? [00:00&lt;00:00, 504514.57it/s]"
          }
        },
        "4e2bc55590f04261805e960161bf1fe4": {
          "model_module": "@jupyter-widgets/base",
          "model_name": "LayoutModel",
          "model_module_version": "1.2.0",
          "state": {
            "_model_module": "@jupyter-widgets/base",
            "_model_module_version": "1.2.0",
            "_model_name": "LayoutModel",
            "_view_count": null,
            "_view_module": "@jupyter-widgets/base",
            "_view_module_version": "1.2.0",
            "_view_name": "LayoutView",
            "align_content": null,
            "align_items": null,
            "align_self": null,
            "border": null,
            "bottom": null,
            "display": null,
            "flex": null,
            "flex_flow": null,
            "grid_area": null,
            "grid_auto_columns": null,
            "grid_auto_flow": null,
            "grid_auto_rows": null,
            "grid_column": null,
            "grid_gap": null,
            "grid_row": null,
            "grid_template_areas": null,
            "grid_template_columns": null,
            "grid_template_rows": null,
            "height": null,
            "justify_content": null,
            "justify_items": null,
            "left": null,
            "margin": null,
            "max_height": null,
            "max_width": null,
            "min_height": null,
            "min_width": null,
            "object_fit": null,
            "object_position": null,
            "order": null,
            "overflow": null,
            "overflow_x": null,
            "overflow_y": null,
            "padding": null,
            "right": null,
            "top": null,
            "visibility": null,
            "width": null
          }
        },
        "79e1eb29aee94f7fb38093e754da6904": {
          "model_module": "@jupyter-widgets/base",
          "model_name": "LayoutModel",
          "model_module_version": "1.2.0",
          "state": {
            "_model_module": "@jupyter-widgets/base",
            "_model_module_version": "1.2.0",
            "_model_name": "LayoutModel",
            "_view_count": null,
            "_view_module": "@jupyter-widgets/base",
            "_view_module_version": "1.2.0",
            "_view_name": "LayoutView",
            "align_content": null,
            "align_items": null,
            "align_self": null,
            "border": null,
            "bottom": null,
            "display": null,
            "flex": null,
            "flex_flow": null,
            "grid_area": null,
            "grid_auto_columns": null,
            "grid_auto_flow": null,
            "grid_auto_rows": null,
            "grid_column": null,
            "grid_gap": null,
            "grid_row": null,
            "grid_template_areas": null,
            "grid_template_columns": null,
            "grid_template_rows": null,
            "height": null,
            "justify_content": null,
            "justify_items": null,
            "left": null,
            "margin": null,
            "max_height": null,
            "max_width": null,
            "min_height": null,
            "min_width": null,
            "object_fit": null,
            "object_position": null,
            "order": null,
            "overflow": null,
            "overflow_x": null,
            "overflow_y": null,
            "padding": null,
            "right": null,
            "top": null,
            "visibility": null,
            "width": null
          }
        },
        "d0ac867f87d5476eb1f4a622237fafcc": {
          "model_module": "@jupyter-widgets/controls",
          "model_name": "DescriptionStyleModel",
          "model_module_version": "1.5.0",
          "state": {
            "_model_module": "@jupyter-widgets/controls",
            "_model_module_version": "1.5.0",
            "_model_name": "DescriptionStyleModel",
            "_view_count": null,
            "_view_module": "@jupyter-widgets/base",
            "_view_module_version": "1.2.0",
            "_view_name": "StyleView",
            "description_width": ""
          }
        },
        "e473433109ba4af08f29058b5fdc8b68": {
          "model_module": "@jupyter-widgets/base",
          "model_name": "LayoutModel",
          "model_module_version": "1.2.0",
          "state": {
            "_model_module": "@jupyter-widgets/base",
            "_model_module_version": "1.2.0",
            "_model_name": "LayoutModel",
            "_view_count": null,
            "_view_module": "@jupyter-widgets/base",
            "_view_module_version": "1.2.0",
            "_view_name": "LayoutView",
            "align_content": null,
            "align_items": null,
            "align_self": null,
            "border": null,
            "bottom": null,
            "display": null,
            "flex": null,
            "flex_flow": null,
            "grid_area": null,
            "grid_auto_columns": null,
            "grid_auto_flow": null,
            "grid_auto_rows": null,
            "grid_column": null,
            "grid_gap": null,
            "grid_row": null,
            "grid_template_areas": null,
            "grid_template_columns": null,
            "grid_template_rows": null,
            "height": null,
            "justify_content": null,
            "justify_items": null,
            "left": null,
            "margin": null,
            "max_height": null,
            "max_width": null,
            "min_height": null,
            "min_width": null,
            "object_fit": null,
            "object_position": null,
            "order": null,
            "overflow": null,
            "overflow_x": null,
            "overflow_y": null,
            "padding": null,
            "right": null,
            "top": null,
            "visibility": null,
            "width": null
          }
        },
        "31ad84a2d70047089accc10b18b84cd7": {
          "model_module": "@jupyter-widgets/controls",
          "model_name": "ProgressStyleModel",
          "model_module_version": "1.5.0",
          "state": {
            "_model_module": "@jupyter-widgets/controls",
            "_model_module_version": "1.5.0",
            "_model_name": "ProgressStyleModel",
            "_view_count": null,
            "_view_module": "@jupyter-widgets/base",
            "_view_module_version": "1.2.0",
            "_view_name": "StyleView",
            "bar_color": null,
            "description_width": ""
          }
        },
        "ba7ce0f7f3a8412ab4a33c004b0f15e6": {
          "model_module": "@jupyter-widgets/base",
          "model_name": "LayoutModel",
          "model_module_version": "1.2.0",
          "state": {
            "_model_module": "@jupyter-widgets/base",
            "_model_module_version": "1.2.0",
            "_model_name": "LayoutModel",
            "_view_count": null,
            "_view_module": "@jupyter-widgets/base",
            "_view_module_version": "1.2.0",
            "_view_name": "LayoutView",
            "align_content": null,
            "align_items": null,
            "align_self": null,
            "border": null,
            "bottom": null,
            "display": null,
            "flex": null,
            "flex_flow": null,
            "grid_area": null,
            "grid_auto_columns": null,
            "grid_auto_flow": null,
            "grid_auto_rows": null,
            "grid_column": null,
            "grid_gap": null,
            "grid_row": null,
            "grid_template_areas": null,
            "grid_template_columns": null,
            "grid_template_rows": null,
            "height": null,
            "justify_content": null,
            "justify_items": null,
            "left": null,
            "margin": null,
            "max_height": null,
            "max_width": null,
            "min_height": null,
            "min_width": null,
            "object_fit": null,
            "object_position": null,
            "order": null,
            "overflow": null,
            "overflow_x": null,
            "overflow_y": null,
            "padding": null,
            "right": null,
            "top": null,
            "visibility": null,
            "width": null
          }
        },
        "d8ec31bd1ed34bdb94fb959adce2f762": {
          "model_module": "@jupyter-widgets/controls",
          "model_name": "DescriptionStyleModel",
          "model_module_version": "1.5.0",
          "state": {
            "_model_module": "@jupyter-widgets/controls",
            "_model_module_version": "1.5.0",
            "_model_name": "DescriptionStyleModel",
            "_view_count": null,
            "_view_module": "@jupyter-widgets/base",
            "_view_module_version": "1.2.0",
            "_view_name": "StyleView",
            "description_width": ""
          }
        },
        "59e0d51a5b27497db031ed42de4aefdd": {
          "model_module": "@jupyter-widgets/controls",
          "model_name": "HBoxModel",
          "model_module_version": "1.5.0",
          "state": {
            "_dom_classes": [],
            "_model_module": "@jupyter-widgets/controls",
            "_model_module_version": "1.5.0",
            "_model_name": "HBoxModel",
            "_view_count": null,
            "_view_module": "@jupyter-widgets/controls",
            "_view_module_version": "1.5.0",
            "_view_name": "HBoxView",
            "box_style": "",
            "children": [
              "IPY_MODEL_0cf551fef7b74e23bfbd71678390378e",
              "IPY_MODEL_5892a1b52af44112b61a59ca6b2fd2a2",
              "IPY_MODEL_fbb4da7f047c443a900ff16fe5aae73d"
            ],
            "layout": "IPY_MODEL_5da91efda4a148ce82471163e4a7fa30"
          }
        },
        "0cf551fef7b74e23bfbd71678390378e": {
          "model_module": "@jupyter-widgets/controls",
          "model_name": "HTMLModel",
          "model_module_version": "1.5.0",
          "state": {
            "_dom_classes": [],
            "_model_module": "@jupyter-widgets/controls",
            "_model_module_version": "1.5.0",
            "_model_name": "HTMLModel",
            "_view_count": null,
            "_view_module": "@jupyter-widgets/controls",
            "_view_module_version": "1.5.0",
            "_view_name": "HTMLView",
            "description": "",
            "description_tooltip": null,
            "layout": "IPY_MODEL_e4561b6050a04d30a25c29015c7b5e9f",
            "placeholder": "​",
            "style": "IPY_MODEL_e2179ba221ed4bce9c692e706790524a",
            "value": ""
          }
        },
        "5892a1b52af44112b61a59ca6b2fd2a2": {
          "model_module": "@jupyter-widgets/controls",
          "model_name": "FloatProgressModel",
          "model_module_version": "1.5.0",
          "state": {
            "_dom_classes": [],
            "_model_module": "@jupyter-widgets/controls",
            "_model_module_version": "1.5.0",
            "_model_name": "FloatProgressModel",
            "_view_count": null,
            "_view_module": "@jupyter-widgets/controls",
            "_view_module_version": "1.5.0",
            "_view_name": "ProgressView",
            "bar_style": "success",
            "description": "",
            "description_tooltip": null,
            "layout": "IPY_MODEL_f3bc2ea216b5484f9ecca9f8b5f44249",
            "max": 1648877,
            "min": 0,
            "orientation": "horizontal",
            "style": "IPY_MODEL_ed0f9e24f8494976a59fe1de43498ad8",
            "value": 1648877
          }
        },
        "fbb4da7f047c443a900ff16fe5aae73d": {
          "model_module": "@jupyter-widgets/controls",
          "model_name": "HTMLModel",
          "model_module_version": "1.5.0",
          "state": {
            "_dom_classes": [],
            "_model_module": "@jupyter-widgets/controls",
            "_model_module_version": "1.5.0",
            "_model_name": "HTMLModel",
            "_view_count": null,
            "_view_module": "@jupyter-widgets/controls",
            "_view_module_version": "1.5.0",
            "_view_name": "HTMLView",
            "description": "",
            "description_tooltip": null,
            "layout": "IPY_MODEL_7e5ed4ca55a64638b9a39364e2bb7d9a",
            "placeholder": "​",
            "style": "IPY_MODEL_f59c315d66654bfba74945695ec807f6",
            "value": " 1649664/? [00:00&lt;00:00, 4401659.02it/s]"
          }
        },
        "5da91efda4a148ce82471163e4a7fa30": {
          "model_module": "@jupyter-widgets/base",
          "model_name": "LayoutModel",
          "model_module_version": "1.2.0",
          "state": {
            "_model_module": "@jupyter-widgets/base",
            "_model_module_version": "1.2.0",
            "_model_name": "LayoutModel",
            "_view_count": null,
            "_view_module": "@jupyter-widgets/base",
            "_view_module_version": "1.2.0",
            "_view_name": "LayoutView",
            "align_content": null,
            "align_items": null,
            "align_self": null,
            "border": null,
            "bottom": null,
            "display": null,
            "flex": null,
            "flex_flow": null,
            "grid_area": null,
            "grid_auto_columns": null,
            "grid_auto_flow": null,
            "grid_auto_rows": null,
            "grid_column": null,
            "grid_gap": null,
            "grid_row": null,
            "grid_template_areas": null,
            "grid_template_columns": null,
            "grid_template_rows": null,
            "height": null,
            "justify_content": null,
            "justify_items": null,
            "left": null,
            "margin": null,
            "max_height": null,
            "max_width": null,
            "min_height": null,
            "min_width": null,
            "object_fit": null,
            "object_position": null,
            "order": null,
            "overflow": null,
            "overflow_x": null,
            "overflow_y": null,
            "padding": null,
            "right": null,
            "top": null,
            "visibility": null,
            "width": null
          }
        },
        "e4561b6050a04d30a25c29015c7b5e9f": {
          "model_module": "@jupyter-widgets/base",
          "model_name": "LayoutModel",
          "model_module_version": "1.2.0",
          "state": {
            "_model_module": "@jupyter-widgets/base",
            "_model_module_version": "1.2.0",
            "_model_name": "LayoutModel",
            "_view_count": null,
            "_view_module": "@jupyter-widgets/base",
            "_view_module_version": "1.2.0",
            "_view_name": "LayoutView",
            "align_content": null,
            "align_items": null,
            "align_self": null,
            "border": null,
            "bottom": null,
            "display": null,
            "flex": null,
            "flex_flow": null,
            "grid_area": null,
            "grid_auto_columns": null,
            "grid_auto_flow": null,
            "grid_auto_rows": null,
            "grid_column": null,
            "grid_gap": null,
            "grid_row": null,
            "grid_template_areas": null,
            "grid_template_columns": null,
            "grid_template_rows": null,
            "height": null,
            "justify_content": null,
            "justify_items": null,
            "left": null,
            "margin": null,
            "max_height": null,
            "max_width": null,
            "min_height": null,
            "min_width": null,
            "object_fit": null,
            "object_position": null,
            "order": null,
            "overflow": null,
            "overflow_x": null,
            "overflow_y": null,
            "padding": null,
            "right": null,
            "top": null,
            "visibility": null,
            "width": null
          }
        },
        "e2179ba221ed4bce9c692e706790524a": {
          "model_module": "@jupyter-widgets/controls",
          "model_name": "DescriptionStyleModel",
          "model_module_version": "1.5.0",
          "state": {
            "_model_module": "@jupyter-widgets/controls",
            "_model_module_version": "1.5.0",
            "_model_name": "DescriptionStyleModel",
            "_view_count": null,
            "_view_module": "@jupyter-widgets/base",
            "_view_module_version": "1.2.0",
            "_view_name": "StyleView",
            "description_width": ""
          }
        },
        "f3bc2ea216b5484f9ecca9f8b5f44249": {
          "model_module": "@jupyter-widgets/base",
          "model_name": "LayoutModel",
          "model_module_version": "1.2.0",
          "state": {
            "_model_module": "@jupyter-widgets/base",
            "_model_module_version": "1.2.0",
            "_model_name": "LayoutModel",
            "_view_count": null,
            "_view_module": "@jupyter-widgets/base",
            "_view_module_version": "1.2.0",
            "_view_name": "LayoutView",
            "align_content": null,
            "align_items": null,
            "align_self": null,
            "border": null,
            "bottom": null,
            "display": null,
            "flex": null,
            "flex_flow": null,
            "grid_area": null,
            "grid_auto_columns": null,
            "grid_auto_flow": null,
            "grid_auto_rows": null,
            "grid_column": null,
            "grid_gap": null,
            "grid_row": null,
            "grid_template_areas": null,
            "grid_template_columns": null,
            "grid_template_rows": null,
            "height": null,
            "justify_content": null,
            "justify_items": null,
            "left": null,
            "margin": null,
            "max_height": null,
            "max_width": null,
            "min_height": null,
            "min_width": null,
            "object_fit": null,
            "object_position": null,
            "order": null,
            "overflow": null,
            "overflow_x": null,
            "overflow_y": null,
            "padding": null,
            "right": null,
            "top": null,
            "visibility": null,
            "width": null
          }
        },
        "ed0f9e24f8494976a59fe1de43498ad8": {
          "model_module": "@jupyter-widgets/controls",
          "model_name": "ProgressStyleModel",
          "model_module_version": "1.5.0",
          "state": {
            "_model_module": "@jupyter-widgets/controls",
            "_model_module_version": "1.5.0",
            "_model_name": "ProgressStyleModel",
            "_view_count": null,
            "_view_module": "@jupyter-widgets/base",
            "_view_module_version": "1.2.0",
            "_view_name": "StyleView",
            "bar_color": null,
            "description_width": ""
          }
        },
        "7e5ed4ca55a64638b9a39364e2bb7d9a": {
          "model_module": "@jupyter-widgets/base",
          "model_name": "LayoutModel",
          "model_module_version": "1.2.0",
          "state": {
            "_model_module": "@jupyter-widgets/base",
            "_model_module_version": "1.2.0",
            "_model_name": "LayoutModel",
            "_view_count": null,
            "_view_module": "@jupyter-widgets/base",
            "_view_module_version": "1.2.0",
            "_view_name": "LayoutView",
            "align_content": null,
            "align_items": null,
            "align_self": null,
            "border": null,
            "bottom": null,
            "display": null,
            "flex": null,
            "flex_flow": null,
            "grid_area": null,
            "grid_auto_columns": null,
            "grid_auto_flow": null,
            "grid_auto_rows": null,
            "grid_column": null,
            "grid_gap": null,
            "grid_row": null,
            "grid_template_areas": null,
            "grid_template_columns": null,
            "grid_template_rows": null,
            "height": null,
            "justify_content": null,
            "justify_items": null,
            "left": null,
            "margin": null,
            "max_height": null,
            "max_width": null,
            "min_height": null,
            "min_width": null,
            "object_fit": null,
            "object_position": null,
            "order": null,
            "overflow": null,
            "overflow_x": null,
            "overflow_y": null,
            "padding": null,
            "right": null,
            "top": null,
            "visibility": null,
            "width": null
          }
        },
        "f59c315d66654bfba74945695ec807f6": {
          "model_module": "@jupyter-widgets/controls",
          "model_name": "DescriptionStyleModel",
          "model_module_version": "1.5.0",
          "state": {
            "_model_module": "@jupyter-widgets/controls",
            "_model_module_version": "1.5.0",
            "_model_name": "DescriptionStyleModel",
            "_view_count": null,
            "_view_module": "@jupyter-widgets/base",
            "_view_module_version": "1.2.0",
            "_view_name": "StyleView",
            "description_width": ""
          }
        },
        "ed220142d62d485db4d1aa0d4354d3d7": {
          "model_module": "@jupyter-widgets/controls",
          "model_name": "HBoxModel",
          "model_module_version": "1.5.0",
          "state": {
            "_dom_classes": [],
            "_model_module": "@jupyter-widgets/controls",
            "_model_module_version": "1.5.0",
            "_model_name": "HBoxModel",
            "_view_count": null,
            "_view_module": "@jupyter-widgets/controls",
            "_view_module_version": "1.5.0",
            "_view_name": "HBoxView",
            "box_style": "",
            "children": [
              "IPY_MODEL_25a40711da07416497e82f5edb8694e7",
              "IPY_MODEL_27716306e58748dd8faf25569b9fcb57",
              "IPY_MODEL_a8386f05760a4ed08bb29d2d7dda1d5f"
            ],
            "layout": "IPY_MODEL_9fff5f7ae75c4a508270dfb11e385dd5"
          }
        },
        "25a40711da07416497e82f5edb8694e7": {
          "model_module": "@jupyter-widgets/controls",
          "model_name": "HTMLModel",
          "model_module_version": "1.5.0",
          "state": {
            "_dom_classes": [],
            "_model_module": "@jupyter-widgets/controls",
            "_model_module_version": "1.5.0",
            "_model_name": "HTMLModel",
            "_view_count": null,
            "_view_module": "@jupyter-widgets/controls",
            "_view_module_version": "1.5.0",
            "_view_name": "HTMLView",
            "description": "",
            "description_tooltip": null,
            "layout": "IPY_MODEL_7c8b55af1ab14d91baf0023e27406320",
            "placeholder": "​",
            "style": "IPY_MODEL_d4b3c57724cb43c3a97146a42c507f9b",
            "value": ""
          }
        },
        "27716306e58748dd8faf25569b9fcb57": {
          "model_module": "@jupyter-widgets/controls",
          "model_name": "FloatProgressModel",
          "model_module_version": "1.5.0",
          "state": {
            "_dom_classes": [],
            "_model_module": "@jupyter-widgets/controls",
            "_model_module_version": "1.5.0",
            "_model_name": "FloatProgressModel",
            "_view_count": null,
            "_view_module": "@jupyter-widgets/controls",
            "_view_module_version": "1.5.0",
            "_view_name": "ProgressView",
            "bar_style": "success",
            "description": "",
            "description_tooltip": null,
            "layout": "IPY_MODEL_6bd0111c134f46cc9297af938d4a6667",
            "max": 4542,
            "min": 0,
            "orientation": "horizontal",
            "style": "IPY_MODEL_3d4da91a29b7455580c66361a17c963c",
            "value": 4542
          }
        },
        "a8386f05760a4ed08bb29d2d7dda1d5f": {
          "model_module": "@jupyter-widgets/controls",
          "model_name": "HTMLModel",
          "model_module_version": "1.5.0",
          "state": {
            "_dom_classes": [],
            "_model_module": "@jupyter-widgets/controls",
            "_model_module_version": "1.5.0",
            "_model_name": "HTMLModel",
            "_view_count": null,
            "_view_module": "@jupyter-widgets/controls",
            "_view_module_version": "1.5.0",
            "_view_name": "HTMLView",
            "description": "",
            "description_tooltip": null,
            "layout": "IPY_MODEL_14d3b0d5626e4defa0e67a43fc66f552",
            "placeholder": "​",
            "style": "IPY_MODEL_dd27448262474120ba55ee285fda6bbd",
            "value": " 5120/? [00:00&lt;00:00, 153426.76it/s]"
          }
        },
        "9fff5f7ae75c4a508270dfb11e385dd5": {
          "model_module": "@jupyter-widgets/base",
          "model_name": "LayoutModel",
          "model_module_version": "1.2.0",
          "state": {
            "_model_module": "@jupyter-widgets/base",
            "_model_module_version": "1.2.0",
            "_model_name": "LayoutModel",
            "_view_count": null,
            "_view_module": "@jupyter-widgets/base",
            "_view_module_version": "1.2.0",
            "_view_name": "LayoutView",
            "align_content": null,
            "align_items": null,
            "align_self": null,
            "border": null,
            "bottom": null,
            "display": null,
            "flex": null,
            "flex_flow": null,
            "grid_area": null,
            "grid_auto_columns": null,
            "grid_auto_flow": null,
            "grid_auto_rows": null,
            "grid_column": null,
            "grid_gap": null,
            "grid_row": null,
            "grid_template_areas": null,
            "grid_template_columns": null,
            "grid_template_rows": null,
            "height": null,
            "justify_content": null,
            "justify_items": null,
            "left": null,
            "margin": null,
            "max_height": null,
            "max_width": null,
            "min_height": null,
            "min_width": null,
            "object_fit": null,
            "object_position": null,
            "order": null,
            "overflow": null,
            "overflow_x": null,
            "overflow_y": null,
            "padding": null,
            "right": null,
            "top": null,
            "visibility": null,
            "width": null
          }
        },
        "7c8b55af1ab14d91baf0023e27406320": {
          "model_module": "@jupyter-widgets/base",
          "model_name": "LayoutModel",
          "model_module_version": "1.2.0",
          "state": {
            "_model_module": "@jupyter-widgets/base",
            "_model_module_version": "1.2.0",
            "_model_name": "LayoutModel",
            "_view_count": null,
            "_view_module": "@jupyter-widgets/base",
            "_view_module_version": "1.2.0",
            "_view_name": "LayoutView",
            "align_content": null,
            "align_items": null,
            "align_self": null,
            "border": null,
            "bottom": null,
            "display": null,
            "flex": null,
            "flex_flow": null,
            "grid_area": null,
            "grid_auto_columns": null,
            "grid_auto_flow": null,
            "grid_auto_rows": null,
            "grid_column": null,
            "grid_gap": null,
            "grid_row": null,
            "grid_template_areas": null,
            "grid_template_columns": null,
            "grid_template_rows": null,
            "height": null,
            "justify_content": null,
            "justify_items": null,
            "left": null,
            "margin": null,
            "max_height": null,
            "max_width": null,
            "min_height": null,
            "min_width": null,
            "object_fit": null,
            "object_position": null,
            "order": null,
            "overflow": null,
            "overflow_x": null,
            "overflow_y": null,
            "padding": null,
            "right": null,
            "top": null,
            "visibility": null,
            "width": null
          }
        },
        "d4b3c57724cb43c3a97146a42c507f9b": {
          "model_module": "@jupyter-widgets/controls",
          "model_name": "DescriptionStyleModel",
          "model_module_version": "1.5.0",
          "state": {
            "_model_module": "@jupyter-widgets/controls",
            "_model_module_version": "1.5.0",
            "_model_name": "DescriptionStyleModel",
            "_view_count": null,
            "_view_module": "@jupyter-widgets/base",
            "_view_module_version": "1.2.0",
            "_view_name": "StyleView",
            "description_width": ""
          }
        },
        "6bd0111c134f46cc9297af938d4a6667": {
          "model_module": "@jupyter-widgets/base",
          "model_name": "LayoutModel",
          "model_module_version": "1.2.0",
          "state": {
            "_model_module": "@jupyter-widgets/base",
            "_model_module_version": "1.2.0",
            "_model_name": "LayoutModel",
            "_view_count": null,
            "_view_module": "@jupyter-widgets/base",
            "_view_module_version": "1.2.0",
            "_view_name": "LayoutView",
            "align_content": null,
            "align_items": null,
            "align_self": null,
            "border": null,
            "bottom": null,
            "display": null,
            "flex": null,
            "flex_flow": null,
            "grid_area": null,
            "grid_auto_columns": null,
            "grid_auto_flow": null,
            "grid_auto_rows": null,
            "grid_column": null,
            "grid_gap": null,
            "grid_row": null,
            "grid_template_areas": null,
            "grid_template_columns": null,
            "grid_template_rows": null,
            "height": null,
            "justify_content": null,
            "justify_items": null,
            "left": null,
            "margin": null,
            "max_height": null,
            "max_width": null,
            "min_height": null,
            "min_width": null,
            "object_fit": null,
            "object_position": null,
            "order": null,
            "overflow": null,
            "overflow_x": null,
            "overflow_y": null,
            "padding": null,
            "right": null,
            "top": null,
            "visibility": null,
            "width": null
          }
        },
        "3d4da91a29b7455580c66361a17c963c": {
          "model_module": "@jupyter-widgets/controls",
          "model_name": "ProgressStyleModel",
          "model_module_version": "1.5.0",
          "state": {
            "_model_module": "@jupyter-widgets/controls",
            "_model_module_version": "1.5.0",
            "_model_name": "ProgressStyleModel",
            "_view_count": null,
            "_view_module": "@jupyter-widgets/base",
            "_view_module_version": "1.2.0",
            "_view_name": "StyleView",
            "bar_color": null,
            "description_width": ""
          }
        },
        "14d3b0d5626e4defa0e67a43fc66f552": {
          "model_module": "@jupyter-widgets/base",
          "model_name": "LayoutModel",
          "model_module_version": "1.2.0",
          "state": {
            "_model_module": "@jupyter-widgets/base",
            "_model_module_version": "1.2.0",
            "_model_name": "LayoutModel",
            "_view_count": null,
            "_view_module": "@jupyter-widgets/base",
            "_view_module_version": "1.2.0",
            "_view_name": "LayoutView",
            "align_content": null,
            "align_items": null,
            "align_self": null,
            "border": null,
            "bottom": null,
            "display": null,
            "flex": null,
            "flex_flow": null,
            "grid_area": null,
            "grid_auto_columns": null,
            "grid_auto_flow": null,
            "grid_auto_rows": null,
            "grid_column": null,
            "grid_gap": null,
            "grid_row": null,
            "grid_template_areas": null,
            "grid_template_columns": null,
            "grid_template_rows": null,
            "height": null,
            "justify_content": null,
            "justify_items": null,
            "left": null,
            "margin": null,
            "max_height": null,
            "max_width": null,
            "min_height": null,
            "min_width": null,
            "object_fit": null,
            "object_position": null,
            "order": null,
            "overflow": null,
            "overflow_x": null,
            "overflow_y": null,
            "padding": null,
            "right": null,
            "top": null,
            "visibility": null,
            "width": null
          }
        },
        "dd27448262474120ba55ee285fda6bbd": {
          "model_module": "@jupyter-widgets/controls",
          "model_name": "DescriptionStyleModel",
          "model_module_version": "1.5.0",
          "state": {
            "_model_module": "@jupyter-widgets/controls",
            "_model_module_version": "1.5.0",
            "_model_name": "DescriptionStyleModel",
            "_view_count": null,
            "_view_module": "@jupyter-widgets/base",
            "_view_module_version": "1.2.0",
            "_view_name": "StyleView",
            "description_width": ""
          }
        }
      }
    }
  },
  "cells": [
    {
      "cell_type": "markdown",
      "metadata": {
        "id": "view-in-github",
        "colab_type": "text"
      },
      "source": [
        "<a href=\"https://colab.research.google.com/github/aachyuthh/SRIP-IITGN/blob/main/AchyuthP_SRIP_IITGN.ipynb\" target=\"_parent\"><img src=\"https://colab.research.google.com/assets/colab-badge.svg\" alt=\"Open In Colab\"/></a>"
      ]
    },
    {
      "cell_type": "code",
      "execution_count": 127,
      "metadata": {
        "id": "sFS-ZO5V2wd_"
      },
      "outputs": [],
      "source": [
        "import numpy as np\n",
        "\n",
        "import jax.numpy as jnp\n",
        "import jax\n",
        "from jax import vmap,jit\n",
        "\n",
        "import torch\n",
        "from torch.utils.data import Dataset, DataLoader\n",
        "\n",
        "import os\n",
        "\n",
        "from matplotlib import pyplot as plt\n",
        "from matplotlib import pyplot as plt\n",
        "from matplotlib import cm\n",
        "import matplotlib.gridspec as gridspec\n",
        "\n",
        "import seaborn as sns\n",
        "\n",
        "from mpl_toolkits.axes_grid1 import make_axes_locatable\n"
      ]
    },
    {
      "cell_type": "code",
      "source": [
        "from jax.scipy.linalg import cholesky"
      ],
      "metadata": {
        "id": "m7jbVmqB6aDg"
      },
      "execution_count": 106,
      "outputs": []
    },
    {
      "cell_type": "code",
      "source": [
        "import ipywidgets as widgets"
      ],
      "metadata": {
        "id": "Clk3SrHzv8M-"
      },
      "execution_count": 2,
      "outputs": []
    },
    {
      "cell_type": "code",
      "source": [
        "seed = 0"
      ],
      "metadata": {
        "id": "XfKyarw4rBnm"
      },
      "execution_count": 3,
      "outputs": []
    },
    {
      "cell_type": "markdown",
      "source": [
        "#Animate Bivariate Normal Distribution\n",
        "\n",
        "**Multivariate normal distribution** is a multidimensional generalisation of univariate normal distribution( the ***normal*** normal distribution. \n",
        "The univariate normal distribution is based on a single random variable **X** and is depenedent on 2 parameters - the mean and variance of the sample.\n",
        "\n"
      ],
      "metadata": {
        "id": "29VuuV-7JL_C"
      }
    },
    {
      "cell_type": "markdown",
      "source": [
        "##Univariate Normal Distribution\n",
        "\n",
        "The probability distribution function(pdf) of a random variable following normal distribution of mean μ and variance σ is given by\n",
        "![image.png](data:image/png;base64,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)"
      ],
      "metadata": {
        "id": "ymDM4wT9LFHJ"
      }
    },
    {
      "cell_type": "code",
      "source": [
        "def uni_normal(x, mu, var):\n",
        "  '''\n",
        "\n",
        "    This function serves the purpose of scipy.stats.norm(x, mean, std)\n",
        "\n",
        "    mu and var are the 2 parameters for a normal distribution\n",
        "    var is taken as input not standard deviation\n",
        "\n",
        "  '''\n",
        "  return ( 1/(jnp.sqrt(2*jnp.pi*var)) * jnp.exp( -0.5*( (x-mu)**2/var ) ) )\n",
        "\n"
      ],
      "metadata": {
        "id": "tHH80QlXqFMv"
      },
      "execution_count": 38,
      "outputs": []
    },
    {
      "cell_type": "code",
      "source": [
        "key = jax.random.PRNGKey(seed)\n",
        "\n",
        "x1 = jnp.linspace(-6,6,250)\n",
        "y1 = uni_normal(x1,0,1)\n",
        "print(x1.shape,y1.shape)\n",
        "plt.plot(x1,y1)"
      ],
      "metadata": {
        "colab": {
          "base_uri": "https://localhost:8080/",
          "height": 302
        },
        "id": "se46nikwq7KN",
        "outputId": "fbdbe27b-a022-4c62-ef93-6303928bf123"
      },
      "execution_count": 39,
      "outputs": [
        {
          "output_type": "stream",
          "name": "stdout",
          "text": [
            "(250,) (250,)\n"
          ]
        },
        {
          "output_type": "execute_result",
          "data": {
            "text/plain": [
              "[<matplotlib.lines.Line2D at 0x7f6e81183650>]"
            ]
          },
          "metadata": {},
          "execution_count": 39
        },
        {
          "output_type": "display_data",
          "data": {
            "text/plain": [
              "<Figure size 432x288 with 1 Axes>"
            ],
            "image/png": "[encoded data removed]"
          },
          "metadata": {
            "needs_background": "light"
          }
        }
      ]
    },
    {
      "cell_type": "markdown",
      "source": [
        "## Widgets for playing around with Univariate Distribution"
      ],
      "metadata": {
        "id": "x_yrac6R1FnU"
      }
    },
    {
      "cell_type": "code",
      "source": [
        "mu1 = widgets.FloatSlider(value = 0, min =-3, max = 3, description = \"Mean\")\n",
        "var1 = widgets.FloatSlider(value = 1, min =0, max = 2, description = \"Variance\")\n",
        "\n",
        "from IPython.display import display\n",
        "from ipywidgets import interact, fixed\n",
        "\n",
        "display(mu1)\n",
        "display(var1)\n"
      ],
      "metadata": {
        "colab": {
          "base_uri": "https://localhost:8080/",
          "height": 78,
          "referenced_widgets": [
            "8c239b2247394fdab4238f4df5e3171b",
            "02a435fed88a4df880cd97058bded85a",
            "36c23e446be84ea7902f6c645a76cc80",
            "8fd9688023bc42e5a029770316f23e60",
            "28921acdaed944ad8d29f1db08429ce8",
            "7b0f35a62a614070bb4ed11c5716fe92"
          ]
        },
        "id": "okZs9F5YsFKx",
        "outputId": "768d2e6f-62d1-465c-b2ca-a5fed60c0b81"
      },
      "execution_count": 40,
      "outputs": [
        {
          "output_type": "display_data",
          "data": {
            "text/plain": [
              "FloatSlider(value=0.0, description='Mean', max=3.0, min=-3.0)"
            ],
            "application/vnd.jupyter.widget-view+json": {
              "version_major": 2,
              "version_minor": 0,
              "model_id": "8c239b2247394fdab4238f4df5e3171b"
            }
          },
          "metadata": {}
        },
        {
          "output_type": "display_data",
          "data": {
            "text/plain": [
              "FloatSlider(value=1.0, description='Variance', max=2.0)"
            ],
            "application/vnd.jupyter.widget-view+json": {
              "version_major": 2,
              "version_minor": 0,
              "model_id": "8fd9688023bc42e5a029770316f23e60"
            }
          },
          "metadata": {}
        }
      ]
    },
    {
      "cell_type": "code",
      "source": [
        "def plot_with_widget(x, mu, var):\n",
        "  y = ( 1/(jnp.sqrt(2*jnp.pi*var)) * jnp.exp( -0.5*( (x-mu)**2/var ) ) )\n",
        "  plt.plot(x,y)\n",
        "  \n",
        "\n"
      ],
      "metadata": {
        "id": "kFUFUuM6xhHE"
      },
      "execution_count": 41,
      "outputs": []
    },
    {
      "cell_type": "code",
      "source": [
        "#USe the slider above to manipulate mean and variance and run this cell to get the results\n",
        "\n",
        "plot_with_widget(x1,mu1.value,var1.value)"
      ],
      "metadata": {
        "colab": {
          "base_uri": "https://localhost:8080/",
          "height": 264
        },
        "id": "wfAy_kdL40O3",
        "outputId": "6adae386-2206-43bb-95ad-87f91fc3ae54"
      },
      "execution_count": 44,
      "outputs": [
        {
          "output_type": "display_data",
          "data": {
            "text/plain": [
              "<Figure size 432x288 with 1 Axes>"
            ],
            "image/png": "[encoded data removed]"
          },
          "metadata": {
            "needs_background": "light"
          }
        }
      ]
    },
    {
      "cell_type": "code",
      "source": [
        "#Jusr use the slider here to see changes in the distribution\n",
        "\n",
        "interact(plot_with_widget,x = fixed(x1),mu = mu1,var = var1)"
      ],
      "metadata": {
        "colab": {
          "base_uri": "https://localhost:8080/",
          "height": 347,
          "referenced_widgets": [
            "30b98215d60146919590bb9613ee2845",
            "8c239b2247394fdab4238f4df5e3171b",
            "8fd9688023bc42e5a029770316f23e60",
            "6988d3ba2a524174a3b4271b24110cb6",
            "a3ad6b58e9aa411bb6cc96f0a2724410",
            "02a435fed88a4df880cd97058bded85a",
            "36c23e446be84ea7902f6c645a76cc80",
            "28921acdaed944ad8d29f1db08429ce8",
            "7b0f35a62a614070bb4ed11c5716fe92",
            "c595dc22ce694325b4a4edcc378bf162"
          ]
        },
        "id": "nOrHGzDm5KaF",
        "outputId": "efe46493-3e5a-48d1-8b94-4f47a1245de2"
      },
      "execution_count": 45,
      "outputs": [
        {
          "output_type": "display_data",
          "data": {
            "text/plain": [
              "interactive(children=(FloatSlider(value=1.5, description='Mean', max=3.0, min=-3.0), FloatSlider(value=0.5, de…"
            ],
            "application/vnd.jupyter.widget-view+json": {
              "version_major": 2,
              "version_minor": 0,
              "model_id": "30b98215d60146919590bb9613ee2845"
            }
          },
          "metadata": {}
        },
        {
          "output_type": "execute_result",
          "data": {
            "text/plain": [
              "<function __main__.plot_with_widget>"
            ]
          },
          "metadata": {},
          "execution_count": 45
        }
      ]
    },
    {
      "cell_type": "markdown",
      "source": [
        "## Animate Bivariate Normal Distribution\n",
        "\n",
        "A random variable 𝐗 = ($X_1,X_2....X_k)$ is said to follow multivariate normal distribution if every linear combination $\\sum_{i=1}^{k} a_iX_i$ is normally distributed\n",
        "P.S. This does not mean sum of 2 random variables $X_1$ and $X_2$ follows a multivariate normal distribution\n",
        "\n",
        "The joint probability density is given by:\n",
        "![image.png](data:image/png;base64,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)"
      ],
      "metadata": {
        "id": "HGJiZv-y1Yai"
      }
    },
    {
      "cell_type": "markdown",
      "source": [
        "Like univariate distribution, multivariate normal distribution also has 2 parameters - <br>\n",
        "the mean vector $\\mu$ of shape (k,1) and covariance matrix $𝚺$ of shape $d 𝖷 d$ and <br>\n",
        "|𝚺| denotes the determinant of the covariance matrix. <br>\n",
        "The covariance matrix is supposed to be a symmetric, positive definite matrix i.e the eigen values of the matrix are all positive "
      ],
      "metadata": {
        "id": "x9vRR3My43tn"
      }
    },
    {
      "cell_type": "code",
      "source": [
        "def multivariate_normal(x, mu, var):\n",
        "  '''\n",
        "    x is a k-dimensional vector\n",
        "    mu is also a k-dimensional vector\n",
        "    var is a kxk correlation matrix\n",
        "\n",
        "    It should be noted both x and mu are column vectors - kx1\n",
        "  '''\n",
        "  k = x.shape[0]\n",
        "  det = np.linalg.det(var)\n",
        "  inv = np.linalg.inv(var)\n",
        "  temp = np.dot((x-mu).T,inv)\n",
        "  pdf =  (1/np.sqrt( ((2*np.pi)**k )*det)  )  * np.exp(-0.5*(np.dot(temp,x-mu)) )\n",
        "  return pdf\n"
      ],
      "metadata": {
        "id": "JNbhEXEi1bTk"
      },
      "execution_count": 46,
      "outputs": []
    },
    {
      "cell_type": "code",
      "source": [
        "bivariate_mean = np.array([[0.], [0.]])  # Mean\n",
        "bivariate_covariance = np.array([\n",
        "    [1., 0.], \n",
        "    [0., 1.]])\n",
        "x = np.array([[0.5],[-0.5]])\n",
        "multivariate_normal(x,bivariate_mean,bivariate_covariance)"
      ],
      "metadata": {
        "colab": {
          "base_uri": "https://localhost:8080/"
        },
        "id": "aWEMK1ZSESCs",
        "outputId": "04daec5b-2d46-41bc-8487-516bd3af4d9d"
      },
      "execution_count": 47,
      "outputs": [
        {
          "output_type": "execute_result",
          "data": {
            "text/plain": [
              "array([[0.12394999]])"
            ]
          },
          "metadata": {},
          "execution_count": 47
        }
      ]
    },
    {
      "cell_type": "code",
      "source": [
        "def plot_contours(mu1, var1 , grid_size,ax):\n",
        "  '''\n",
        "    The function takes in the grid_size as an argument and a grid along with the respective x1 and x2 are estimated , the pdf of each point in the grid is calculated\n",
        "    with respect to the mean and var, with the multivariate_normal function.\n",
        "    matplotlib.contourf is used to form the contour \n",
        "\n",
        "    mu1 ---> ndarray : mean vector of multivariate random variable X\n",
        "    var ---> ndarray : covariance matrix of multivariate random variable X\n",
        "    gridsize ---> int : grid size for the x1,x2 \n",
        "    ax ---> pyplot axis object to plot the contour\n",
        "  '''\n",
        "  x1_temp = np.linspace(-5,5,grid_size)\n",
        "  x2_temp = np.linspace(-5,5,grid_size)\n",
        "  x1,x2 = np.meshgrid(x1_temp,x2_temp)\n",
        "  pdf1 = np.zeros((grid_size,grid_size))\n",
        "\n",
        "  for i in range(0,grid_size):\n",
        "    for j in range(0,grid_size):\n",
        "      x_temp = np.array([ [ x1[i][j] ] ,[ x2[i][j] ] ])\n",
        "      pdf1[i][j] = multivariate_normal(x_temp, mu1,var1)\n",
        "  \n",
        "  plot = ax.contourf(x1, x2, pdf1, 33, cmap=cm.YlGnBu)\n",
        "\n",
        "  plt.show  \n"
      ],
      "metadata": {
        "id": "N-Paa9QfI7-n"
      },
      "execution_count": 49,
      "outputs": []
    },
    {
      "cell_type": "code",
      "source": [
        "\n",
        "\n",
        "'''Trial run with mean mu = [[0],[0]] and covariance = \n",
        "          [\n",
        "            [1,0],\n",
        "            [0,1]\n",
        "          ]\n",
        "'''\n",
        "mu1 = [[0],[0]]\n",
        "var1 = [\n",
        "        [3,0],\n",
        "        [0,3]\n",
        "    ]   \n",
        "\n",
        "\n",
        "\n",
        "fig, ax1 = plt.subplots(nrows=1, ncols=1, figsize=(8,8))\n",
        "\n",
        "plot_contours(mu1,var1,50,ax1)\n"
      ],
      "metadata": {
        "colab": {
          "base_uri": "https://localhost:8080/",
          "height": 483
        },
        "id": "C-a2GVMgNCvZ",
        "outputId": "a106d857-e33a-4d5f-effd-32cf95485ae6"
      },
      "execution_count": 109,
      "outputs": [
        {
          "output_type": "display_data",
          "data": {
            "text/plain": [
              "<Figure size 576x576 with 1 Axes>"
            ],
            "image/png": "[encoded data removed]"
          },
          "metadata": {
            "needs_background": "light"
          }
        }
      ]
    },
    {
      "cell_type": "code",
      "source": [
        "def plot_contours_bivariate(mu_0, mu_1, var , grid_size):\n",
        "  '''\n",
        "    The function takes in the grid_size as an argument and a grid along with the respective x1 and x2 are estimated , the pdf of each point in the grid is calculated\n",
        "    with respect to the mean and var, with the multivariate_normal function.\n",
        "    matplotlib.contourf is used to form the contour \n",
        "\n",
        "    mu_0 ---> float : mean of X1\n",
        "    mu_1 ---> float : mean of X2 \n",
        "    var ---> float : covariance between X1 and X2\n",
        "\n",
        "          mean vector = [ [mu_0] , [mu_1] ]\n",
        "          covariance matrix =  [ [ 1 , var ]\n",
        "\n",
        "                                 [ var , 1 ]  ]\n",
        "\n",
        "\n",
        "        Egs:mu1 = [[0],[0]]\n",
        "            var1 = [\n",
        "                      [1,0],\n",
        "                      [0,1]   ]   , here mu_0 = 0, mu_1 =0, var= 0\n",
        "\n",
        "    gridsize ---> int : grid size for the x1,x2 \n",
        "    ax ---> pyplot axis object to plot the contour\n",
        "  '''\n",
        "  x1_temp = np.linspace(-5,5,grid_size)\n",
        "  x2_temp = np.linspace(-5,5,grid_size)\n",
        "  x1,x2 = np.meshgrid(x1_temp,x2_temp)\n",
        "  pdf1 = np.zeros((grid_size,grid_size))\n",
        "\n",
        "  mu1 = np.array( [ [mu_0] , [mu_1] ])\n",
        "  var1 = np.array( [ [1, var], \n",
        "                     [var,1] ] )\n",
        "\n",
        "  for i in range(0,grid_size):\n",
        "    for j in range(0,grid_size):\n",
        "      x_temp = np.array([ [ x1[i][j] ] ,[ x2[i][j] ] ])\n",
        "      pdf1[i][j] = multivariate_normal(x_temp, mu1,var1)\n",
        "  \n",
        "  \n",
        "  # fig = plt.figure(figsize=(7, 7))\n",
        "  gs = gridspec.GridSpec(\n",
        "      2, 2, width_ratios=[2, 1], height_ratios=[2, 1])\n",
        "  plt.suptitle('Marginal distributions', y=0.93)\n",
        "\n",
        "  # Plot surface on top left\n",
        "  ax1 = plt.subplot(gs[0])\n",
        "  # Plot bivariate distribution\n",
        "  con = ax1.contourf(x1, x2, pdf1, 33, cmap=cm.YlGnBu)\n",
        "  ax1.set_xlabel('$x$', fontsize=13)\n",
        "  ax1.set_ylabel('$y$', fontsize=13)\n",
        "  ax1.yaxis.set_label_position('right')\n",
        "  # ax1.axis([-2.5, 2.5, -1.5, 3.5])\n",
        "\n",
        "  #Marginal Distributions\n",
        "  x1 = np.linspace(-5, 5, num=50)\n",
        "  p_x1 = uni_normal(x1, mu_0, 1)\n",
        "\n",
        "  x2 = np.linspace(-5, 5, num=50)\n",
        "  p_x2 = uni_normal(x2, mu_1, 1)\n",
        "\n",
        "  #plot pdf of x1 bottom left\n",
        "  ax2 = plt.subplot(gs[2])\n",
        "  ax2.plot(x1,p_x1,'r--',label=f'$p(x_1)$')\n",
        "  ax2.legend(loc=0)\n",
        "  ax2.set_ylabel('marginal distribution of x1', fontsize=10)\n",
        "  ax2.yaxis.set_label_position('right')\n",
        "  ax2.set_xlim(-5, 5)\n",
        "\n",
        "  #plot pdf of x2 top right\n",
        "  ax3 = plt.subplot(gs[1])\n",
        "  ax3.plot(p_x2,x2,'b--',label=f'$p(x_2)$')\n",
        "  ax3.legend(loc=0)\n",
        "  ax3.set_ylabel('marginal distribution of x2', fontsize=10)\n",
        "  ax3.yaxis.set_label_position('right')\n",
        "  ax3.set_ylim(-5, 5)\n",
        "  \n",
        "  \n",
        "  # Fill bottom right with color bar\n",
        "  ax4 = plt.subplot(gs[3])\n",
        "  ax4.set_visible(False)\n",
        "  divider = make_axes_locatable(ax4)\n",
        "  cax = divider.append_axes('left', size='20%', pad=0.05)\n",
        "  cbar = fig.colorbar(con, cax=cax)\n",
        "  cbar.ax.set_ylabel('density: $', fontsize=10)\n",
        "  plt.show()\n",
        "\n",
        "\n"
      ],
      "metadata": {
        "id": "hmSfw77W-iPo"
      },
      "execution_count": 100,
      "outputs": []
    },
    {
      "cell_type": "code",
      "source": [
        "#mean vector\n",
        "mu_0_widget = widgets.FloatSlider(value = 0, min =-5, max = 5, description = \"Mean of X1\")\n",
        "mu_1_widget = widgets.FloatSlider(value = 0, min =-5, max = 5, description = \"Mean of X2\")\n",
        "#Covariance Vector\n",
        "var_widget = widgets.FloatSlider(value =0, min =0, max = 0.99, description = \"Covariance between X1 and X2\")\n",
        "\n",
        "def display_parameters(mu_0,mu_1,var):\n",
        "  print(f\"Mean Vector:  [ {mu_0} , {mu_1} ]\")\n",
        "  print(f\"Mean Vector: [ [ 1.0 , {var} ]\")\n",
        "  print(f\"Mean Vector:   [ {var} , 1.0 ] ]\")\n",
        "\n",
        "interact(display_parameters, mu_0 = mu_0_widget, mu_1 = mu_1_widget, var = var_widget)\n",
        "\n"
      ],
      "metadata": {
        "colab": {
          "base_uri": "https://localhost:8080/",
          "height": 186,
          "referenced_widgets": [
            "ecfdd677578e4afebd81fd30d662c1cc",
            "6548559c0081435ca925271a7c2c56b1",
            "c891978c40e54bbaa7271247efedfd00",
            "c1598381365a40f1a55b54da4d666721",
            "d67e8ed630f54d388e149a59bf5c140d",
            "24e087a89e94487fb8afd6c264cfa1fb",
            "eab5ad995efc49d7b8b55ed12629625f",
            "3e368b008a864c588613d6dc8b2cfac7",
            "98c08877a8864936a204916579b07842",
            "1996c6ef4ff341e780245c814910802e",
            "a8a434426cfb42c4bab3937f16a5f344",
            "46990d3d02884729979c80e7469b2110",
            "06c8aa9090e74cf483db174a56fc538a"
          ]
        },
        "id": "eL98DSDhNQVS",
        "outputId": "60775517-8a97-4841-f370-5a8a322eaeaf"
      },
      "execution_count": 88,
      "outputs": [
        {
          "output_type": "display_data",
          "data": {
            "text/plain": [
              "interactive(children=(FloatSlider(value=0.0, description='Mean of X1', max=5.0, min=-5.0), FloatSlider(value=0…"
            ],
            "application/vnd.jupyter.widget-view+json": {
              "version_major": 2,
              "version_minor": 0,
              "model_id": "ecfdd677578e4afebd81fd30d662c1cc"
            }
          },
          "metadata": {}
        },
        {
          "output_type": "execute_result",
          "data": {
            "text/plain": [
              "<function __main__.display_parameters>"
            ]
          },
          "metadata": {},
          "execution_count": 88
        }
      ]
    },
    {
      "cell_type": "code",
      "source": [
        "#USe the slider above to manipulate mean and variance and run this cell to get the results\n",
        "\n",
        "fig, axis = plt.subplots(nrows=1, ncols=1, figsize=(8,8))\n",
        "\n",
        "\n",
        "plot_contours_bivariate(mu_0_widget.value, mu_1_widget.value, var_widget.value , 50)"
      ],
      "metadata": {
        "colab": {
          "base_uri": "https://localhost:8080/",
          "height": 512
        },
        "id": "vq0Y14xMEHod",
        "outputId": "8dc82396-533c-49af-dd21-b0286db375dc"
      },
      "execution_count": 101,
      "outputs": [
        {
          "output_type": "display_data",
          "data": {
            "text/plain": [
              "<Figure size 576x576 with 5 Axes>"
            ],
            "image/png": "[encoded data removed]"
          },
          "metadata": {
            "needs_background": "light"
          }
        }
      ]
    },
    {
      "cell_type": "code",
      "source": [
        "#Just use the slider here to see changes in the joint probability and marginal probabilities in a few seconds\n",
        "\n",
        "interact(plot_contours_bivariate, mu_0 = mu_0_widget, mu_1 = mu_1_widget, var = var_widget, grid_size = fixed(50) )"
      ],
      "metadata": {
        "colab": {
          "base_uri": "https://localhost:8080/",
          "height": 410,
          "referenced_widgets": [
            "2879e7b83f0249b798a0f3bb8955049d",
            "6548559c0081435ca925271a7c2c56b1",
            "c891978c40e54bbaa7271247efedfd00",
            "c1598381365a40f1a55b54da4d666721",
            "c02b4974c7ee470fb584708b48e75eed",
            "75b1e03885b148b981b05a8927767e4f",
            "eab5ad995efc49d7b8b55ed12629625f",
            "3e368b008a864c588613d6dc8b2cfac7",
            "98c08877a8864936a204916579b07842",
            "1996c6ef4ff341e780245c814910802e",
            "a8a434426cfb42c4bab3937f16a5f344",
            "46990d3d02884729979c80e7469b2110",
            "971c0573f03b472db30e496f5ed4afa4"
          ]
        },
        "id": "g-LtL4fc8BDS",
        "outputId": "f52bc65b-99d4-4387-d8ea-18b95431a53d"
      },
      "execution_count": 102,
      "outputs": [
        {
          "output_type": "display_data",
          "data": {
            "text/plain": [
              "interactive(children=(FloatSlider(value=1.7, description='Mean of X1', max=5.0, min=-5.0), FloatSlider(value=-…"
            ],
            "application/vnd.jupyter.widget-view+json": {
              "version_major": 2,
              "version_minor": 0,
              "model_id": "2879e7b83f0249b798a0f3bb8955049d"
            }
          },
          "metadata": {}
        },
        {
          "output_type": "execute_result",
          "data": {
            "text/plain": [
              "<function __main__.plot_contours_bivariate>"
            ]
          },
          "metadata": {},
          "execution_count": 102
        }
      ]
    },
    {
      "cell_type": "code",
      "source": [
        ""
      ],
      "metadata": {
        "id": "dzJXs6_aiJYg"
      },
      "execution_count": null,
      "outputs": []
    },
    {
      "cell_type": "markdown",
      "source": [
        "#Sampling from multivariate normal distribution"
      ],
      "metadata": {
        "id": "tlAySg_8xq2c"
      }
    },
    {
      "cell_type": "markdown",
      "source": [
        "Steps employed to sample from a MVN distibution;\n",
        "  *  For a given mean vector of size $d$ x $1$ and covariance matrix of size $d$ x $d$, we need to sample a X vector of size $d$ x $1$ from such a distribution\n",
        "  *  For a given positive definite and symmetric co-variance matrix $K_0$, we need to calculate the **CHOLESKY DECOMPOSITION** $L$ - which is essentially an upper or lower-triangular matrix, such that $K_0 = L . L^T$ \n",
        "\n",
        "\n",
        "  * Having obtained the Cholesky decomposition, compute $μ + Lu$, this would be a sample from the MVN distribution of mean μ and co variance $K_0$.   \n",
        "  *   Since jax.random.normal is not available, a standard normal sample would have to be sampled too - **BOX MULLER** approach would be used for this\n",
        "\n",
        "\n",
        "\n"
      ],
      "metadata": {
        "id": "2wqwdUNkyt_H"
      }
    },
    {
      "cell_type": "code",
      "source": [
        "m = np.array([[1],[2]])\n",
        "K = np.array([[2,1],[1,2]])\n",
        "\n",
        "L = cholesky(K)"
      ],
      "metadata": {
        "id": "JtjnTLCc60yv"
      },
      "execution_count": 183,
      "outputs": []
    },
    {
      "cell_type": "code",
      "source": [
        "np.dot(L.T,L)"
      ],
      "metadata": {
        "colab": {
          "base_uri": "https://localhost:8080/"
        },
        "id": "sz6PDQvm7aBf",
        "outputId": "b7ac249c-1eb9-4f5a-f105-ca2c36edd930"
      },
      "execution_count": 115,
      "outputs": [
        {
          "output_type": "execute_result",
          "data": {
            "text/plain": [
              "array([[1.9999999 , 0.99999994],\n",
              "       [0.99999994, 2.        ]], dtype=float32)"
            ]
          },
          "metadata": {},
          "execution_count": 115
        }
      ]
    },
    {
      "cell_type": "code",
      "source": [
        "d,n = 2,1000\n",
        "\n",
        "u = np.random.normal(loc=0, scale=1, size=d*n).reshape(d,n)\n",
        "u.shape\n",
        "\n",
        "x = m + np.dot(L, u)\n",
        "x[0].shape"
      ],
      "metadata": {
        "colab": {
          "base_uri": "https://localhost:8080/"
        },
        "id": "rTZ02awi-eLA",
        "outputId": "bdd72f71-c3ad-4969-d165-59bd1dc84563"
      },
      "execution_count": 126,
      "outputs": [
        {
          "output_type": "execute_result",
          "data": {
            "text/plain": [
              "(1000,)"
            ]
          },
          "metadata": {},
          "execution_count": 126
        }
      ]
    },
    {
      "cell_type": "markdown",
      "source": [
        "For a bivariate normal distribution, the following plot is the expected result, this can be used a metric to test our sampling function"
      ],
      "metadata": {
        "id": "x61mSFy7hG2q"
      }
    },
    {
      "cell_type": "code",
      "source": [
        "sns.jointplot(x=x[0], y=x[1], kind=\"kde\", space=0);\n"
      ],
      "metadata": {
        "colab": {
          "base_uri": "https://localhost:8080/",
          "height": 441
        },
        "id": "ithTzFDS-70a",
        "outputId": "27482af1-b7d1-4020-c769-2bde5f790857"
      },
      "execution_count": 124,
      "outputs": [
        {
          "output_type": "display_data",
          "data": {
            "text/plain": [
              "<Figure size 432x432 with 3 Axes>"
            ],
            "image/png": "[encoded data removed]"
          },
          "metadata": {
            "needs_background": "light"
          }
        }
      ]
    },
    {
      "cell_type": "markdown",
      "source": [
        "### Box Muller Approach to sample from normal distribution\n",
        "\n",
        "This mainly revolves around a very interesting concept -<BR/> **FOR ANY DISTRIBUTION, THE CUMULATIVE PROBABILITY DISTRIBUTON FOLLOWS A UNIFORM DISTRIBUTION** <BR/>\n",
        "\n",
        "Essentially, the box muller algorithm takes in 2 uniformly distributed samples ~$U(0,1)$ and gives out 2 normally distributed samples ~$N(0,1)$\n"
      ],
      "metadata": {
        "id": "Z7M53_WTC3pj"
      }
    },
    {
      "cell_type": "code",
      "source": [
        "key_1 =  jax.random.PRNGKey(123)\n",
        "key_2 =  jax.random.PRNGKey(214)\n",
        "\n",
        "u1,u2 = jax.random.uniform(key_1, shape=(1000,), minval = 0.0, maxval = 1.0), jax.random.uniform(key_2, shape=(1000,), minval = 0.0, maxval = 1.0)\n",
        "\n",
        "def Box_Muller(u1,u2):\n",
        "  '''\n",
        "   u1 and u2 are the 2 uniformly distributed samples\n",
        "   Returns: n1 and n2 - 2 normally distributed samples\n",
        "  '''\n",
        "  return (jnp.sqrt(-2 * jnp.log(u1)) * jnp.cos(2*jnp.pi*u2), jnp.sqrt(-2 * jnp.log(u1)) * jnp.sin(2*jnp.pi*u2) )\n",
        "  \n",
        "  \n",
        "\n",
        "\n",
        "plt.hist(u2)"
      ],
      "metadata": {
        "colab": {
          "base_uri": "https://localhost:8080/",
          "height": 357
        },
        "id": "rxlladBk_nKX",
        "outputId": "03c82598-dfa3-4d97-f116-032cb6b254a2"
      },
      "execution_count": 157,
      "outputs": [
        {
          "output_type": "execute_result",
          "data": {
            "text/plain": [
              "(array([108.,  91., 105., 103.,  92.,  99., 105.,  99., 103.,  95.]),\n",
              " array([5.4979324e-04, 1.0042624e-01, 2.0030269e-01, 3.0017915e-01,\n",
              "        4.0005559e-01, 4.9993205e-01, 5.9980851e-01, 6.9968498e-01,\n",
              "        7.9956138e-01, 8.9943784e-01, 9.9931431e-01], dtype=float32),\n",
              " <a list of 10 Patch objects>)"
            ]
          },
          "metadata": {},
          "execution_count": 157
        },
        {
          "output_type": "display_data",
          "data": {
            "text/plain": [
              "<Figure size 432x288 with 1 Axes>"
            ],
            "image/png": "[encoded data removed]"
          },
          "metadata": {
            "needs_background": "light"
          }
        }
      ]
    },
    {
      "cell_type": "code",
      "source": [
        "x1,x2 = Box_Muller(u1,u2)\n",
        "\n",
        "fig,axs = plt.subplots(2,2)\n",
        "axs[0,1].hist(x1)\n",
        "axs[1,1].hist(x2)\n",
        "axs[0,0].hist(u1)\n",
        "axs[1,0].hist(u2)\n",
        "\n",
        "# temp1,temp2 = jax.random.uniform(key_1,(1,)), jax.random.uniform(key_1,(1,))\n",
        "# print(Box_Muller(temp1,temp2))\n",
        "print(x1.shape)"
      ],
      "metadata": {
        "colab": {
          "base_uri": "https://localhost:8080/",
          "height": 283
        },
        "id": "WsQcLjTpUca_",
        "outputId": "6a60c784-7086-4a32-9ba7-e2e19bb2c07a"
      },
      "execution_count": 168,
      "outputs": [
        {
          "output_type": "stream",
          "name": "stdout",
          "text": [
            "(1000,)\n"
          ]
        },
        {
          "output_type": "display_data",
          "data": {
            "text/plain": [
              "<Figure size 432x288 with 4 Axes>"
            ],
            "image/png": "[encoded data removed]"
          },
          "metadata": {
            "needs_background": "light"
          }
        }
      ]
    },
    {
      "cell_type": "markdown",
      "source": [
        "### Sampling Function"
      ],
      "metadata": {
        "id": "djtMTqcMhTKF"
      }
    },
    {
      "cell_type": "code",
      "source": [
        "def sample(d,N,mu,K,key):\n",
        "  '''\n",
        "        d ---> dimension of the multivariate random variable\n",
        "        N ---> number of samples required\n",
        "        mu ---> mean dx1 vector\n",
        "        K ---> variance dxd matrix\n",
        "        key ---> key to sample from uniform distribution\n",
        "  '''\n",
        "\n",
        "  L = cholesky(K)\n",
        "  key1,key2 = jax.random.split(key,num = 2)\n",
        "  u1,u2 = jax.random.uniform(key1, shape=(d,N), minval = 0.0, maxval = 1.0), jax.random.uniform(key2, shape=(d,N), minval = 0.0, maxval = 1.0)\n",
        "\n",
        "  x1,x2 = Box_Muller(u1,u2)   #x1,x2 are standard normal samples. dxN matrix\n",
        "\n",
        "  L = cholesky(K)\n",
        "\n",
        "  x = mu + np.dot(L, x1)\n",
        "\n",
        "\n",
        "\n",
        "  return x"
      ],
      "metadata": {
        "id": "tYBGXaNOyVOK"
      },
      "execution_count": 188,
      "outputs": []
    },
    {
      "cell_type": "code",
      "source": [
        "#Using same parameters as earlier\n",
        "\n",
        "d,N = 2,1000\n",
        "\n",
        "m = np.array([[1],[2]])\n",
        "K = np.array([[2,1],[1,2]])\n",
        "\n",
        "key = jax.random.PRNGKey(seed)\n",
        "\n",
        "test = sample(d,N,m,K,key)\n",
        "\n",
        "sns.jointplot(x=test[0], y=test[1], kind=\"kde\", space=0);\n"
      ],
      "metadata": {
        "colab": {
          "base_uri": "https://localhost:8080/",
          "height": 441
        },
        "id": "mgxrN3ppipio",
        "outputId": "e6d8cfae-7f2a-4825-d7ab-0f9f3a0b8d5d"
      },
      "execution_count": 172,
      "outputs": [
        {
          "output_type": "display_data",
          "data": {
            "text/plain": [
              "<Figure size 432x432 with 3 Axes>"
            ],
            "image/png": "[encoded data removed]"
          },
          "metadata": {
            "needs_background": "light"
          }
        }
      ]
    },
    {
      "cell_type": "markdown",
      "source": [
        "The mean vector and covariance matrix for an n-dimensional random variable is generated using the below function. It should be noted the covariance matrix should be positive definite. This is done so by generating a random matrix M, then the K is initialised as $M.M^T$, this essentially means the random matrix M is the cholesky of the generated covariance matrix"
      ],
      "metadata": {
        "id": "xkbj9rbLmvZZ"
      }
    },
    {
      "cell_type": "code",
      "source": [
        "def generate_mu_and_k(d,key):\n",
        "  key1,key2 = jax.random.split(key,num = 2)\n",
        "  mu = jax.random.uniform(key1, shape= (d,1))\n",
        "  temp_matrix = jax.random.uniform(key2, shape= (d,d))\n",
        "\n",
        "  K = jnp.dot(temp_matrix,temp_matrix.T)\n",
        "\n",
        "  return mu,K\n",
        "\n",
        "\n",
        "mean, covariance = generate_mu_and_k(10,key)"
      ],
      "metadata": {
        "colab": {
          "base_uri": "https://localhost:8080/"
        },
        "id": "Ka-VbgaemnMI",
        "outputId": "a0a1149e-292e-4557-9d98-8776ddc3d56a"
      },
      "execution_count": 195,
      "outputs": [
        {
          "output_type": "execute_result",
          "data": {
            "text/plain": [
              "DeviceArray([[0.0045197 ],\n",
              "             [0.5135027 ],\n",
              "             [0.8613342 ],\n",
              "             [0.06939673],\n",
              "             [0.6875638 ],\n",
              "             [0.85599923],\n",
              "             [0.706004  ],\n",
              "             [0.50679076],\n",
              "             [0.6072922 ],\n",
              "             [0.6199024 ]], dtype=float32)"
            ]
          },
          "metadata": {},
          "execution_count": 195
        }
      ]
    },
    {
      "cell_type": "code",
      "source": [
        "d,N = 10,1000\n",
        "\n",
        "samples = sample(d,N,mean,covariance,key)\n",
        "\n",
        "observed_mean = samples.mean(axis=1)\n",
        "observed_k = jnp.cov(samples)\n",
        "\n",
        "print(f'The actual mean of the sample space, input to the function: \\n{mean}')\n",
        "print(f'The calculated mean as per the samples generated using sample function: \\n{observed_mean}')\n",
        "\n",
        "print(f'The actual covariance of the sample space, input to the function: \\n{covariance}')\n",
        "print(f'The calculated mean as per the samples generated using sample function: \\n{observed_k}')\n",
        "\n"
      ],
      "metadata": {
        "colab": {
          "base_uri": "https://localhost:8080/"
        },
        "id": "RzccPw3LoUZC",
        "outputId": "a6eb8b2b-e1c0-47d8-8997-713f49b285e0"
      },
      "execution_count": 200,
      "outputs": [
        {
          "output_type": "stream",
          "name": "stdout",
          "text": [
            "The actual mean of the sample space, input to the function: \n",
            "[[0.0045197 ]\n",
            " [0.5135027 ]\n",
            " [0.8613342 ]\n",
            " [0.06939673]\n",
            " [0.6875638 ]\n",
            " [0.85599923]\n",
            " [0.706004  ]\n",
            " [0.50679076]\n",
            " [0.6072922 ]\n",
            " [0.6199024 ]]\n",
            "The calculated mean as per the samples generated using sample function: \n",
            "[0.10526367 0.54281324 0.84426373 0.0639572  0.7203185  0.8539151\n",
            " 0.7230889  0.51533437 0.60244524 0.632194  ]\n",
            "The actual covariance of the sample space, input to the function: \n",
            "[[5.783413  2.7517426 3.9042354 2.9406204 3.769911  5.1048956 3.7411938\n",
            "  5.844817  2.7187746 4.4025826]\n",
            " [2.7517426 2.253652  2.3267453 2.2353752 1.931128  3.0893915 2.3837519\n",
            "  3.5224009 1.8559688 2.6733243]\n",
            " [3.9042354 2.3267453 4.7375274 2.738657  2.9219723 4.380641  3.479549\n",
            "  4.8822837 2.51001   4.372005 ]\n",
            " [2.9406204 2.2353752 2.738657  2.7180753 1.9141549 3.3591654 2.4878466\n",
            "  3.8730881 2.086663  2.9490738]\n",
            " [3.769911  1.931128  2.9219723 1.9141549 3.0195374 3.7393577 2.843386\n",
            "  4.129057  2.085702  3.0733302]\n",
            " [5.1048956 3.0893915 4.380641  3.3591654 3.7393577 5.8419695 3.9890661\n",
            "  6.116201  3.6504893 4.311316 ]\n",
            " [3.7411938 2.3837519 3.479549  2.4878466 2.843386  3.9890661 3.8429182\n",
            "  4.621642  2.5249646 3.707567 ]\n",
            " [5.844817  3.5224009 4.8822837 3.8730881 4.129057  6.116201  4.621642\n",
            "  6.910634  3.6961327 5.148758 ]\n",
            " [2.7187746 1.8559688 2.51001   2.086663  2.085702  3.6504893 2.5249646\n",
            "  3.6961327 2.7827206 2.4357963]\n",
            " [4.4025826 2.6733243 4.372005  2.9490738 3.0733302 4.311316  3.707567\n",
            "  5.148758  2.4357963 4.899702 ]]\n",
            "The calculated mean as per the samples generated using sample function: \n",
            "[[ 3.31779938e+01  1.00418558e+01  7.79476309e+00  1.45588851e+00\n",
            "   3.38666034e+00  2.65180230e+00  2.31733775e+00  1.06098831e+00\n",
            "   1.19073761e+00  8.54807675e-01]\n",
            " [ 1.00418558e+01  4.42586136e+00  2.59889174e+00  9.36239660e-01\n",
            "   9.66277897e-01  1.01393890e+00  9.11455274e-01  4.08887208e-01\n",
            "   4.76974636e-01  2.92346448e-01]\n",
            " [ 7.79476309e+00  2.59889174e+00  3.40690327e+00  2.65575409e-01\n",
            "   6.35682523e-01  3.95113081e-01  6.60198390e-01  1.91153705e-01\n",
            "   4.39930886e-01  4.08970445e-01]\n",
            " [ 1.45588851e+00  9.36239660e-01  2.65575409e-01  6.98420286e-01\n",
            "  -2.10487545e-02  3.36605012e-01 -7.74642406e-03  1.26798958e-01\n",
            "   8.73341784e-02  3.21646850e-03]\n",
            " [ 3.38666034e+00  9.66277897e-01  6.35682523e-01 -2.10487545e-02\n",
            "   8.93713832e-01  6.92319274e-01  3.74545097e-01  1.83189780e-01\n",
            "   1.16424195e-01 -4.89141643e-02]\n",
            " [ 2.65180230e+00  1.01393890e+00  3.95113081e-01  3.36605012e-01\n",
            "   6.92319274e-01  1.38755369e+00  1.83653802e-01  2.72488326e-01\n",
            "   1.86252996e-01 -1.74866661e-01]\n",
            " [ 2.31733775e+00  9.11455274e-01  6.60198390e-01 -7.74642406e-03\n",
            "   3.74545097e-01  1.83653802e-01  8.45210314e-01  1.12127081e-01\n",
            "   1.42939106e-01  4.39654291e-02]\n",
            " [ 1.06098831e+00  4.08887208e-01  1.91153705e-01  1.26798958e-01\n",
            "   1.83189780e-01  2.72488326e-01  1.12127081e-01  1.43302128e-01\n",
            "   8.44878480e-02 -1.61252152e-02]\n",
            " [ 1.19073761e+00  4.76974636e-01  4.39930886e-01  8.73341784e-02\n",
            "   1.16424195e-01  1.86252996e-01  1.42939106e-01  8.44878480e-02\n",
            "   2.59638697e-01  1.54834241e-01]\n",
            " [ 8.54807675e-01  2.92346448e-01  4.08970445e-01  3.21646850e-03\n",
            "  -4.89141643e-02 -1.74866661e-01  4.39654291e-02 -1.61252152e-02\n",
            "   1.54834241e-01  2.14663014e-01]]\n"
          ]
        }
      ]
    },
    {
      "cell_type": "markdown",
      "source": [
        "The mean vectors in comparison are in range, with a maximum error of 0.06, but the covariance matrix as per the generated samples is well off range of the true covariance. <br/>\n",
        "I'm not sure about the reason for this error, it has to be looked into."
      ],
      "metadata": {
        "id": "wN1AxpidrPQ4"
      }
    },
    {
      "cell_type": "markdown",
      "source": [
        "#Neural Nets from scratch using JAX"
      ],
      "metadata": {
        "id": "Jhd96f7LiLmD"
      }
    },
    {
      "cell_type": "code",
      "source": [
        "from torchvision import datasets, transforms\n",
        "\n",
        "batch_size = 128\n",
        "\n",
        "dataset_train = datasets.MNIST(root='../data', download=True, train = True, transform= transforms.Compose([transforms.Lambda(lambda x: np.ravel(np.array(x, dtype=np.float32))) ]))\n",
        "dataset_test = datasets.MNIST(root='../data', download=True, train = False, transform= transforms.Compose([transforms.Lambda(lambda x: np.ravel(np.array(x, dtype=np.float32))) ]))\n",
        "\n",
        "\n",
        "train_loader = DataLoader(dataset_train, batch_size, shuffle=True, collate_fn = custom_collate_fn, drop_last=True)\n",
        "test_loader = DataLoader(dataset_test, batch_size, shuffle=False, collate_fn = custom_collate_fn, drop_last=True)\n",
        "\n",
        "# test\n",
        "batch_data = next(iter(train_loader))\n",
        "imgs = batch_data[0]\n",
        "lbls = batch_data[1]\n",
        "print(imgs.shape, imgs[0].dtype, lbls.shape, lbls[0].dtype)\n",
        "\n"
      ],
      "metadata": {
        "colab": {
          "base_uri": "https://localhost:8080/",
          "height": 458,
          "referenced_widgets": [
            "80dcd6f358334b28932840d835fcbdfd",
            "fa651a6db2b1437d99283ba44b94acaa",
            "8744091a433a43fa984c8201c58c947f",
            "67b5117cef3043369611daf478da458c",
            "9c24019ab33e4d43961469c67aebec6f",
            "0d7b3f974a5644af9ad08b5eaecf6cfd",
            "aa8e86b20ce34d409417239ce775a5f9",
            "3b5eca6e84c645cb8a74beb89eae0245",
            "077be2f7a9d54c9296e3a2e2a84f3aea",
            "f4f88742f3c842138d3fa210e27e3595",
            "dff19fada30a49fba2138d9f9c819718",
            "d8a186cb233f4ff1b91af95bc7bf4d84",
            "0bf833ac5b96409280b806caf6227c26",
            "53b6b53debe342c2b371afa118681280",
            "97259d362e7042809867c2359944d85a",
            "4e2bc55590f04261805e960161bf1fe4",
            "79e1eb29aee94f7fb38093e754da6904",
            "d0ac867f87d5476eb1f4a622237fafcc",
            "e473433109ba4af08f29058b5fdc8b68",
            "31ad84a2d70047089accc10b18b84cd7",
            "ba7ce0f7f3a8412ab4a33c004b0f15e6",
            "d8ec31bd1ed34bdb94fb959adce2f762",
            "59e0d51a5b27497db031ed42de4aefdd",
            "0cf551fef7b74e23bfbd71678390378e",
            "5892a1b52af44112b61a59ca6b2fd2a2",
            "fbb4da7f047c443a900ff16fe5aae73d",
            "5da91efda4a148ce82471163e4a7fa30",
            "e4561b6050a04d30a25c29015c7b5e9f",
            "e2179ba221ed4bce9c692e706790524a",
            "f3bc2ea216b5484f9ecca9f8b5f44249",
            "ed0f9e24f8494976a59fe1de43498ad8",
            "7e5ed4ca55a64638b9a39364e2bb7d9a",
            "f59c315d66654bfba74945695ec807f6",
            "ed220142d62d485db4d1aa0d4354d3d7",
            "25a40711da07416497e82f5edb8694e7",
            "27716306e58748dd8faf25569b9fcb57",
            "a8386f05760a4ed08bb29d2d7dda1d5f",
            "9fff5f7ae75c4a508270dfb11e385dd5",
            "7c8b55af1ab14d91baf0023e27406320",
            "d4b3c57724cb43c3a97146a42c507f9b",
            "6bd0111c134f46cc9297af938d4a6667",
            "3d4da91a29b7455580c66361a17c963c",
            "14d3b0d5626e4defa0e67a43fc66f552",
            "dd27448262474120ba55ee285fda6bbd"
          ]
        },
        "id": "Ut4EaZicV32c",
        "outputId": "199659da-66e5-4241-dbda-57d627312714"
      },
      "execution_count": 11,
      "outputs": [
        {
          "output_type": "stream",
          "name": "stdout",
          "text": [
            "Downloading http://yann.lecun.com/exdb/mnist/train-images-idx3-ubyte.gz\n",
            "Downloading http://yann.lecun.com/exdb/mnist/train-images-idx3-ubyte.gz to ../data/MNIST/raw/train-images-idx3-ubyte.gz\n"
          ]
        },
        {
          "output_type": "display_data",
          "data": {
            "text/plain": [
              "  0%|          | 0/9912422 [00:00<?, ?it/s]"
            ],
            "application/vnd.jupyter.widget-view+json": {
              "version_major": 2,
              "version_minor": 0,
              "model_id": "80dcd6f358334b28932840d835fcbdfd"
            }
          },
          "metadata": {}
        },
        {
          "output_type": "stream",
          "name": "stdout",
          "text": [
            "Extracting ../data/MNIST/raw/train-images-idx3-ubyte.gz to ../data/MNIST/raw\n",
            "\n",
            "Downloading http://yann.lecun.com/exdb/mnist/train-labels-idx1-ubyte.gz\n",
            "Downloading http://yann.lecun.com/exdb/mnist/train-labels-idx1-ubyte.gz to ../data/MNIST/raw/train-labels-idx1-ubyte.gz\n"
          ]
        },
        {
          "output_type": "display_data",
          "data": {
            "text/plain": [
              "  0%|          | 0/28881 [00:00<?, ?it/s]"
            ],
            "application/vnd.jupyter.widget-view+json": {
              "version_major": 2,
              "version_minor": 0,
              "model_id": "d8a186cb233f4ff1b91af95bc7bf4d84"
            }
          },
          "metadata": {}
        },
        {
          "output_type": "stream",
          "name": "stdout",
          "text": [
            "Extracting ../data/MNIST/raw/train-labels-idx1-ubyte.gz to ../data/MNIST/raw\n",
            "\n",
            "Downloading http://yann.lecun.com/exdb/mnist/t10k-images-idx3-ubyte.gz\n",
            "Downloading http://yann.lecun.com/exdb/mnist/t10k-images-idx3-ubyte.gz to ../data/MNIST/raw/t10k-images-idx3-ubyte.gz\n"
          ]
        },
        {
          "output_type": "display_data",
          "data": {
            "text/plain": [
              "  0%|          | 0/1648877 [00:00<?, ?it/s]"
            ],
            "application/vnd.jupyter.widget-view+json": {
              "version_major": 2,
              "version_minor": 0,
              "model_id": "59e0d51a5b27497db031ed42de4aefdd"
            }
          },
          "metadata": {}
        },
        {
          "output_type": "stream",
          "name": "stdout",
          "text": [
            "Extracting ../data/MNIST/raw/t10k-images-idx3-ubyte.gz to ../data/MNIST/raw\n",
            "\n",
            "Downloading http://yann.lecun.com/exdb/mnist/t10k-labels-idx1-ubyte.gz\n",
            "Downloading http://yann.lecun.com/exdb/mnist/t10k-labels-idx1-ubyte.gz to ../data/MNIST/raw/t10k-labels-idx1-ubyte.gz\n"
          ]
        },
        {
          "output_type": "display_data",
          "data": {
            "text/plain": [
              "  0%|          | 0/4542 [00:00<?, ?it/s]"
            ],
            "application/vnd.jupyter.widget-view+json": {
              "version_major": 2,
              "version_minor": 0,
              "model_id": "ed220142d62d485db4d1aa0d4354d3d7"
            }
          },
          "metadata": {}
        },
        {
          "output_type": "stream",
          "name": "stdout",
          "text": [
            "Extracting ../data/MNIST/raw/t10k-labels-idx1-ubyte.gz to ../data/MNIST/raw\n",
            "\n",
            "(128, 784) float32 (128,) int64\n"
          ]
        }
      ]
    },
    {
      "cell_type": "code",
      "source": [
        "# optimization - loading the whole dataset into memory\n",
        "train_images = jnp.array(dataset_train.data).reshape(len(dataset_train), -1)\n",
        "train_labels = jnp.array(dataset_train.targets)\n",
        "\n",
        "test_images = jnp.array(dataset_test.data).reshape(len(dataset_test), -1)\n",
        "test_labels = jnp.array(dataset_test.targets)\n",
        "\n",
        "test_labels.shape"
      ],
      "metadata": {
        "colab": {
          "base_uri": "https://localhost:8080/"
        },
        "id": "Z-JaxviiYjVY",
        "outputId": "4420e381-489c-4e14-8dca-199b3d1144da"
      },
      "execution_count": 173,
      "outputs": [
        {
          "output_type": "execute_result",
          "data": {
            "text/plain": [
              "(10000,)"
            ]
          },
          "metadata": {},
          "execution_count": 173
        }
      ]
    },
    {
      "cell_type": "code",
      "source": [
        "\n",
        "\n",
        "def accuracy(parameters, imgs, labels):\n",
        "    final_pred = jnp.argmax(batch_predict(parameters,imgs), axis=1)\n",
        "    return jnp.mean(labels == final_pred)\n",
        "\n",
        "def custom_collate_fn(batch):\n",
        "    transposed_data = list(zip(*batch))\n",
        "\n",
        "    labels = np.array(transposed_data[1])\n",
        "    imgs = np.stack(transposed_data[0])\n",
        "\n",
        "    return imgs, labels\n",
        "\n"
      ],
      "metadata": {
        "id": "GvIsmLEBCyAJ"
      },
      "execution_count": 20,
      "outputs": []
    },
    {
      "cell_type": "code",
      "source": [
        "def JAX_NN_init(layer_widths ,key):\n",
        "    '''\n",
        "      layer_widths ---> list - list of the layer widths\n",
        "                              [784,128,128,10]\n",
        "      key ---> jax.random.PRNGKey - to initialise random weights to the neural net parameters\n",
        "    '''\n",
        "    count = len(layer_widths)\n",
        "\n",
        "    params = []\n",
        "\n",
        "    #Since there are count number of layers, the weights for each layer-layer interaction would have to initialsed with a different key, jax.random.split(key, num)\n",
        "    # is used to generate separate keys\n",
        "    #params would be a list of weights and biases in the following way\n",
        "    # [ [784x128,1x128], [128x128,1x128], [128x10,1x10] ]\n",
        "\n",
        "    layer_keys = jax.random.split(key,num = count-1)\n",
        "\n",
        "    for in_layer,out_layer,layer_key in zip(layer_widths[:count-1],layer_widths[1:],layer_keys):\n",
        "        \n",
        "        #weights and bias are defined separately so again 2 separate keys for each in_layer - out_layer weights\n",
        "        key1,key2 = jax.random.split(layer_key,num = 2)\n",
        "\n",
        "        params.append(\n",
        "            [0.01*jax.random.normal(key1,shape = (out_layer,in_layer)),\n",
        "            0.01*jax.random.normal(key2,shape = (out_layer,))]\n",
        "        )\n",
        "\n",
        "    return params"
      ],
      "metadata": {
        "id": "8bJZX90XvNBc"
      },
      "execution_count": 30,
      "outputs": []
    },
    {
      "cell_type": "code",
      "source": [
        "from jax.scipy.special import logsumexp\n",
        "\n",
        "\n",
        "def predict_utility(params, x):\n",
        "    output = x\n",
        "    for weight,bias in params[:-1]:\n",
        "      output = jax.nn.relu(jnp.dot(weight,output) + bias)\n",
        "    \n",
        "    weight_final, bias_final = params[-1]\n",
        "    output = jnp.dot(weight_final,output) + bias_final\n",
        "\n",
        "    return output- logsumexp(output)\n",
        "\n",
        "batch_predict = vmap(predict_utility, in_axes = (None,0))"
      ],
      "metadata": {
        "id": "QLDLe4ThTt5R"
      },
      "execution_count": 21,
      "outputs": []
    },
    {
      "cell_type": "code",
      "source": [
        "key = jax.random.PRNGKey(seed)\n",
        "test_params = JAX_NN_init([784,256,256,10],key)\n",
        "#params variable of a layer can be considered as a pytree, this makes the grad calculations easier; this facilitates the use of jax.tree_map() too\n",
        "#In a pytree, a device array or a jnp array is considered an object ( not a recursive pytree, unlike a normal list or dictionary)\n",
        "print(jax.tree_map(lambda leaf:leaf.shape, test_params))\n"
      ],
      "metadata": {
        "colab": {
          "base_uri": "https://localhost:8080/"
        },
        "id": "8xTuU_o9JSyE",
        "outputId": "a883d4c5-caf3-47b8-b727-c7243c9045c8"
      },
      "execution_count": 22,
      "outputs": [
        {
          "output_type": "stream",
          "name": "stdout",
          "text": [
            "[[(256, 784), (256,)], [(256, 256), (256,)], [(10, 256), (10,)]]\n"
          ]
        }
      ]
    },
    {
      "cell_type": "code",
      "source": [
        "\n",
        "dummy_imgs_flat = jax.random.normal(key, (16,784))\n",
        "print(dummy_imgs_flat.shape)\n",
        "# predictions = batched_MLP_predict(l.params ,dummy_imgs_flat)\n",
        "predictions = batch_predict(test_params,dummy_imgs_flat)\n",
        "print(predictions.shape)"
      ],
      "metadata": {
        "colab": {
          "base_uri": "https://localhost:8080/"
        },
        "id": "GEfVUSKCnR2o",
        "outputId": "6003cfaf-f0bd-4b23-f62d-1831f76c4b69"
      },
      "execution_count": 23,
      "outputs": [
        {
          "output_type": "stream",
          "name": "stdout",
          "text": [
            "(16, 784)\n",
            "(16, 10)\n"
          ]
        }
      ]
    },
    {
      "cell_type": "code",
      "source": [
        "def loss_fn_MSE(parameters, x, y):\n",
        "  prediction = batch_predict(parameters,x)\n",
        "  # return jnp.mean((prediction - y) ** 2)\n",
        "  return -jnp.mean(prediction * y)\n",
        "\n",
        "def update(parameters, x, y,lr):\n",
        "  loss, grads = jax.value_and_grad(loss_fn_MSE)(parameters, x,y)\n",
        "\n",
        "  updated = jax.tree_multimap(lambda param, grad: param - lr * grad, parameters, grads)\n",
        "  return loss,updated"
      ],
      "metadata": {
        "id": "Fz-F8wccLd-A"
      },
      "execution_count": 29,
      "outputs": []
    },
    {
      "cell_type": "code",
      "source": [
        "def train(model_params,epochs,lr, train_loader):\n",
        "\n",
        "    training_loss = []\n",
        "    training_acc_list = []\n",
        "    test_acc_list = []\n",
        "    iter= []\n",
        "    counter = 0\n",
        "\n",
        "    for epoch in range(epochs):\n",
        "\n",
        "        for index, (imgs, labels) in enumerate(train_loader):\n",
        "\n",
        "            one_hot_labels = jax.nn.one_hot(labels, 10)\n",
        "            \n",
        "            loss, model_params = update(model_params, imgs, one_hot_labels, lr)\n",
        "            \n",
        "            if index % 50 == 0:\n",
        "                print(loss)\n",
        "\n",
        "            training_loss.append(loss)\n",
        "            iter.append(counter)\n",
        "            counter+= 1\n",
        "\n",
        "\n",
        "        train_acc, test_acc = accuracy(model_params,train_images, train_labels), accuracy(model_params,test_images, test_labels)\n",
        "        training_acc_list.append(train_acc)\n",
        "        test_acc_list.append(test_acc)\n",
        "        print(f'Epoch {epoch}, train acc = {train_acc} test acc = {test_acc}') \n",
        "\n",
        "    fig, axs = plt.subplots(2,2)\n",
        "    \n",
        "    axs[0,0].plot(iter,training_loss)\n",
        "    axs[1,0].plot(range(epochs), training_acc_list)\n",
        "    axs[1,1].plot(range(epochs), test_acc_list)"
      ],
      "metadata": {
        "id": "uu8d6IH7PNtR"
      },
      "execution_count": 175,
      "outputs": []
    },
    {
      "cell_type": "code",
      "source": [
        "key = jax.random.PRNGKey(seed)\n",
        "model1_params = JAX_NN_init([784,256,256,10],key)\n",
        "\n",
        "lr,epochs = 0.09,5\n",
        "\n",
        "train(model1_params, epochs, lr, train_loader)"
      ],
      "metadata": {
        "colab": {
          "base_uri": "https://localhost:8080/",
          "height": 1000
        },
        "id": "FRCvgLVIYZiH",
        "outputId": "3eab5a10-b0dc-4a7d-dbf3-c6620ec8b99f"
      },
      "execution_count": 176,
      "outputs": [
        {
          "output_type": "stream",
          "name": "stdout",
          "text": [
            "0.23044327\n",
            "0.061408114\n",
            "0.016992373\n",
            "0.031205386\n",
            "0.021016335\n",
            "0.01787089\n",
            "0.013992402\n",
            "0.016573275\n",
            "0.02179177\n",
            "0.0282278\n",
            "Epoch 0, train acc = 0.9605666995048523 test acc = 0.9569000005722046\n",
            "0.016417822\n",
            "0.015696436\n",
            "0.009077636\n",
            "0.01867073\n",
            "0.005052063\n",
            "0.01880977\n",
            "0.018405134\n",
            "0.005519554\n",
            "0.00796351\n",
            "0.0062861773\n",
            "Epoch 1, train acc = 0.975600004196167 test acc = 0.9692999720573425\n",
            "0.007411533\n",
            "0.009987469\n",
            "0.0032945126\n",
            "0.004434475\n",
            "0.015207159\n",
            "0.0038528217\n",
            "0.015746728\n",
            "0.0065361573\n",
            "0.002711754\n",
            "0.010327849\n",
            "Epoch 2, train acc = 0.9837833642959595 test acc = 0.9734999537467957\n",
            "0.0028962053\n",
            "0.0035768286\n",
            "0.007564408\n",
            "0.0031029142\n",
            "0.0035345212\n",
            "0.0021118168\n",
            "0.002007731\n",
            "0.00812163\n",
            "0.0045756334\n",
            "0.0025622472\n",
            "Epoch 3, train acc = 0.9865000247955322 test acc = 0.9736999869346619\n",
            "0.009336651\n",
            "0.01051903\n",
            "0.0028475877\n",
            "0.00108325\n",
            "0.0033010119\n",
            "0.013923133\n",
            "0.0015641664\n",
            "0.003515257\n",
            "0.0037576773\n",
            "0.0014283058\n",
            "Epoch 4, train acc = 0.991183340549469 test acc = 0.9763000011444092\n"
          ]
        },
        {
          "output_type": "display_data",
          "data": {
            "text/plain": [
              "<Figure size 432x288 with 4 Axes>"
            ],
            "image/png": "[encoded data removed]"
          },
          "metadata": {
            "needs_background": "light"
          }
        }
      ]
    },
    {
      "cell_type": "code",
      "source": [
        ""
      ],
      "metadata": {
        "id": "SrUnDsgqjoF3"
      },
      "execution_count": null,
      "outputs": []
    },
    {
      "cell_type": "markdown",
      "source": [
        "#References\n",
        "\n",
        "The following blogpost provided background information about multivariate normal distribution and using Cholesky Decomposition to obtain MVN samples.<br/>\n",
        "https://juanitorduz.github.io/multivariate_normal/<br/>\n",
        "Since the problem statement involved not using jax.random.normal, Box Muller approach was used. The following medium article goes into detail, the various methods to randomly sample from a standard normal distribution(like the Marsaglia polar method and Box muller approach), and the under-the-hood working of various random number generators used in libraries like numpy<br/>\n",
        "https://medium.com/mti-technology/how-to-generate-gaussian-samples-347c391b7959\n",
        "\n",
        "The following video series by AI Epiphany was very helpful to understand the main concepts of JAX like *vmap, grad, jit* and most importantly *pytrees*. The concept of *tree_map()* and *tree_multimap()* was tricky to grasp at first. <br/>\n",
        "https://www.youtube.com/watch?v=SstuvS-tVc0 <br/>\n",
        "https://github.com/gordicaleksa/get-started-with-JAX"
      ],
      "metadata": {
        "id": "M1fhbnh2B491"
      }
    },
    {
      "cell_type": "code",
      "source": [
        ""
      ],
      "metadata": {
        "id": "by5ZCAiiClC7"
      },
      "execution_count": null,
      "outputs": []
    }
  ]
}